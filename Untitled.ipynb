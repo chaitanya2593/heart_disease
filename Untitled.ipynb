{
 "cells": [
  {
   "cell_type": "markdown",
   "id": "ebb673b7",
   "metadata": {},
   "source": [
    "# A Short Guide to Documenting Code\n",
    "Chaitanya Madduri, June 5, 2022\n",
    "\n",
    "\n",
    "> <i> This code is about the ML Model deployment using teh DASH </i>\n",
    "\n",
    "\n",
    "There are four elements to documenting an Ipython notebook \n",
    "\n",
    "1. _Type Annotation_ of functions\n",
    "2. _Docstrings_\n",
    "3. _Commenting_\n",
    "4. _Markdown_ cells\n",
    "\n",
    "Let's take each in order."
   ]
  },
  {
   "cell_type": "code",
   "execution_count": 1,
   "id": "5e9d41b9",
   "metadata": {},
   "outputs": [
    {
     "name": "stderr",
     "output_type": "stream",
     "text": [
      "C:\\Users\\chait\\anaconda3\\lib\\site-packages\\xgboost\\compat.py:36: FutureWarning: pandas.Int64Index is deprecated and will be removed from pandas in a future version. Use pandas.Index with the appropriate dtype instead.\n",
      "  from pandas import MultiIndex, Int64Index\n"
     ]
    },
    {
     "name": "stdout",
     "output_type": "stream",
     "text": [
      "[11:59:36] WARNING: C:/Users/Administrator/workspace/xgboost-win64_release_1.5.0/src/learner.cc:1115: Starting in XGBoost 1.3.0, the default evaluation metric used with the objective 'multi:softprob' was changed from 'merror' to 'mlogloss'. Explicitly set eval_metric if you'd like to restore the old behavior.\n"
     ]
    },
    {
     "name": "stderr",
     "output_type": "stream",
     "text": [
      "C:\\Users\\chait\\anaconda3\\lib\\site-packages\\xgboost\\sklearn.py:1224: UserWarning: The use of label encoder in XGBClassifier is deprecated and will be removed in a future release. To remove this warning, do the following: 1) Pass option use_label_encoder=False when constructing XGBClassifier object; and 2) Encode your labels (y) as integers starting with 0, i.e. 0, 1, 2, ..., [num_class - 1].\n",
      "  warnings.warn(label_encoder_deprecation_msg, UserWarning)\n"
     ]
    }
   ],
   "source": [
    "# ML_model.py\n",
    "from sklearn import datasets\n",
    "from xgboost import XGBClassifier\n",
    "import pickle\n",
    "#Importing dataset from sklearn\n",
    "iris = datasets.load_iris() \n",
    "X = iris.data               \n",
    "y = iris.target\n",
    "#Create an XGB classifier\n",
    "clf = XGBClassifier()\n",
    "clf.fit(X, y)\n",
    "# Export the ML model\n",
    "with open(r'xgb_model_iris.pickle', 'wb') as f:\n",
    "    pickle.dump(clf, f)"
   ]
  },
  {
   "cell_type": "code",
   "execution_count": null,
   "id": "a6eba554",
   "metadata": {},
   "outputs": [],
   "source": []
  },
  {
   "cell_type": "code",
   "execution_count": null,
   "id": "8376482e",
   "metadata": {},
   "outputs": [],
   "source": []
  },
  {
   "cell_type": "code",
   "execution_count": null,
   "id": "5051b83c",
   "metadata": {},
   "outputs": [],
   "source": []
  }
 ],
 "metadata": {
  "kernelspec": {
   "display_name": "Python 3 (ipykernel)",
   "language": "python",
   "name": "python3"
  },
  "language_info": {
   "codemirror_mode": {
    "name": "ipython",
    "version": 3
   },
   "file_extension": ".py",
   "mimetype": "text/x-python",
   "name": "python",
   "nbconvert_exporter": "python",
   "pygments_lexer": "ipython3",
   "version": "3.8.8"
  }
 },
 "nbformat": 4,
 "nbformat_minor": 5
}
