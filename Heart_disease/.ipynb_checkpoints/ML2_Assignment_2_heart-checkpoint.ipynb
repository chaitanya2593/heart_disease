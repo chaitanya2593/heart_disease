{
 "cells": [
  {
   "cell_type": "markdown",
   "metadata": {},
   "source": [
    "# Heart Disease Prediction using SVM and Hyperparameter\n",
    "Group 5, April 15, 2022\n",
    "\n",
    "Group Members:\n",
    "\n",
    "1. Chaitanya Madduri\n",
    "2. Eduardo Garcia\n",
    "3. Thi Anh Ba Dang\n",
    "4. Vishnu Prabhakar\n",
    "5. Yumeng Zhang\n",
    "\n",
    "\n",
    "- *Data Origin* : University of California, Irvine\n",
    "- *URL*: https://archive.ics.uci.edu/ml/machine-learning-databases/heart-disease/\n",
    "\n",
    "- *Brief Summary of the dataset*: The level of analysis is by person and it has demographic information (Age, Sex), pyshical status of the patient (Chest pain, Resting blood preasure, cholesterol, fasting blood pressure, resting ECG, max heart rate, exercise angina, old peak, slope of peak) and the diagnostic data (Hearth disease).\n",
    "\n",
    "- *Objective of the Analysis*: Patient diagnostic prediction of hearth diseases using 11 varaibles from demographic and physical status of the patient.\n",
    "\n",
    "- *Methodology*: We will be using 2 Kernels (Polynomial and RBF) as our classification model, each kernel will be optimized for F2 and F0.5 indicators using GridSearch as optimization techniques \n"
   ]
  },
  {
   "cell_type": "markdown",
   "metadata": {},
   "source": [
    "### Detail Context\n",
    "- Cardiovascular diseases (CVDs) are the number 1 cause of death globally, taking an estimated 17.9 million lives each year, which accounts for 31% of all deaths worldwide. Four out of 5CVD deaths are due to heart attacks and strokes, and one-third of these deaths occur prematurely in people under 70 years of age. Heart failure is a common event caused by CVDs and this dataset contains 11 features that can be used to predict a possible heart disease.\n",
    "\n",
    "- People with cardiovascular disease or who are at high cardiovascular risk (due to the presence of one or more risk factors such as hypertension, diabetes, hyperlipidaemia or already established disease) need early detection and management wherein a machine learning model can be of great help.\n",
    "\n",
    "### Attribute Information\n",
    "\n",
    "- Age: age of the patient [years]\n",
    "- Sex: sex of the patient [M: Male, F: Female]\n",
    "- ChestPainType: chest pain type [TA: Typical Angina, ATA: Atypical Angina, NAP: Non-Anginal Pain, ASY: Asymptomatic]\n",
    "- RestingBP: resting blood pressure [mm Hg]\n",
    "- Cholesterol: serum cholesterol [mm/dl]\n",
    "- FastingBS: fasting blood sugar [1: if FastingBS > 120 mg/dl, 0: otherwise]\n",
    "- RestingECG: resting electrocardiogram results [Normal: Normal, ST: having ST-T wave abnormality (T wave inversions and/or ST elevation or depression of > 0.05 mV), LVH: showing probable or definite left ventricular hypertrophy by Estes' criteria]\n",
    "- MaxHR: maximum heart rate achieved [Numeric value between 60 and 202]\n",
    "- ExerciseAngina: exercise-induced angina [Y: Yes, N: No]\n",
    "- Oldpeak: oldpeak = ST [Numeric value measured in depression]\n",
    "- ST_Slope: the slope of the peak exercise ST segment [Up: upsloping, Flat: flat, Down: downsloping]\n",
    "- HeartDisease: output class [1: heart disease, 0: Normal]\n",
    "\n",
    "### Source\n",
    "- This dataset was created by combining different datasets already available independently but not combined before. In this dataset, 5 heart datasets are combined over 11 common features which makes it the largest heart disease dataset available so far for research purposes. The five datasets used for its curation are:\n",
    "\n",
    "    - Cleveland: 303 observations\n",
    "    - Hungarian: 294 observations\n",
    "    - Switzerland: 123 observations\n",
    "    - Long Beach VA: 200 observations\n",
    "    - Stalog (Heart) Data Set: 270 observations\n",
    "    - Total: 1190 observations\n",
    "    - Duplicated: 272 observations\n",
    "\n",
    "- Final dataset: 918 observations\n",
    "\n",
    "- Every dataset used can be found under the Index of heart disease datasets from UCI Machine Learning Repository on the following link: https://archive.ics.uci.edu/ml/machine-learning-databases/heart-disease/"
   ]
  },
  {
   "cell_type": "markdown",
   "metadata": {
    "id": "6BF6X74nztIn"
   },
   "source": [
    "# 1. Tools and Packages"
   ]
  },
  {
   "cell_type": "code",
   "execution_count": 217,
   "metadata": {
    "id": "8sSOO-0Sg9JV"
   },
   "outputs": [],
   "source": [
    "import numpy as np\n",
    "import pandas as pd\n",
    "from sklearn import datasets\n",
    "from sklearn.model_selection import train_test_split\n",
    "from sklearn.preprocessing import StandardScaler\n",
    "from sklearn import svm\n",
    "from sklearn.metrics import classification_report\n",
    "from sklearn import metrics\n",
    "from sklearn.metrics import confusion_matrix\n",
    "from sklearn.model_selection import KFold, cross_val_score, validation_curve\n",
    "from sklearn.metrics import fbeta_score\n",
    "from sklearn.metrics import make_scorer\n",
    "from sklearn.model_selection import GridSearchCV, RandomizedSearchCV\n",
    "from sklearn.preprocessing import LabelEncoder\n",
    "from sklearn.preprocessing import MinMaxScaler\n",
    "\n",
    "#picking models for prediction.\n",
    "from sklearn.svm import SVC\n",
    "\n",
    "#ensemble models for better performance\n",
    "from sklearn.ensemble import RandomForestClassifier\n",
    "\n",
    "import matplotlib.pyplot as plt\n",
    "import time\n",
    "import seaborn as sns\n",
    "from matplotlib import cm\n",
    "%matplotlib inline\n",
    "import warnings\n",
    "warnings.filterwarnings(\"ignore\")"
   ]
  },
  {
   "cell_type": "code",
   "execution_count": 218,
   "metadata": {},
   "outputs": [],
   "source": [
    "# TO print multiple outputs in single line\n",
    "from IPython.core.interactiveshell import InteractiveShell\n",
    "InteractiveShell.ast_node_interactivity = \"all\""
   ]
  },
  {
   "cell_type": "markdown",
   "metadata": {
    "id": "qwEQtQNNBd5h"
   },
   "source": [
    "# 2. Data Preparation\n",
    "\n",
    "The next stage we will clean the dataset and prepare all the functions needed to later execute, train, test our model."
   ]
  },
  {
   "cell_type": "markdown",
   "metadata": {
    "id": "YS69dLlWyxV6",
    "outputId": "14d9dd2c-40da-44aa-b6ae-7d4422c2f396"
   },
   "source": [
    "### 2.1 Cleaning Data"
   ]
  },
  {
   "cell_type": "code",
   "execution_count": 219,
   "metadata": {
    "colab": {
     "base_uri": "https://localhost:8080/",
     "height": 487
    },
    "id": "NcIfr2fzzT0P",
    "outputId": "a1f51dfe-34d1-45f3-efd5-d571b4bf8c63"
   },
   "outputs": [
    {
     "data": {
      "text/html": [
       "<div>\n",
       "<style scoped>\n",
       "    .dataframe tbody tr th:only-of-type {\n",
       "        vertical-align: middle;\n",
       "    }\n",
       "\n",
       "    .dataframe tbody tr th {\n",
       "        vertical-align: top;\n",
       "    }\n",
       "\n",
       "    .dataframe thead th {\n",
       "        text-align: right;\n",
       "    }\n",
       "</style>\n",
       "<table border=\"1\" class=\"dataframe\">\n",
       "  <thead>\n",
       "    <tr style=\"text-align: right;\">\n",
       "      <th></th>\n",
       "      <th>Age</th>\n",
       "      <th>Sex</th>\n",
       "      <th>ChestPainType</th>\n",
       "      <th>RestingBP</th>\n",
       "      <th>Cholesterol</th>\n",
       "      <th>FastingBS</th>\n",
       "      <th>RestingECG</th>\n",
       "      <th>MaxHR</th>\n",
       "      <th>ExerciseAngina</th>\n",
       "      <th>Oldpeak</th>\n",
       "      <th>ST_Slope</th>\n",
       "      <th>HeartDisease</th>\n",
       "    </tr>\n",
       "  </thead>\n",
       "  <tbody>\n",
       "    <tr>\n",
       "      <th>0</th>\n",
       "      <td>40</td>\n",
       "      <td>M</td>\n",
       "      <td>ATA</td>\n",
       "      <td>140</td>\n",
       "      <td>289</td>\n",
       "      <td>0</td>\n",
       "      <td>Normal</td>\n",
       "      <td>172</td>\n",
       "      <td>N</td>\n",
       "      <td>0.0</td>\n",
       "      <td>Up</td>\n",
       "      <td>0</td>\n",
       "    </tr>\n",
       "    <tr>\n",
       "      <th>1</th>\n",
       "      <td>49</td>\n",
       "      <td>F</td>\n",
       "      <td>NAP</td>\n",
       "      <td>160</td>\n",
       "      <td>180</td>\n",
       "      <td>0</td>\n",
       "      <td>Normal</td>\n",
       "      <td>156</td>\n",
       "      <td>N</td>\n",
       "      <td>1.0</td>\n",
       "      <td>Flat</td>\n",
       "      <td>1</td>\n",
       "    </tr>\n",
       "    <tr>\n",
       "      <th>2</th>\n",
       "      <td>37</td>\n",
       "      <td>M</td>\n",
       "      <td>ATA</td>\n",
       "      <td>130</td>\n",
       "      <td>283</td>\n",
       "      <td>0</td>\n",
       "      <td>ST</td>\n",
       "      <td>98</td>\n",
       "      <td>N</td>\n",
       "      <td>0.0</td>\n",
       "      <td>Up</td>\n",
       "      <td>0</td>\n",
       "    </tr>\n",
       "    <tr>\n",
       "      <th>3</th>\n",
       "      <td>48</td>\n",
       "      <td>F</td>\n",
       "      <td>ASY</td>\n",
       "      <td>138</td>\n",
       "      <td>214</td>\n",
       "      <td>0</td>\n",
       "      <td>Normal</td>\n",
       "      <td>108</td>\n",
       "      <td>Y</td>\n",
       "      <td>1.5</td>\n",
       "      <td>Flat</td>\n",
       "      <td>1</td>\n",
       "    </tr>\n",
       "    <tr>\n",
       "      <th>4</th>\n",
       "      <td>54</td>\n",
       "      <td>M</td>\n",
       "      <td>NAP</td>\n",
       "      <td>150</td>\n",
       "      <td>195</td>\n",
       "      <td>0</td>\n",
       "      <td>Normal</td>\n",
       "      <td>122</td>\n",
       "      <td>N</td>\n",
       "      <td>0.0</td>\n",
       "      <td>Up</td>\n",
       "      <td>0</td>\n",
       "    </tr>\n",
       "    <tr>\n",
       "      <th>...</th>\n",
       "      <td>...</td>\n",
       "      <td>...</td>\n",
       "      <td>...</td>\n",
       "      <td>...</td>\n",
       "      <td>...</td>\n",
       "      <td>...</td>\n",
       "      <td>...</td>\n",
       "      <td>...</td>\n",
       "      <td>...</td>\n",
       "      <td>...</td>\n",
       "      <td>...</td>\n",
       "      <td>...</td>\n",
       "    </tr>\n",
       "    <tr>\n",
       "      <th>913</th>\n",
       "      <td>45</td>\n",
       "      <td>M</td>\n",
       "      <td>TA</td>\n",
       "      <td>110</td>\n",
       "      <td>264</td>\n",
       "      <td>0</td>\n",
       "      <td>Normal</td>\n",
       "      <td>132</td>\n",
       "      <td>N</td>\n",
       "      <td>1.2</td>\n",
       "      <td>Flat</td>\n",
       "      <td>1</td>\n",
       "    </tr>\n",
       "    <tr>\n",
       "      <th>914</th>\n",
       "      <td>68</td>\n",
       "      <td>M</td>\n",
       "      <td>ASY</td>\n",
       "      <td>144</td>\n",
       "      <td>193</td>\n",
       "      <td>1</td>\n",
       "      <td>Normal</td>\n",
       "      <td>141</td>\n",
       "      <td>N</td>\n",
       "      <td>3.4</td>\n",
       "      <td>Flat</td>\n",
       "      <td>1</td>\n",
       "    </tr>\n",
       "    <tr>\n",
       "      <th>915</th>\n",
       "      <td>57</td>\n",
       "      <td>M</td>\n",
       "      <td>ASY</td>\n",
       "      <td>130</td>\n",
       "      <td>131</td>\n",
       "      <td>0</td>\n",
       "      <td>Normal</td>\n",
       "      <td>115</td>\n",
       "      <td>Y</td>\n",
       "      <td>1.2</td>\n",
       "      <td>Flat</td>\n",
       "      <td>1</td>\n",
       "    </tr>\n",
       "    <tr>\n",
       "      <th>916</th>\n",
       "      <td>57</td>\n",
       "      <td>F</td>\n",
       "      <td>ATA</td>\n",
       "      <td>130</td>\n",
       "      <td>236</td>\n",
       "      <td>0</td>\n",
       "      <td>LVH</td>\n",
       "      <td>174</td>\n",
       "      <td>N</td>\n",
       "      <td>0.0</td>\n",
       "      <td>Flat</td>\n",
       "      <td>1</td>\n",
       "    </tr>\n",
       "    <tr>\n",
       "      <th>917</th>\n",
       "      <td>38</td>\n",
       "      <td>M</td>\n",
       "      <td>NAP</td>\n",
       "      <td>138</td>\n",
       "      <td>175</td>\n",
       "      <td>0</td>\n",
       "      <td>Normal</td>\n",
       "      <td>173</td>\n",
       "      <td>N</td>\n",
       "      <td>0.0</td>\n",
       "      <td>Up</td>\n",
       "      <td>0</td>\n",
       "    </tr>\n",
       "  </tbody>\n",
       "</table>\n",
       "<p>918 rows × 12 columns</p>\n",
       "</div>"
      ],
      "text/plain": [
       "     Age Sex ChestPainType  RestingBP  Cholesterol  FastingBS RestingECG  \\\n",
       "0     40   M           ATA        140          289          0     Normal   \n",
       "1     49   F           NAP        160          180          0     Normal   \n",
       "2     37   M           ATA        130          283          0         ST   \n",
       "3     48   F           ASY        138          214          0     Normal   \n",
       "4     54   M           NAP        150          195          0     Normal   \n",
       "..   ...  ..           ...        ...          ...        ...        ...   \n",
       "913   45   M            TA        110          264          0     Normal   \n",
       "914   68   M           ASY        144          193          1     Normal   \n",
       "915   57   M           ASY        130          131          0     Normal   \n",
       "916   57   F           ATA        130          236          0        LVH   \n",
       "917   38   M           NAP        138          175          0     Normal   \n",
       "\n",
       "     MaxHR ExerciseAngina  Oldpeak ST_Slope  HeartDisease  \n",
       "0      172              N      0.0       Up             0  \n",
       "1      156              N      1.0     Flat             1  \n",
       "2       98              N      0.0       Up             0  \n",
       "3      108              Y      1.5     Flat             1  \n",
       "4      122              N      0.0       Up             0  \n",
       "..     ...            ...      ...      ...           ...  \n",
       "913    132              N      1.2     Flat             1  \n",
       "914    141              N      3.4     Flat             1  \n",
       "915    115              Y      1.2     Flat             1  \n",
       "916    174              N      0.0     Flat             1  \n",
       "917    173              N      0.0       Up             0  \n",
       "\n",
       "[918 rows x 12 columns]"
      ]
     },
     "execution_count": 219,
     "metadata": {},
     "output_type": "execute_result"
    }
   ],
   "source": [
    "data = pd.read_csv('heart.csv')\n",
    "data"
   ]
  },
  {
   "cell_type": "code",
   "execution_count": 220,
   "metadata": {},
   "outputs": [
    {
     "data": {
      "text/html": [
       "<div>\n",
       "<style scoped>\n",
       "    .dataframe tbody tr th:only-of-type {\n",
       "        vertical-align: middle;\n",
       "    }\n",
       "\n",
       "    .dataframe tbody tr th {\n",
       "        vertical-align: top;\n",
       "    }\n",
       "\n",
       "    .dataframe thead th {\n",
       "        text-align: right;\n",
       "    }\n",
       "</style>\n",
       "<table border=\"1\" class=\"dataframe\">\n",
       "  <thead>\n",
       "    <tr style=\"text-align: right;\">\n",
       "      <th></th>\n",
       "      <th>Age</th>\n",
       "      <th>Sex</th>\n",
       "      <th>ChestPainType</th>\n",
       "      <th>RestingBP</th>\n",
       "      <th>Cholesterol</th>\n",
       "      <th>FastingBS</th>\n",
       "      <th>RestingECG</th>\n",
       "      <th>MaxHR</th>\n",
       "      <th>ExerciseAngina</th>\n",
       "      <th>Oldpeak</th>\n",
       "      <th>ST_Slope</th>\n",
       "      <th>HeartDisease</th>\n",
       "    </tr>\n",
       "  </thead>\n",
       "  <tbody>\n",
       "    <tr>\n",
       "      <th>0</th>\n",
       "      <td>40</td>\n",
       "      <td>M</td>\n",
       "      <td>ATA</td>\n",
       "      <td>140</td>\n",
       "      <td>289</td>\n",
       "      <td>0</td>\n",
       "      <td>Normal</td>\n",
       "      <td>172</td>\n",
       "      <td>N</td>\n",
       "      <td>0.0</td>\n",
       "      <td>Up</td>\n",
       "      <td>0</td>\n",
       "    </tr>\n",
       "    <tr>\n",
       "      <th>1</th>\n",
       "      <td>49</td>\n",
       "      <td>F</td>\n",
       "      <td>NAP</td>\n",
       "      <td>160</td>\n",
       "      <td>180</td>\n",
       "      <td>0</td>\n",
       "      <td>Normal</td>\n",
       "      <td>156</td>\n",
       "      <td>N</td>\n",
       "      <td>1.0</td>\n",
       "      <td>Flat</td>\n",
       "      <td>1</td>\n",
       "    </tr>\n",
       "    <tr>\n",
       "      <th>2</th>\n",
       "      <td>37</td>\n",
       "      <td>M</td>\n",
       "      <td>ATA</td>\n",
       "      <td>130</td>\n",
       "      <td>283</td>\n",
       "      <td>0</td>\n",
       "      <td>ST</td>\n",
       "      <td>98</td>\n",
       "      <td>N</td>\n",
       "      <td>0.0</td>\n",
       "      <td>Up</td>\n",
       "      <td>0</td>\n",
       "    </tr>\n",
       "    <tr>\n",
       "      <th>3</th>\n",
       "      <td>48</td>\n",
       "      <td>F</td>\n",
       "      <td>ASY</td>\n",
       "      <td>138</td>\n",
       "      <td>214</td>\n",
       "      <td>0</td>\n",
       "      <td>Normal</td>\n",
       "      <td>108</td>\n",
       "      <td>Y</td>\n",
       "      <td>1.5</td>\n",
       "      <td>Flat</td>\n",
       "      <td>1</td>\n",
       "    </tr>\n",
       "    <tr>\n",
       "      <th>4</th>\n",
       "      <td>54</td>\n",
       "      <td>M</td>\n",
       "      <td>NAP</td>\n",
       "      <td>150</td>\n",
       "      <td>195</td>\n",
       "      <td>0</td>\n",
       "      <td>Normal</td>\n",
       "      <td>122</td>\n",
       "      <td>N</td>\n",
       "      <td>0.0</td>\n",
       "      <td>Up</td>\n",
       "      <td>0</td>\n",
       "    </tr>\n",
       "    <tr>\n",
       "      <th>...</th>\n",
       "      <td>...</td>\n",
       "      <td>...</td>\n",
       "      <td>...</td>\n",
       "      <td>...</td>\n",
       "      <td>...</td>\n",
       "      <td>...</td>\n",
       "      <td>...</td>\n",
       "      <td>...</td>\n",
       "      <td>...</td>\n",
       "      <td>...</td>\n",
       "      <td>...</td>\n",
       "      <td>...</td>\n",
       "    </tr>\n",
       "    <tr>\n",
       "      <th>913</th>\n",
       "      <td>45</td>\n",
       "      <td>M</td>\n",
       "      <td>TA</td>\n",
       "      <td>110</td>\n",
       "      <td>264</td>\n",
       "      <td>0</td>\n",
       "      <td>Normal</td>\n",
       "      <td>132</td>\n",
       "      <td>N</td>\n",
       "      <td>1.2</td>\n",
       "      <td>Flat</td>\n",
       "      <td>1</td>\n",
       "    </tr>\n",
       "    <tr>\n",
       "      <th>914</th>\n",
       "      <td>68</td>\n",
       "      <td>M</td>\n",
       "      <td>ASY</td>\n",
       "      <td>144</td>\n",
       "      <td>193</td>\n",
       "      <td>1</td>\n",
       "      <td>Normal</td>\n",
       "      <td>141</td>\n",
       "      <td>N</td>\n",
       "      <td>3.4</td>\n",
       "      <td>Flat</td>\n",
       "      <td>1</td>\n",
       "    </tr>\n",
       "    <tr>\n",
       "      <th>915</th>\n",
       "      <td>57</td>\n",
       "      <td>M</td>\n",
       "      <td>ASY</td>\n",
       "      <td>130</td>\n",
       "      <td>131</td>\n",
       "      <td>0</td>\n",
       "      <td>Normal</td>\n",
       "      <td>115</td>\n",
       "      <td>Y</td>\n",
       "      <td>1.2</td>\n",
       "      <td>Flat</td>\n",
       "      <td>1</td>\n",
       "    </tr>\n",
       "    <tr>\n",
       "      <th>916</th>\n",
       "      <td>57</td>\n",
       "      <td>F</td>\n",
       "      <td>ATA</td>\n",
       "      <td>130</td>\n",
       "      <td>236</td>\n",
       "      <td>0</td>\n",
       "      <td>LVH</td>\n",
       "      <td>174</td>\n",
       "      <td>N</td>\n",
       "      <td>0.0</td>\n",
       "      <td>Flat</td>\n",
       "      <td>1</td>\n",
       "    </tr>\n",
       "    <tr>\n",
       "      <th>917</th>\n",
       "      <td>38</td>\n",
       "      <td>M</td>\n",
       "      <td>NAP</td>\n",
       "      <td>138</td>\n",
       "      <td>175</td>\n",
       "      <td>0</td>\n",
       "      <td>Normal</td>\n",
       "      <td>173</td>\n",
       "      <td>N</td>\n",
       "      <td>0.0</td>\n",
       "      <td>Up</td>\n",
       "      <td>0</td>\n",
       "    </tr>\n",
       "  </tbody>\n",
       "</table>\n",
       "<p>918 rows × 12 columns</p>\n",
       "</div>"
      ],
      "text/plain": [
       "     Age Sex ChestPainType  RestingBP  Cholesterol  FastingBS RestingECG  \\\n",
       "0     40   M           ATA        140          289          0     Normal   \n",
       "1     49   F           NAP        160          180          0     Normal   \n",
       "2     37   M           ATA        130          283          0         ST   \n",
       "3     48   F           ASY        138          214          0     Normal   \n",
       "4     54   M           NAP        150          195          0     Normal   \n",
       "..   ...  ..           ...        ...          ...        ...        ...   \n",
       "913   45   M            TA        110          264          0     Normal   \n",
       "914   68   M           ASY        144          193          1     Normal   \n",
       "915   57   M           ASY        130          131          0     Normal   \n",
       "916   57   F           ATA        130          236          0        LVH   \n",
       "917   38   M           NAP        138          175          0     Normal   \n",
       "\n",
       "     MaxHR ExerciseAngina  Oldpeak ST_Slope  HeartDisease  \n",
       "0      172              N      0.0       Up             0  \n",
       "1      156              N      1.0     Flat             1  \n",
       "2       98              N      0.0       Up             0  \n",
       "3      108              Y      1.5     Flat             1  \n",
       "4      122              N      0.0       Up             0  \n",
       "..     ...            ...      ...      ...           ...  \n",
       "913    132              N      1.2     Flat             1  \n",
       "914    141              N      3.4     Flat             1  \n",
       "915    115              Y      1.2     Flat             1  \n",
       "916    174              N      0.0     Flat             1  \n",
       "917    173              N      0.0       Up             0  \n",
       "\n",
       "[918 rows x 12 columns]"
      ]
     },
     "execution_count": 220,
     "metadata": {},
     "output_type": "execute_result"
    }
   ],
   "source": [
    "data.drop_duplicates()"
   ]
  },
  {
   "cell_type": "code",
   "execution_count": 221,
   "metadata": {
    "id": "Uxm_muT4Zjcr"
   },
   "outputs": [],
   "source": [
    "# data = data[1:2000]"
   ]
  },
  {
   "cell_type": "code",
   "execution_count": 222,
   "metadata": {
    "id": "lGyVeuDyZjcs"
   },
   "outputs": [],
   "source": [
    "# data.reset_index(drop=True, inplace=True)"
   ]
  },
  {
   "cell_type": "code",
   "execution_count": 223,
   "metadata": {
    "colab": {
     "base_uri": "https://localhost:8080/"
    },
    "id": "OI_OxOPtZjct",
    "outputId": "6042d2d3-3f79-4517-8093-2d8bf9c47783"
   },
   "outputs": [
    {
     "data": {
      "text/plain": [
       "1    508\n",
       "0    410\n",
       "Name: HeartDisease, dtype: int64"
      ]
     },
     "execution_count": 223,
     "metadata": {},
     "output_type": "execute_result"
    }
   ],
   "source": [
    "data['HeartDisease'].value_counts()"
   ]
  },
  {
   "cell_type": "code",
   "execution_count": 224,
   "metadata": {
    "id": "dAhbC5lCza7J",
    "scrolled": false
   },
   "outputs": [
    {
     "data": {
      "application/vnd.plotly.v1+json": {
       "config": {
        "plotlyServerURL": "https://plot.ly"
       },
       "data": [
        {
         "domain": {
          "x": [
           0,
           1
          ],
          "y": [
           0,
           1
          ]
         },
         "hovertemplate": "label=%{label}<br>value=%{value}<extra></extra>",
         "labels": [
          1,
          0
         ],
         "legendgroup": "",
         "name": "",
         "showlegend": true,
         "type": "pie",
         "values": [
          508,
          410
         ]
        }
       ],
       "layout": {
        "legend": {
         "tracegroupgap": 0
        },
        "margin": {
         "t": 60
        },
        "template": {
         "data": {
          "bar": [
           {
            "error_x": {
             "color": "#2a3f5f"
            },
            "error_y": {
             "color": "#2a3f5f"
            },
            "marker": {
             "line": {
              "color": "#E5ECF6",
              "width": 0.5
             },
             "pattern": {
              "fillmode": "overlay",
              "size": 10,
              "solidity": 0.2
             }
            },
            "type": "bar"
           }
          ],
          "barpolar": [
           {
            "marker": {
             "line": {
              "color": "#E5ECF6",
              "width": 0.5
             },
             "pattern": {
              "fillmode": "overlay",
              "size": 10,
              "solidity": 0.2
             }
            },
            "type": "barpolar"
           }
          ],
          "carpet": [
           {
            "aaxis": {
             "endlinecolor": "#2a3f5f",
             "gridcolor": "white",
             "linecolor": "white",
             "minorgridcolor": "white",
             "startlinecolor": "#2a3f5f"
            },
            "baxis": {
             "endlinecolor": "#2a3f5f",
             "gridcolor": "white",
             "linecolor": "white",
             "minorgridcolor": "white",
             "startlinecolor": "#2a3f5f"
            },
            "type": "carpet"
           }
          ],
          "choropleth": [
           {
            "colorbar": {
             "outlinewidth": 0,
             "ticks": ""
            },
            "type": "choropleth"
           }
          ],
          "contour": [
           {
            "colorbar": {
             "outlinewidth": 0,
             "ticks": ""
            },
            "colorscale": [
             [
              0,
              "#0d0887"
             ],
             [
              0.1111111111111111,
              "#46039f"
             ],
             [
              0.2222222222222222,
              "#7201a8"
             ],
             [
              0.3333333333333333,
              "#9c179e"
             ],
             [
              0.4444444444444444,
              "#bd3786"
             ],
             [
              0.5555555555555556,
              "#d8576b"
             ],
             [
              0.6666666666666666,
              "#ed7953"
             ],
             [
              0.7777777777777778,
              "#fb9f3a"
             ],
             [
              0.8888888888888888,
              "#fdca26"
             ],
             [
              1,
              "#f0f921"
             ]
            ],
            "type": "contour"
           }
          ],
          "contourcarpet": [
           {
            "colorbar": {
             "outlinewidth": 0,
             "ticks": ""
            },
            "type": "contourcarpet"
           }
          ],
          "heatmap": [
           {
            "colorbar": {
             "outlinewidth": 0,
             "ticks": ""
            },
            "colorscale": [
             [
              0,
              "#0d0887"
             ],
             [
              0.1111111111111111,
              "#46039f"
             ],
             [
              0.2222222222222222,
              "#7201a8"
             ],
             [
              0.3333333333333333,
              "#9c179e"
             ],
             [
              0.4444444444444444,
              "#bd3786"
             ],
             [
              0.5555555555555556,
              "#d8576b"
             ],
             [
              0.6666666666666666,
              "#ed7953"
             ],
             [
              0.7777777777777778,
              "#fb9f3a"
             ],
             [
              0.8888888888888888,
              "#fdca26"
             ],
             [
              1,
              "#f0f921"
             ]
            ],
            "type": "heatmap"
           }
          ],
          "heatmapgl": [
           {
            "colorbar": {
             "outlinewidth": 0,
             "ticks": ""
            },
            "colorscale": [
             [
              0,
              "#0d0887"
             ],
             [
              0.1111111111111111,
              "#46039f"
             ],
             [
              0.2222222222222222,
              "#7201a8"
             ],
             [
              0.3333333333333333,
              "#9c179e"
             ],
             [
              0.4444444444444444,
              "#bd3786"
             ],
             [
              0.5555555555555556,
              "#d8576b"
             ],
             [
              0.6666666666666666,
              "#ed7953"
             ],
             [
              0.7777777777777778,
              "#fb9f3a"
             ],
             [
              0.8888888888888888,
              "#fdca26"
             ],
             [
              1,
              "#f0f921"
             ]
            ],
            "type": "heatmapgl"
           }
          ],
          "histogram": [
           {
            "marker": {
             "pattern": {
              "fillmode": "overlay",
              "size": 10,
              "solidity": 0.2
             }
            },
            "type": "histogram"
           }
          ],
          "histogram2d": [
           {
            "colorbar": {
             "outlinewidth": 0,
             "ticks": ""
            },
            "colorscale": [
             [
              0,
              "#0d0887"
             ],
             [
              0.1111111111111111,
              "#46039f"
             ],
             [
              0.2222222222222222,
              "#7201a8"
             ],
             [
              0.3333333333333333,
              "#9c179e"
             ],
             [
              0.4444444444444444,
              "#bd3786"
             ],
             [
              0.5555555555555556,
              "#d8576b"
             ],
             [
              0.6666666666666666,
              "#ed7953"
             ],
             [
              0.7777777777777778,
              "#fb9f3a"
             ],
             [
              0.8888888888888888,
              "#fdca26"
             ],
             [
              1,
              "#f0f921"
             ]
            ],
            "type": "histogram2d"
           }
          ],
          "histogram2dcontour": [
           {
            "colorbar": {
             "outlinewidth": 0,
             "ticks": ""
            },
            "colorscale": [
             [
              0,
              "#0d0887"
             ],
             [
              0.1111111111111111,
              "#46039f"
             ],
             [
              0.2222222222222222,
              "#7201a8"
             ],
             [
              0.3333333333333333,
              "#9c179e"
             ],
             [
              0.4444444444444444,
              "#bd3786"
             ],
             [
              0.5555555555555556,
              "#d8576b"
             ],
             [
              0.6666666666666666,
              "#ed7953"
             ],
             [
              0.7777777777777778,
              "#fb9f3a"
             ],
             [
              0.8888888888888888,
              "#fdca26"
             ],
             [
              1,
              "#f0f921"
             ]
            ],
            "type": "histogram2dcontour"
           }
          ],
          "mesh3d": [
           {
            "colorbar": {
             "outlinewidth": 0,
             "ticks": ""
            },
            "type": "mesh3d"
           }
          ],
          "parcoords": [
           {
            "line": {
             "colorbar": {
              "outlinewidth": 0,
              "ticks": ""
             }
            },
            "type": "parcoords"
           }
          ],
          "pie": [
           {
            "automargin": true,
            "type": "pie"
           }
          ],
          "scatter": [
           {
            "marker": {
             "colorbar": {
              "outlinewidth": 0,
              "ticks": ""
             }
            },
            "type": "scatter"
           }
          ],
          "scatter3d": [
           {
            "line": {
             "colorbar": {
              "outlinewidth": 0,
              "ticks": ""
             }
            },
            "marker": {
             "colorbar": {
              "outlinewidth": 0,
              "ticks": ""
             }
            },
            "type": "scatter3d"
           }
          ],
          "scattercarpet": [
           {
            "marker": {
             "colorbar": {
              "outlinewidth": 0,
              "ticks": ""
             }
            },
            "type": "scattercarpet"
           }
          ],
          "scattergeo": [
           {
            "marker": {
             "colorbar": {
              "outlinewidth": 0,
              "ticks": ""
             }
            },
            "type": "scattergeo"
           }
          ],
          "scattergl": [
           {
            "marker": {
             "colorbar": {
              "outlinewidth": 0,
              "ticks": ""
             }
            },
            "type": "scattergl"
           }
          ],
          "scattermapbox": [
           {
            "marker": {
             "colorbar": {
              "outlinewidth": 0,
              "ticks": ""
             }
            },
            "type": "scattermapbox"
           }
          ],
          "scatterpolar": [
           {
            "marker": {
             "colorbar": {
              "outlinewidth": 0,
              "ticks": ""
             }
            },
            "type": "scatterpolar"
           }
          ],
          "scatterpolargl": [
           {
            "marker": {
             "colorbar": {
              "outlinewidth": 0,
              "ticks": ""
             }
            },
            "type": "scatterpolargl"
           }
          ],
          "scatterternary": [
           {
            "marker": {
             "colorbar": {
              "outlinewidth": 0,
              "ticks": ""
             }
            },
            "type": "scatterternary"
           }
          ],
          "surface": [
           {
            "colorbar": {
             "outlinewidth": 0,
             "ticks": ""
            },
            "colorscale": [
             [
              0,
              "#0d0887"
             ],
             [
              0.1111111111111111,
              "#46039f"
             ],
             [
              0.2222222222222222,
              "#7201a8"
             ],
             [
              0.3333333333333333,
              "#9c179e"
             ],
             [
              0.4444444444444444,
              "#bd3786"
             ],
             [
              0.5555555555555556,
              "#d8576b"
             ],
             [
              0.6666666666666666,
              "#ed7953"
             ],
             [
              0.7777777777777778,
              "#fb9f3a"
             ],
             [
              0.8888888888888888,
              "#fdca26"
             ],
             [
              1,
              "#f0f921"
             ]
            ],
            "type": "surface"
           }
          ],
          "table": [
           {
            "cells": {
             "fill": {
              "color": "#EBF0F8"
             },
             "line": {
              "color": "white"
             }
            },
            "header": {
             "fill": {
              "color": "#C8D4E3"
             },
             "line": {
              "color": "white"
             }
            },
            "type": "table"
           }
          ]
         },
         "layout": {
          "annotationdefaults": {
           "arrowcolor": "#2a3f5f",
           "arrowhead": 0,
           "arrowwidth": 1
          },
          "autotypenumbers": "strict",
          "coloraxis": {
           "colorbar": {
            "outlinewidth": 0,
            "ticks": ""
           }
          },
          "colorscale": {
           "diverging": [
            [
             0,
             "#8e0152"
            ],
            [
             0.1,
             "#c51b7d"
            ],
            [
             0.2,
             "#de77ae"
            ],
            [
             0.3,
             "#f1b6da"
            ],
            [
             0.4,
             "#fde0ef"
            ],
            [
             0.5,
             "#f7f7f7"
            ],
            [
             0.6,
             "#e6f5d0"
            ],
            [
             0.7,
             "#b8e186"
            ],
            [
             0.8,
             "#7fbc41"
            ],
            [
             0.9,
             "#4d9221"
            ],
            [
             1,
             "#276419"
            ]
           ],
           "sequential": [
            [
             0,
             "#0d0887"
            ],
            [
             0.1111111111111111,
             "#46039f"
            ],
            [
             0.2222222222222222,
             "#7201a8"
            ],
            [
             0.3333333333333333,
             "#9c179e"
            ],
            [
             0.4444444444444444,
             "#bd3786"
            ],
            [
             0.5555555555555556,
             "#d8576b"
            ],
            [
             0.6666666666666666,
             "#ed7953"
            ],
            [
             0.7777777777777778,
             "#fb9f3a"
            ],
            [
             0.8888888888888888,
             "#fdca26"
            ],
            [
             1,
             "#f0f921"
            ]
           ],
           "sequentialminus": [
            [
             0,
             "#0d0887"
            ],
            [
             0.1111111111111111,
             "#46039f"
            ],
            [
             0.2222222222222222,
             "#7201a8"
            ],
            [
             0.3333333333333333,
             "#9c179e"
            ],
            [
             0.4444444444444444,
             "#bd3786"
            ],
            [
             0.5555555555555556,
             "#d8576b"
            ],
            [
             0.6666666666666666,
             "#ed7953"
            ],
            [
             0.7777777777777778,
             "#fb9f3a"
            ],
            [
             0.8888888888888888,
             "#fdca26"
            ],
            [
             1,
             "#f0f921"
            ]
           ]
          },
          "colorway": [
           "#636efa",
           "#EF553B",
           "#00cc96",
           "#ab63fa",
           "#FFA15A",
           "#19d3f3",
           "#FF6692",
           "#B6E880",
           "#FF97FF",
           "#FECB52"
          ],
          "font": {
           "color": "#2a3f5f"
          },
          "geo": {
           "bgcolor": "white",
           "lakecolor": "white",
           "landcolor": "#E5ECF6",
           "showlakes": true,
           "showland": true,
           "subunitcolor": "white"
          },
          "hoverlabel": {
           "align": "left"
          },
          "hovermode": "closest",
          "mapbox": {
           "style": "light"
          },
          "paper_bgcolor": "white",
          "plot_bgcolor": "#E5ECF6",
          "polar": {
           "angularaxis": {
            "gridcolor": "white",
            "linecolor": "white",
            "ticks": ""
           },
           "bgcolor": "#E5ECF6",
           "radialaxis": {
            "gridcolor": "white",
            "linecolor": "white",
            "ticks": ""
           }
          },
          "scene": {
           "xaxis": {
            "backgroundcolor": "#E5ECF6",
            "gridcolor": "white",
            "gridwidth": 2,
            "linecolor": "white",
            "showbackground": true,
            "ticks": "",
            "zerolinecolor": "white"
           },
           "yaxis": {
            "backgroundcolor": "#E5ECF6",
            "gridcolor": "white",
            "gridwidth": 2,
            "linecolor": "white",
            "showbackground": true,
            "ticks": "",
            "zerolinecolor": "white"
           },
           "zaxis": {
            "backgroundcolor": "#E5ECF6",
            "gridcolor": "white",
            "gridwidth": 2,
            "linecolor": "white",
            "showbackground": true,
            "ticks": "",
            "zerolinecolor": "white"
           }
          },
          "shapedefaults": {
           "line": {
            "color": "#2a3f5f"
           }
          },
          "ternary": {
           "aaxis": {
            "gridcolor": "white",
            "linecolor": "white",
            "ticks": ""
           },
           "baxis": {
            "gridcolor": "white",
            "linecolor": "white",
            "ticks": ""
           },
           "bgcolor": "#E5ECF6",
           "caxis": {
            "gridcolor": "white",
            "linecolor": "white",
            "ticks": ""
           }
          },
          "title": {
           "x": 0.05
          },
          "xaxis": {
           "automargin": true,
           "gridcolor": "white",
           "linecolor": "white",
           "ticks": "",
           "title": {
            "standoff": 15
           },
           "zerolinecolor": "white",
           "zerolinewidth": 2
          },
          "yaxis": {
           "automargin": true,
           "gridcolor": "white",
           "linecolor": "white",
           "ticks": "",
           "title": {
            "standoff": 15
           },
           "zerolinecolor": "white",
           "zerolinewidth": 2
          }
         }
        }
       }
      },
      "text/html": [
       "<div>                            <div id=\"e406e448-b3a4-44fe-8c11-4468126a901d\" class=\"plotly-graph-div\" style=\"height:525px; width:100%;\"></div>            <script type=\"text/javascript\">                require([\"plotly\"], function(Plotly) {                    window.PLOTLYENV=window.PLOTLYENV || {};                                    if (document.getElementById(\"e406e448-b3a4-44fe-8c11-4468126a901d\")) {                    Plotly.newPlot(                        \"e406e448-b3a4-44fe-8c11-4468126a901d\",                        [{\"domain\":{\"x\":[0.0,1.0],\"y\":[0.0,1.0]},\"hovertemplate\":\"label=%{label}<br>value=%{value}<extra></extra>\",\"labels\":[1,0],\"legendgroup\":\"\",\"name\":\"\",\"showlegend\":true,\"values\":[508,410],\"type\":\"pie\"}],                        {\"template\":{\"data\":{\"bar\":[{\"error_x\":{\"color\":\"#2a3f5f\"},\"error_y\":{\"color\":\"#2a3f5f\"},\"marker\":{\"line\":{\"color\":\"#E5ECF6\",\"width\":0.5},\"pattern\":{\"fillmode\":\"overlay\",\"size\":10,\"solidity\":0.2}},\"type\":\"bar\"}],\"barpolar\":[{\"marker\":{\"line\":{\"color\":\"#E5ECF6\",\"width\":0.5},\"pattern\":{\"fillmode\":\"overlay\",\"size\":10,\"solidity\":0.2}},\"type\":\"barpolar\"}],\"carpet\":[{\"aaxis\":{\"endlinecolor\":\"#2a3f5f\",\"gridcolor\":\"white\",\"linecolor\":\"white\",\"minorgridcolor\":\"white\",\"startlinecolor\":\"#2a3f5f\"},\"baxis\":{\"endlinecolor\":\"#2a3f5f\",\"gridcolor\":\"white\",\"linecolor\":\"white\",\"minorgridcolor\":\"white\",\"startlinecolor\":\"#2a3f5f\"},\"type\":\"carpet\"}],\"choropleth\":[{\"colorbar\":{\"outlinewidth\":0,\"ticks\":\"\"},\"type\":\"choropleth\"}],\"contour\":[{\"colorbar\":{\"outlinewidth\":0,\"ticks\":\"\"},\"colorscale\":[[0.0,\"#0d0887\"],[0.1111111111111111,\"#46039f\"],[0.2222222222222222,\"#7201a8\"],[0.3333333333333333,\"#9c179e\"],[0.4444444444444444,\"#bd3786\"],[0.5555555555555556,\"#d8576b\"],[0.6666666666666666,\"#ed7953\"],[0.7777777777777778,\"#fb9f3a\"],[0.8888888888888888,\"#fdca26\"],[1.0,\"#f0f921\"]],\"type\":\"contour\"}],\"contourcarpet\":[{\"colorbar\":{\"outlinewidth\":0,\"ticks\":\"\"},\"type\":\"contourcarpet\"}],\"heatmap\":[{\"colorbar\":{\"outlinewidth\":0,\"ticks\":\"\"},\"colorscale\":[[0.0,\"#0d0887\"],[0.1111111111111111,\"#46039f\"],[0.2222222222222222,\"#7201a8\"],[0.3333333333333333,\"#9c179e\"],[0.4444444444444444,\"#bd3786\"],[0.5555555555555556,\"#d8576b\"],[0.6666666666666666,\"#ed7953\"],[0.7777777777777778,\"#fb9f3a\"],[0.8888888888888888,\"#fdca26\"],[1.0,\"#f0f921\"]],\"type\":\"heatmap\"}],\"heatmapgl\":[{\"colorbar\":{\"outlinewidth\":0,\"ticks\":\"\"},\"colorscale\":[[0.0,\"#0d0887\"],[0.1111111111111111,\"#46039f\"],[0.2222222222222222,\"#7201a8\"],[0.3333333333333333,\"#9c179e\"],[0.4444444444444444,\"#bd3786\"],[0.5555555555555556,\"#d8576b\"],[0.6666666666666666,\"#ed7953\"],[0.7777777777777778,\"#fb9f3a\"],[0.8888888888888888,\"#fdca26\"],[1.0,\"#f0f921\"]],\"type\":\"heatmapgl\"}],\"histogram\":[{\"marker\":{\"pattern\":{\"fillmode\":\"overlay\",\"size\":10,\"solidity\":0.2}},\"type\":\"histogram\"}],\"histogram2d\":[{\"colorbar\":{\"outlinewidth\":0,\"ticks\":\"\"},\"colorscale\":[[0.0,\"#0d0887\"],[0.1111111111111111,\"#46039f\"],[0.2222222222222222,\"#7201a8\"],[0.3333333333333333,\"#9c179e\"],[0.4444444444444444,\"#bd3786\"],[0.5555555555555556,\"#d8576b\"],[0.6666666666666666,\"#ed7953\"],[0.7777777777777778,\"#fb9f3a\"],[0.8888888888888888,\"#fdca26\"],[1.0,\"#f0f921\"]],\"type\":\"histogram2d\"}],\"histogram2dcontour\":[{\"colorbar\":{\"outlinewidth\":0,\"ticks\":\"\"},\"colorscale\":[[0.0,\"#0d0887\"],[0.1111111111111111,\"#46039f\"],[0.2222222222222222,\"#7201a8\"],[0.3333333333333333,\"#9c179e\"],[0.4444444444444444,\"#bd3786\"],[0.5555555555555556,\"#d8576b\"],[0.6666666666666666,\"#ed7953\"],[0.7777777777777778,\"#fb9f3a\"],[0.8888888888888888,\"#fdca26\"],[1.0,\"#f0f921\"]],\"type\":\"histogram2dcontour\"}],\"mesh3d\":[{\"colorbar\":{\"outlinewidth\":0,\"ticks\":\"\"},\"type\":\"mesh3d\"}],\"parcoords\":[{\"line\":{\"colorbar\":{\"outlinewidth\":0,\"ticks\":\"\"}},\"type\":\"parcoords\"}],\"pie\":[{\"automargin\":true,\"type\":\"pie\"}],\"scatter\":[{\"marker\":{\"colorbar\":{\"outlinewidth\":0,\"ticks\":\"\"}},\"type\":\"scatter\"}],\"scatter3d\":[{\"line\":{\"colorbar\":{\"outlinewidth\":0,\"ticks\":\"\"}},\"marker\":{\"colorbar\":{\"outlinewidth\":0,\"ticks\":\"\"}},\"type\":\"scatter3d\"}],\"scattercarpet\":[{\"marker\":{\"colorbar\":{\"outlinewidth\":0,\"ticks\":\"\"}},\"type\":\"scattercarpet\"}],\"scattergeo\":[{\"marker\":{\"colorbar\":{\"outlinewidth\":0,\"ticks\":\"\"}},\"type\":\"scattergeo\"}],\"scattergl\":[{\"marker\":{\"colorbar\":{\"outlinewidth\":0,\"ticks\":\"\"}},\"type\":\"scattergl\"}],\"scattermapbox\":[{\"marker\":{\"colorbar\":{\"outlinewidth\":0,\"ticks\":\"\"}},\"type\":\"scattermapbox\"}],\"scatterpolar\":[{\"marker\":{\"colorbar\":{\"outlinewidth\":0,\"ticks\":\"\"}},\"type\":\"scatterpolar\"}],\"scatterpolargl\":[{\"marker\":{\"colorbar\":{\"outlinewidth\":0,\"ticks\":\"\"}},\"type\":\"scatterpolargl\"}],\"scatterternary\":[{\"marker\":{\"colorbar\":{\"outlinewidth\":0,\"ticks\":\"\"}},\"type\":\"scatterternary\"}],\"surface\":[{\"colorbar\":{\"outlinewidth\":0,\"ticks\":\"\"},\"colorscale\":[[0.0,\"#0d0887\"],[0.1111111111111111,\"#46039f\"],[0.2222222222222222,\"#7201a8\"],[0.3333333333333333,\"#9c179e\"],[0.4444444444444444,\"#bd3786\"],[0.5555555555555556,\"#d8576b\"],[0.6666666666666666,\"#ed7953\"],[0.7777777777777778,\"#fb9f3a\"],[0.8888888888888888,\"#fdca26\"],[1.0,\"#f0f921\"]],\"type\":\"surface\"}],\"table\":[{\"cells\":{\"fill\":{\"color\":\"#EBF0F8\"},\"line\":{\"color\":\"white\"}},\"header\":{\"fill\":{\"color\":\"#C8D4E3\"},\"line\":{\"color\":\"white\"}},\"type\":\"table\"}]},\"layout\":{\"annotationdefaults\":{\"arrowcolor\":\"#2a3f5f\",\"arrowhead\":0,\"arrowwidth\":1},\"autotypenumbers\":\"strict\",\"coloraxis\":{\"colorbar\":{\"outlinewidth\":0,\"ticks\":\"\"}},\"colorscale\":{\"diverging\":[[0,\"#8e0152\"],[0.1,\"#c51b7d\"],[0.2,\"#de77ae\"],[0.3,\"#f1b6da\"],[0.4,\"#fde0ef\"],[0.5,\"#f7f7f7\"],[0.6,\"#e6f5d0\"],[0.7,\"#b8e186\"],[0.8,\"#7fbc41\"],[0.9,\"#4d9221\"],[1,\"#276419\"]],\"sequential\":[[0.0,\"#0d0887\"],[0.1111111111111111,\"#46039f\"],[0.2222222222222222,\"#7201a8\"],[0.3333333333333333,\"#9c179e\"],[0.4444444444444444,\"#bd3786\"],[0.5555555555555556,\"#d8576b\"],[0.6666666666666666,\"#ed7953\"],[0.7777777777777778,\"#fb9f3a\"],[0.8888888888888888,\"#fdca26\"],[1.0,\"#f0f921\"]],\"sequentialminus\":[[0.0,\"#0d0887\"],[0.1111111111111111,\"#46039f\"],[0.2222222222222222,\"#7201a8\"],[0.3333333333333333,\"#9c179e\"],[0.4444444444444444,\"#bd3786\"],[0.5555555555555556,\"#d8576b\"],[0.6666666666666666,\"#ed7953\"],[0.7777777777777778,\"#fb9f3a\"],[0.8888888888888888,\"#fdca26\"],[1.0,\"#f0f921\"]]},\"colorway\":[\"#636efa\",\"#EF553B\",\"#00cc96\",\"#ab63fa\",\"#FFA15A\",\"#19d3f3\",\"#FF6692\",\"#B6E880\",\"#FF97FF\",\"#FECB52\"],\"font\":{\"color\":\"#2a3f5f\"},\"geo\":{\"bgcolor\":\"white\",\"lakecolor\":\"white\",\"landcolor\":\"#E5ECF6\",\"showlakes\":true,\"showland\":true,\"subunitcolor\":\"white\"},\"hoverlabel\":{\"align\":\"left\"},\"hovermode\":\"closest\",\"mapbox\":{\"style\":\"light\"},\"paper_bgcolor\":\"white\",\"plot_bgcolor\":\"#E5ECF6\",\"polar\":{\"angularaxis\":{\"gridcolor\":\"white\",\"linecolor\":\"white\",\"ticks\":\"\"},\"bgcolor\":\"#E5ECF6\",\"radialaxis\":{\"gridcolor\":\"white\",\"linecolor\":\"white\",\"ticks\":\"\"}},\"scene\":{\"xaxis\":{\"backgroundcolor\":\"#E5ECF6\",\"gridcolor\":\"white\",\"gridwidth\":2,\"linecolor\":\"white\",\"showbackground\":true,\"ticks\":\"\",\"zerolinecolor\":\"white\"},\"yaxis\":{\"backgroundcolor\":\"#E5ECF6\",\"gridcolor\":\"white\",\"gridwidth\":2,\"linecolor\":\"white\",\"showbackground\":true,\"ticks\":\"\",\"zerolinecolor\":\"white\"},\"zaxis\":{\"backgroundcolor\":\"#E5ECF6\",\"gridcolor\":\"white\",\"gridwidth\":2,\"linecolor\":\"white\",\"showbackground\":true,\"ticks\":\"\",\"zerolinecolor\":\"white\"}},\"shapedefaults\":{\"line\":{\"color\":\"#2a3f5f\"}},\"ternary\":{\"aaxis\":{\"gridcolor\":\"white\",\"linecolor\":\"white\",\"ticks\":\"\"},\"baxis\":{\"gridcolor\":\"white\",\"linecolor\":\"white\",\"ticks\":\"\"},\"bgcolor\":\"#E5ECF6\",\"caxis\":{\"gridcolor\":\"white\",\"linecolor\":\"white\",\"ticks\":\"\"}},\"title\":{\"x\":0.05},\"xaxis\":{\"automargin\":true,\"gridcolor\":\"white\",\"linecolor\":\"white\",\"ticks\":\"\",\"title\":{\"standoff\":15},\"zerolinecolor\":\"white\",\"zerolinewidth\":2},\"yaxis\":{\"automargin\":true,\"gridcolor\":\"white\",\"linecolor\":\"white\",\"ticks\":\"\",\"title\":{\"standoff\":15},\"zerolinecolor\":\"white\",\"zerolinewidth\":2}}},\"legend\":{\"tracegroupgap\":0},\"margin\":{\"t\":60}},                        {\"responsive\": true}                    ).then(function(){\n",
       "                            \n",
       "var gd = document.getElementById('e406e448-b3a4-44fe-8c11-4468126a901d');\n",
       "var x = new MutationObserver(function (mutations, observer) {{\n",
       "        var display = window.getComputedStyle(gd).display;\n",
       "        if (!display || display === 'none') {{\n",
       "            console.log([gd, 'removed!']);\n",
       "            Plotly.purge(gd);\n",
       "            observer.disconnect();\n",
       "        }}\n",
       "}});\n",
       "\n",
       "// Listen for the removal of the full notebook cells\n",
       "var notebookContainer = gd.closest('#notebook-container');\n",
       "if (notebookContainer) {{\n",
       "    x.observe(notebookContainer, {childList: true});\n",
       "}}\n",
       "\n",
       "// Listen for the clearing of the current output cell\n",
       "var outputEl = gd.closest('.output');\n",
       "if (outputEl) {{\n",
       "    x.observe(outputEl, {childList: true});\n",
       "}}\n",
       "\n",
       "                        })                };                });            </script>        </div>"
      ]
     },
     "metadata": {},
     "output_type": "display_data"
    }
   ],
   "source": [
    "import plotly.express as px\n",
    "\n",
    "# Pie chart, where the slices will be ordered and plotted counter-clockwise:\n",
    "\n",
    "fig = px.pie(values = data['HeartDisease'].value_counts(), names= [1,0])\n",
    "fig.show()"
   ]
  },
  {
   "cell_type": "markdown",
   "metadata": {},
   "source": [
    "### 2.2 Categorical Values "
   ]
  },
  {
   "cell_type": "code",
   "execution_count": 225,
   "metadata": {
    "colab": {
     "base_uri": "https://localhost:8080/",
     "height": 281
    },
    "id": "AdfYFnwzzqo5",
    "outputId": "b78792fa-84e0-4a77-849a-9324a83657bc"
   },
   "outputs": [],
   "source": [
    "num_ix = data.select_dtypes(include=['int64', 'float64']).columns\n"
   ]
  },
  {
   "cell_type": "code",
   "execution_count": 226,
   "metadata": {},
   "outputs": [
    {
     "data": {
      "text/plain": [
       "Index(['Age', 'RestingBP', 'Cholesterol', 'FastingBS', 'MaxHR', 'Oldpeak',\n",
       "       'HeartDisease'],\n",
       "      dtype='object')"
      ]
     },
     "execution_count": 226,
     "metadata": {},
     "output_type": "execute_result"
    }
   ],
   "source": [
    "num_ix"
   ]
  },
  {
   "cell_type": "code",
   "execution_count": 227,
   "metadata": {},
   "outputs": [
    {
     "data": {
      "text/html": [
       "<div>\n",
       "<style scoped>\n",
       "    .dataframe tbody tr th:only-of-type {\n",
       "        vertical-align: middle;\n",
       "    }\n",
       "\n",
       "    .dataframe tbody tr th {\n",
       "        vertical-align: top;\n",
       "    }\n",
       "\n",
       "    .dataframe thead th {\n",
       "        text-align: right;\n",
       "    }\n",
       "</style>\n",
       "<table border=\"1\" class=\"dataframe\">\n",
       "  <thead>\n",
       "    <tr style=\"text-align: right;\">\n",
       "      <th></th>\n",
       "      <th>Age</th>\n",
       "      <th>RestingBP</th>\n",
       "      <th>Cholesterol</th>\n",
       "      <th>FastingBS</th>\n",
       "      <th>MaxHR</th>\n",
       "      <th>Oldpeak</th>\n",
       "      <th>HeartDisease</th>\n",
       "    </tr>\n",
       "  </thead>\n",
       "  <tbody>\n",
       "    <tr>\n",
       "      <th>count</th>\n",
       "      <td>918.000000</td>\n",
       "      <td>918.000000</td>\n",
       "      <td>918.000000</td>\n",
       "      <td>918.000000</td>\n",
       "      <td>918.000000</td>\n",
       "      <td>918.000000</td>\n",
       "      <td>918.000000</td>\n",
       "    </tr>\n",
       "    <tr>\n",
       "      <th>mean</th>\n",
       "      <td>53.510893</td>\n",
       "      <td>132.396514</td>\n",
       "      <td>198.799564</td>\n",
       "      <td>0.233115</td>\n",
       "      <td>136.809368</td>\n",
       "      <td>0.887364</td>\n",
       "      <td>0.553377</td>\n",
       "    </tr>\n",
       "    <tr>\n",
       "      <th>std</th>\n",
       "      <td>9.432617</td>\n",
       "      <td>18.514154</td>\n",
       "      <td>109.384145</td>\n",
       "      <td>0.423046</td>\n",
       "      <td>25.460334</td>\n",
       "      <td>1.066570</td>\n",
       "      <td>0.497414</td>\n",
       "    </tr>\n",
       "    <tr>\n",
       "      <th>min</th>\n",
       "      <td>28.000000</td>\n",
       "      <td>0.000000</td>\n",
       "      <td>0.000000</td>\n",
       "      <td>0.000000</td>\n",
       "      <td>60.000000</td>\n",
       "      <td>-2.600000</td>\n",
       "      <td>0.000000</td>\n",
       "    </tr>\n",
       "    <tr>\n",
       "      <th>25%</th>\n",
       "      <td>47.000000</td>\n",
       "      <td>120.000000</td>\n",
       "      <td>173.250000</td>\n",
       "      <td>0.000000</td>\n",
       "      <td>120.000000</td>\n",
       "      <td>0.000000</td>\n",
       "      <td>0.000000</td>\n",
       "    </tr>\n",
       "    <tr>\n",
       "      <th>50%</th>\n",
       "      <td>54.000000</td>\n",
       "      <td>130.000000</td>\n",
       "      <td>223.000000</td>\n",
       "      <td>0.000000</td>\n",
       "      <td>138.000000</td>\n",
       "      <td>0.600000</td>\n",
       "      <td>1.000000</td>\n",
       "    </tr>\n",
       "    <tr>\n",
       "      <th>75%</th>\n",
       "      <td>60.000000</td>\n",
       "      <td>140.000000</td>\n",
       "      <td>267.000000</td>\n",
       "      <td>0.000000</td>\n",
       "      <td>156.000000</td>\n",
       "      <td>1.500000</td>\n",
       "      <td>1.000000</td>\n",
       "    </tr>\n",
       "    <tr>\n",
       "      <th>max</th>\n",
       "      <td>77.000000</td>\n",
       "      <td>200.000000</td>\n",
       "      <td>603.000000</td>\n",
       "      <td>1.000000</td>\n",
       "      <td>202.000000</td>\n",
       "      <td>6.200000</td>\n",
       "      <td>1.000000</td>\n",
       "    </tr>\n",
       "  </tbody>\n",
       "</table>\n",
       "</div>"
      ],
      "text/plain": [
       "              Age   RestingBP  Cholesterol   FastingBS       MaxHR  \\\n",
       "count  918.000000  918.000000   918.000000  918.000000  918.000000   \n",
       "mean    53.510893  132.396514   198.799564    0.233115  136.809368   \n",
       "std      9.432617   18.514154   109.384145    0.423046   25.460334   \n",
       "min     28.000000    0.000000     0.000000    0.000000   60.000000   \n",
       "25%     47.000000  120.000000   173.250000    0.000000  120.000000   \n",
       "50%     54.000000  130.000000   223.000000    0.000000  138.000000   \n",
       "75%     60.000000  140.000000   267.000000    0.000000  156.000000   \n",
       "max     77.000000  200.000000   603.000000    1.000000  202.000000   \n",
       "\n",
       "          Oldpeak  HeartDisease  \n",
       "count  918.000000    918.000000  \n",
       "mean     0.887364      0.553377  \n",
       "std      1.066570      0.497414  \n",
       "min     -2.600000      0.000000  \n",
       "25%      0.000000      0.000000  \n",
       "50%      0.600000      1.000000  \n",
       "75%      1.500000      1.000000  \n",
       "max      6.200000      1.000000  "
      ]
     },
     "execution_count": 227,
     "metadata": {},
     "output_type": "execute_result"
    }
   ],
   "source": [
    "# Descriptive stats\n",
    "data[num_ix].describe()"
   ]
  },
  {
   "cell_type": "markdown",
   "metadata": {},
   "source": [
    "#### Age Disturbution "
   ]
  },
  {
   "cell_type": "code",
   "execution_count": 228,
   "metadata": {},
   "outputs": [
    {
     "data": {
      "application/vnd.plotly.v1+json": {
       "config": {
        "plotlyServerURL": "https://plot.ly"
       },
       "data": [
        {
         "alignmentgroup": "True",
         "bingroup": "x",
         "hovertemplate": "variable=Age<br>value=%{x}<br>count=%{y}<extra></extra>",
         "legendgroup": "Age",
         "marker": {
          "color": "#636efa",
          "pattern": {
           "shape": ""
          }
         },
         "name": "Age",
         "offsetgroup": "Age",
         "orientation": "v",
         "showlegend": true,
         "type": "histogram",
         "x": [
          40,
          49,
          37,
          48,
          54,
          39,
          45,
          54,
          37,
          48,
          37,
          58,
          39,
          49,
          42,
          54,
          38,
          43,
          60,
          36,
          43,
          44,
          49,
          44,
          40,
          36,
          53,
          52,
          53,
          51,
          53,
          56,
          54,
          41,
          43,
          32,
          65,
          41,
          48,
          48,
          54,
          54,
          35,
          52,
          43,
          59,
          37,
          50,
          36,
          41,
          50,
          47,
          45,
          41,
          52,
          51,
          31,
          58,
          54,
          52,
          49,
          43,
          45,
          46,
          50,
          37,
          45,
          32,
          52,
          44,
          57,
          44,
          52,
          44,
          55,
          46,
          32,
          35,
          52,
          49,
          55,
          54,
          63,
          52,
          56,
          66,
          65,
          53,
          43,
          55,
          49,
          39,
          52,
          48,
          39,
          58,
          43,
          39,
          56,
          41,
          65,
          51,
          40,
          40,
          46,
          57,
          48,
          34,
          50,
          39,
          59,
          57,
          47,
          38,
          49,
          33,
          38,
          59,
          35,
          34,
          47,
          52,
          46,
          58,
          58,
          54,
          34,
          48,
          54,
          42,
          38,
          46,
          56,
          56,
          61,
          49,
          43,
          39,
          54,
          43,
          52,
          50,
          47,
          53,
          56,
          39,
          42,
          43,
          50,
          54,
          39,
          48,
          40,
          55,
          41,
          56,
          38,
          49,
          44,
          54,
          59,
          49,
          47,
          42,
          52,
          46,
          50,
          48,
          58,
          58,
          29,
          40,
          53,
          49,
          52,
          43,
          54,
          59,
          37,
          46,
          52,
          51,
          52,
          46,
          54,
          58,
          58,
          41,
          50,
          53,
          46,
          50,
          48,
          45,
          41,
          62,
          49,
          42,
          53,
          57,
          47,
          46,
          42,
          31,
          56,
          50,
          35,
          35,
          28,
          54,
          48,
          50,
          56,
          56,
          47,
          30,
          39,
          54,
          55,
          29,
          46,
          51,
          48,
          33,
          55,
          50,
          53,
          38,
          41,
          37,
          37,
          40,
          38,
          41,
          54,
          39,
          41,
          55,
          48,
          48,
          55,
          54,
          55,
          43,
          48,
          54,
          54,
          48,
          45,
          49,
          44,
          48,
          61,
          62,
          55,
          53,
          55,
          36,
          51,
          55,
          46,
          54,
          46,
          59,
          47,
          54,
          52,
          34,
          54,
          47,
          45,
          32,
          55,
          55,
          45,
          59,
          51,
          52,
          57,
          54,
          60,
          49,
          51,
          55,
          42,
          51,
          59,
          53,
          48,
          36,
          48,
          47,
          53,
          65,
          32,
          61,
          50,
          57,
          51,
          47,
          60,
          55,
          53,
          62,
          51,
          51,
          55,
          53,
          58,
          57,
          65,
          60,
          41,
          34,
          53,
          74,
          57,
          56,
          61,
          68,
          59,
          63,
          38,
          62,
          46,
          42,
          45,
          59,
          52,
          60,
          60,
          56,
          38,
          40,
          51,
          62,
          72,
          63,
          63,
          64,
          43,
          64,
          61,
          52,
          51,
          69,
          59,
          48,
          69,
          36,
          53,
          43,
          56,
          58,
          55,
          67,
          46,
          53,
          38,
          53,
          62,
          47,
          56,
          56,
          56,
          64,
          61,
          68,
          57,
          63,
          60,
          66,
          63,
          59,
          61,
          73,
          47,
          65,
          70,
          50,
          60,
          50,
          43,
          38,
          54,
          61,
          42,
          53,
          55,
          61,
          51,
          70,
          61,
          38,
          57,
          38,
          62,
          58,
          52,
          61,
          50,
          51,
          65,
          52,
          47,
          35,
          57,
          62,
          59,
          53,
          62,
          54,
          56,
          56,
          54,
          66,
          63,
          44,
          60,
          55,
          66,
          66,
          65,
          60,
          60,
          60,
          56,
          59,
          62,
          63,
          57,
          62,
          63,
          46,
          63,
          60,
          58,
          64,
          63,
          74,
          52,
          69,
          51,
          60,
          56,
          55,
          54,
          77,
          63,
          55,
          52,
          64,
          60,
          60,
          58,
          59,
          61,
          40,
          61,
          41,
          57,
          63,
          59,
          51,
          59,
          42,
          55,
          63,
          62,
          56,
          53,
          68,
          53,
          60,
          62,
          59,
          51,
          61,
          57,
          56,
          58,
          69,
          67,
          58,
          65,
          63,
          55,
          57,
          65,
          54,
          72,
          75,
          49,
          51,
          60,
          64,
          58,
          61,
          67,
          62,
          65,
          63,
          69,
          51,
          62,
          55,
          75,
          40,
          67,
          58,
          60,
          63,
          35,
          62,
          43,
          63,
          68,
          65,
          48,
          63,
          64,
          61,
          50,
          59,
          55,
          45,
          65,
          61,
          49,
          72,
          50,
          64,
          55,
          63,
          59,
          56,
          62,
          74,
          54,
          57,
          62,
          76,
          54,
          70,
          61,
          48,
          48,
          61,
          66,
          68,
          55,
          62,
          71,
          74,
          53,
          58,
          75,
          56,
          58,
          64,
          54,
          54,
          59,
          55,
          57,
          61,
          41,
          71,
          38,
          55,
          56,
          69,
          64,
          72,
          69,
          56,
          62,
          67,
          57,
          69,
          51,
          48,
          69,
          69,
          64,
          57,
          53,
          37,
          67,
          74,
          63,
          58,
          61,
          64,
          58,
          60,
          57,
          55,
          55,
          56,
          57,
          61,
          61,
          74,
          68,
          51,
          62,
          53,
          62,
          46,
          54,
          62,
          55,
          58,
          62,
          70,
          67,
          57,
          64,
          74,
          65,
          56,
          59,
          60,
          63,
          59,
          53,
          44,
          61,
          57,
          71,
          46,
          53,
          64,
          40,
          67,
          48,
          43,
          47,
          54,
          48,
          46,
          51,
          58,
          71,
          57,
          66,
          37,
          59,
          50,
          48,
          61,
          59,
          42,
          48,
          40,
          62,
          44,
          46,
          59,
          58,
          49,
          44,
          66,
          65,
          42,
          52,
          65,
          63,
          45,
          41,
          61,
          60,
          59,
          62,
          57,
          51,
          44,
          60,
          63,
          57,
          51,
          58,
          44,
          47,
          61,
          57,
          70,
          76,
          67,
          45,
          45,
          39,
          42,
          56,
          58,
          35,
          58,
          41,
          57,
          42,
          62,
          59,
          41,
          50,
          59,
          61,
          54,
          54,
          52,
          47,
          66,
          58,
          64,
          50,
          44,
          67,
          49,
          57,
          63,
          48,
          51,
          60,
          59,
          45,
          55,
          41,
          60,
          54,
          42,
          49,
          46,
          56,
          66,
          56,
          49,
          54,
          57,
          65,
          54,
          54,
          62,
          52,
          52,
          60,
          63,
          66,
          42,
          64,
          54,
          46,
          67,
          56,
          34,
          57,
          64,
          59,
          50,
          51,
          54,
          53,
          52,
          40,
          58,
          41,
          41,
          50,
          54,
          64,
          51,
          46,
          55,
          45,
          56,
          66,
          38,
          62,
          55,
          58,
          43,
          64,
          50,
          53,
          45,
          65,
          69,
          69,
          67,
          68,
          34,
          62,
          51,
          46,
          67,
          50,
          42,
          56,
          41,
          42,
          53,
          43,
          56,
          52,
          62,
          70,
          54,
          70,
          54,
          35,
          48,
          55,
          58,
          54,
          69,
          77,
          68,
          58,
          60,
          51,
          55,
          52,
          60,
          58,
          64,
          37,
          59,
          51,
          43,
          58,
          29,
          41,
          63,
          51,
          54,
          44,
          54,
          65,
          57,
          63,
          35,
          41,
          62,
          43,
          58,
          52,
          61,
          39,
          45,
          52,
          62,
          62,
          53,
          43,
          47,
          52,
          68,
          39,
          53,
          62,
          51,
          60,
          65,
          65,
          60,
          60,
          54,
          44,
          44,
          51,
          59,
          71,
          61,
          55,
          64,
          43,
          58,
          60,
          58,
          49,
          48,
          52,
          44,
          56,
          57,
          67,
          53,
          52,
          43,
          52,
          59,
          64,
          66,
          39,
          57,
          58,
          57,
          47,
          55,
          35,
          61,
          58,
          58,
          58,
          56,
          56,
          67,
          55,
          44,
          63,
          63,
          41,
          59,
          57,
          45,
          68,
          57,
          57,
          38
         ],
         "xaxis": "x",
         "yaxis": "y"
        }
       ],
       "layout": {
        "barmode": "relative",
        "legend": {
         "title": {
          "text": "variable"
         },
         "tracegroupgap": 0
        },
        "margin": {
         "t": 60
        },
        "template": {
         "data": {
          "bar": [
           {
            "error_x": {
             "color": "#2a3f5f"
            },
            "error_y": {
             "color": "#2a3f5f"
            },
            "marker": {
             "line": {
              "color": "#E5ECF6",
              "width": 0.5
             },
             "pattern": {
              "fillmode": "overlay",
              "size": 10,
              "solidity": 0.2
             }
            },
            "type": "bar"
           }
          ],
          "barpolar": [
           {
            "marker": {
             "line": {
              "color": "#E5ECF6",
              "width": 0.5
             },
             "pattern": {
              "fillmode": "overlay",
              "size": 10,
              "solidity": 0.2
             }
            },
            "type": "barpolar"
           }
          ],
          "carpet": [
           {
            "aaxis": {
             "endlinecolor": "#2a3f5f",
             "gridcolor": "white",
             "linecolor": "white",
             "minorgridcolor": "white",
             "startlinecolor": "#2a3f5f"
            },
            "baxis": {
             "endlinecolor": "#2a3f5f",
             "gridcolor": "white",
             "linecolor": "white",
             "minorgridcolor": "white",
             "startlinecolor": "#2a3f5f"
            },
            "type": "carpet"
           }
          ],
          "choropleth": [
           {
            "colorbar": {
             "outlinewidth": 0,
             "ticks": ""
            },
            "type": "choropleth"
           }
          ],
          "contour": [
           {
            "colorbar": {
             "outlinewidth": 0,
             "ticks": ""
            },
            "colorscale": [
             [
              0,
              "#0d0887"
             ],
             [
              0.1111111111111111,
              "#46039f"
             ],
             [
              0.2222222222222222,
              "#7201a8"
             ],
             [
              0.3333333333333333,
              "#9c179e"
             ],
             [
              0.4444444444444444,
              "#bd3786"
             ],
             [
              0.5555555555555556,
              "#d8576b"
             ],
             [
              0.6666666666666666,
              "#ed7953"
             ],
             [
              0.7777777777777778,
              "#fb9f3a"
             ],
             [
              0.8888888888888888,
              "#fdca26"
             ],
             [
              1,
              "#f0f921"
             ]
            ],
            "type": "contour"
           }
          ],
          "contourcarpet": [
           {
            "colorbar": {
             "outlinewidth": 0,
             "ticks": ""
            },
            "type": "contourcarpet"
           }
          ],
          "heatmap": [
           {
            "colorbar": {
             "outlinewidth": 0,
             "ticks": ""
            },
            "colorscale": [
             [
              0,
              "#0d0887"
             ],
             [
              0.1111111111111111,
              "#46039f"
             ],
             [
              0.2222222222222222,
              "#7201a8"
             ],
             [
              0.3333333333333333,
              "#9c179e"
             ],
             [
              0.4444444444444444,
              "#bd3786"
             ],
             [
              0.5555555555555556,
              "#d8576b"
             ],
             [
              0.6666666666666666,
              "#ed7953"
             ],
             [
              0.7777777777777778,
              "#fb9f3a"
             ],
             [
              0.8888888888888888,
              "#fdca26"
             ],
             [
              1,
              "#f0f921"
             ]
            ],
            "type": "heatmap"
           }
          ],
          "heatmapgl": [
           {
            "colorbar": {
             "outlinewidth": 0,
             "ticks": ""
            },
            "colorscale": [
             [
              0,
              "#0d0887"
             ],
             [
              0.1111111111111111,
              "#46039f"
             ],
             [
              0.2222222222222222,
              "#7201a8"
             ],
             [
              0.3333333333333333,
              "#9c179e"
             ],
             [
              0.4444444444444444,
              "#bd3786"
             ],
             [
              0.5555555555555556,
              "#d8576b"
             ],
             [
              0.6666666666666666,
              "#ed7953"
             ],
             [
              0.7777777777777778,
              "#fb9f3a"
             ],
             [
              0.8888888888888888,
              "#fdca26"
             ],
             [
              1,
              "#f0f921"
             ]
            ],
            "type": "heatmapgl"
           }
          ],
          "histogram": [
           {
            "marker": {
             "pattern": {
              "fillmode": "overlay",
              "size": 10,
              "solidity": 0.2
             }
            },
            "type": "histogram"
           }
          ],
          "histogram2d": [
           {
            "colorbar": {
             "outlinewidth": 0,
             "ticks": ""
            },
            "colorscale": [
             [
              0,
              "#0d0887"
             ],
             [
              0.1111111111111111,
              "#46039f"
             ],
             [
              0.2222222222222222,
              "#7201a8"
             ],
             [
              0.3333333333333333,
              "#9c179e"
             ],
             [
              0.4444444444444444,
              "#bd3786"
             ],
             [
              0.5555555555555556,
              "#d8576b"
             ],
             [
              0.6666666666666666,
              "#ed7953"
             ],
             [
              0.7777777777777778,
              "#fb9f3a"
             ],
             [
              0.8888888888888888,
              "#fdca26"
             ],
             [
              1,
              "#f0f921"
             ]
            ],
            "type": "histogram2d"
           }
          ],
          "histogram2dcontour": [
           {
            "colorbar": {
             "outlinewidth": 0,
             "ticks": ""
            },
            "colorscale": [
             [
              0,
              "#0d0887"
             ],
             [
              0.1111111111111111,
              "#46039f"
             ],
             [
              0.2222222222222222,
              "#7201a8"
             ],
             [
              0.3333333333333333,
              "#9c179e"
             ],
             [
              0.4444444444444444,
              "#bd3786"
             ],
             [
              0.5555555555555556,
              "#d8576b"
             ],
             [
              0.6666666666666666,
              "#ed7953"
             ],
             [
              0.7777777777777778,
              "#fb9f3a"
             ],
             [
              0.8888888888888888,
              "#fdca26"
             ],
             [
              1,
              "#f0f921"
             ]
            ],
            "type": "histogram2dcontour"
           }
          ],
          "mesh3d": [
           {
            "colorbar": {
             "outlinewidth": 0,
             "ticks": ""
            },
            "type": "mesh3d"
           }
          ],
          "parcoords": [
           {
            "line": {
             "colorbar": {
              "outlinewidth": 0,
              "ticks": ""
             }
            },
            "type": "parcoords"
           }
          ],
          "pie": [
           {
            "automargin": true,
            "type": "pie"
           }
          ],
          "scatter": [
           {
            "marker": {
             "colorbar": {
              "outlinewidth": 0,
              "ticks": ""
             }
            },
            "type": "scatter"
           }
          ],
          "scatter3d": [
           {
            "line": {
             "colorbar": {
              "outlinewidth": 0,
              "ticks": ""
             }
            },
            "marker": {
             "colorbar": {
              "outlinewidth": 0,
              "ticks": ""
             }
            },
            "type": "scatter3d"
           }
          ],
          "scattercarpet": [
           {
            "marker": {
             "colorbar": {
              "outlinewidth": 0,
              "ticks": ""
             }
            },
            "type": "scattercarpet"
           }
          ],
          "scattergeo": [
           {
            "marker": {
             "colorbar": {
              "outlinewidth": 0,
              "ticks": ""
             }
            },
            "type": "scattergeo"
           }
          ],
          "scattergl": [
           {
            "marker": {
             "colorbar": {
              "outlinewidth": 0,
              "ticks": ""
             }
            },
            "type": "scattergl"
           }
          ],
          "scattermapbox": [
           {
            "marker": {
             "colorbar": {
              "outlinewidth": 0,
              "ticks": ""
             }
            },
            "type": "scattermapbox"
           }
          ],
          "scatterpolar": [
           {
            "marker": {
             "colorbar": {
              "outlinewidth": 0,
              "ticks": ""
             }
            },
            "type": "scatterpolar"
           }
          ],
          "scatterpolargl": [
           {
            "marker": {
             "colorbar": {
              "outlinewidth": 0,
              "ticks": ""
             }
            },
            "type": "scatterpolargl"
           }
          ],
          "scatterternary": [
           {
            "marker": {
             "colorbar": {
              "outlinewidth": 0,
              "ticks": ""
             }
            },
            "type": "scatterternary"
           }
          ],
          "surface": [
           {
            "colorbar": {
             "outlinewidth": 0,
             "ticks": ""
            },
            "colorscale": [
             [
              0,
              "#0d0887"
             ],
             [
              0.1111111111111111,
              "#46039f"
             ],
             [
              0.2222222222222222,
              "#7201a8"
             ],
             [
              0.3333333333333333,
              "#9c179e"
             ],
             [
              0.4444444444444444,
              "#bd3786"
             ],
             [
              0.5555555555555556,
              "#d8576b"
             ],
             [
              0.6666666666666666,
              "#ed7953"
             ],
             [
              0.7777777777777778,
              "#fb9f3a"
             ],
             [
              0.8888888888888888,
              "#fdca26"
             ],
             [
              1,
              "#f0f921"
             ]
            ],
            "type": "surface"
           }
          ],
          "table": [
           {
            "cells": {
             "fill": {
              "color": "#EBF0F8"
             },
             "line": {
              "color": "white"
             }
            },
            "header": {
             "fill": {
              "color": "#C8D4E3"
             },
             "line": {
              "color": "white"
             }
            },
            "type": "table"
           }
          ]
         },
         "layout": {
          "annotationdefaults": {
           "arrowcolor": "#2a3f5f",
           "arrowhead": 0,
           "arrowwidth": 1
          },
          "autotypenumbers": "strict",
          "coloraxis": {
           "colorbar": {
            "outlinewidth": 0,
            "ticks": ""
           }
          },
          "colorscale": {
           "diverging": [
            [
             0,
             "#8e0152"
            ],
            [
             0.1,
             "#c51b7d"
            ],
            [
             0.2,
             "#de77ae"
            ],
            [
             0.3,
             "#f1b6da"
            ],
            [
             0.4,
             "#fde0ef"
            ],
            [
             0.5,
             "#f7f7f7"
            ],
            [
             0.6,
             "#e6f5d0"
            ],
            [
             0.7,
             "#b8e186"
            ],
            [
             0.8,
             "#7fbc41"
            ],
            [
             0.9,
             "#4d9221"
            ],
            [
             1,
             "#276419"
            ]
           ],
           "sequential": [
            [
             0,
             "#0d0887"
            ],
            [
             0.1111111111111111,
             "#46039f"
            ],
            [
             0.2222222222222222,
             "#7201a8"
            ],
            [
             0.3333333333333333,
             "#9c179e"
            ],
            [
             0.4444444444444444,
             "#bd3786"
            ],
            [
             0.5555555555555556,
             "#d8576b"
            ],
            [
             0.6666666666666666,
             "#ed7953"
            ],
            [
             0.7777777777777778,
             "#fb9f3a"
            ],
            [
             0.8888888888888888,
             "#fdca26"
            ],
            [
             1,
             "#f0f921"
            ]
           ],
           "sequentialminus": [
            [
             0,
             "#0d0887"
            ],
            [
             0.1111111111111111,
             "#46039f"
            ],
            [
             0.2222222222222222,
             "#7201a8"
            ],
            [
             0.3333333333333333,
             "#9c179e"
            ],
            [
             0.4444444444444444,
             "#bd3786"
            ],
            [
             0.5555555555555556,
             "#d8576b"
            ],
            [
             0.6666666666666666,
             "#ed7953"
            ],
            [
             0.7777777777777778,
             "#fb9f3a"
            ],
            [
             0.8888888888888888,
             "#fdca26"
            ],
            [
             1,
             "#f0f921"
            ]
           ]
          },
          "colorway": [
           "#636efa",
           "#EF553B",
           "#00cc96",
           "#ab63fa",
           "#FFA15A",
           "#19d3f3",
           "#FF6692",
           "#B6E880",
           "#FF97FF",
           "#FECB52"
          ],
          "font": {
           "color": "#2a3f5f"
          },
          "geo": {
           "bgcolor": "white",
           "lakecolor": "white",
           "landcolor": "#E5ECF6",
           "showlakes": true,
           "showland": true,
           "subunitcolor": "white"
          },
          "hoverlabel": {
           "align": "left"
          },
          "hovermode": "closest",
          "mapbox": {
           "style": "light"
          },
          "paper_bgcolor": "white",
          "plot_bgcolor": "#E5ECF6",
          "polar": {
           "angularaxis": {
            "gridcolor": "white",
            "linecolor": "white",
            "ticks": ""
           },
           "bgcolor": "#E5ECF6",
           "radialaxis": {
            "gridcolor": "white",
            "linecolor": "white",
            "ticks": ""
           }
          },
          "scene": {
           "xaxis": {
            "backgroundcolor": "#E5ECF6",
            "gridcolor": "white",
            "gridwidth": 2,
            "linecolor": "white",
            "showbackground": true,
            "ticks": "",
            "zerolinecolor": "white"
           },
           "yaxis": {
            "backgroundcolor": "#E5ECF6",
            "gridcolor": "white",
            "gridwidth": 2,
            "linecolor": "white",
            "showbackground": true,
            "ticks": "",
            "zerolinecolor": "white"
           },
           "zaxis": {
            "backgroundcolor": "#E5ECF6",
            "gridcolor": "white",
            "gridwidth": 2,
            "linecolor": "white",
            "showbackground": true,
            "ticks": "",
            "zerolinecolor": "white"
           }
          },
          "shapedefaults": {
           "line": {
            "color": "#2a3f5f"
           }
          },
          "ternary": {
           "aaxis": {
            "gridcolor": "white",
            "linecolor": "white",
            "ticks": ""
           },
           "baxis": {
            "gridcolor": "white",
            "linecolor": "white",
            "ticks": ""
           },
           "bgcolor": "#E5ECF6",
           "caxis": {
            "gridcolor": "white",
            "linecolor": "white",
            "ticks": ""
           }
          },
          "title": {
           "x": 0.05
          },
          "xaxis": {
           "automargin": true,
           "gridcolor": "white",
           "linecolor": "white",
           "ticks": "",
           "title": {
            "standoff": 15
           },
           "zerolinecolor": "white",
           "zerolinewidth": 2
          },
          "yaxis": {
           "automargin": true,
           "gridcolor": "white",
           "linecolor": "white",
           "ticks": "",
           "title": {
            "standoff": 15
           },
           "zerolinecolor": "white",
           "zerolinewidth": 2
          }
         }
        },
        "xaxis": {
         "anchor": "y",
         "domain": [
          0,
          1
         ],
         "title": {
          "text": "value"
         }
        },
        "yaxis": {
         "anchor": "x",
         "domain": [
          0,
          1
         ],
         "title": {
          "text": "count"
         }
        }
       }
      },
      "text/html": [
       "<div>                            <div id=\"11a13618-12b7-4247-bbfb-7ddc7760e567\" class=\"plotly-graph-div\" style=\"height:525px; width:100%;\"></div>            <script type=\"text/javascript\">                require([\"plotly\"], function(Plotly) {                    window.PLOTLYENV=window.PLOTLYENV || {};                                    if (document.getElementById(\"11a13618-12b7-4247-bbfb-7ddc7760e567\")) {                    Plotly.newPlot(                        \"11a13618-12b7-4247-bbfb-7ddc7760e567\",                        [{\"alignmentgroup\":\"True\",\"bingroup\":\"x\",\"hovertemplate\":\"variable=Age<br>value=%{x}<br>count=%{y}<extra></extra>\",\"legendgroup\":\"Age\",\"marker\":{\"color\":\"#636efa\",\"pattern\":{\"shape\":\"\"}},\"name\":\"Age\",\"offsetgroup\":\"Age\",\"orientation\":\"v\",\"showlegend\":true,\"x\":[40,49,37,48,54,39,45,54,37,48,37,58,39,49,42,54,38,43,60,36,43,44,49,44,40,36,53,52,53,51,53,56,54,41,43,32,65,41,48,48,54,54,35,52,43,59,37,50,36,41,50,47,45,41,52,51,31,58,54,52,49,43,45,46,50,37,45,32,52,44,57,44,52,44,55,46,32,35,52,49,55,54,63,52,56,66,65,53,43,55,49,39,52,48,39,58,43,39,56,41,65,51,40,40,46,57,48,34,50,39,59,57,47,38,49,33,38,59,35,34,47,52,46,58,58,54,34,48,54,42,38,46,56,56,61,49,43,39,54,43,52,50,47,53,56,39,42,43,50,54,39,48,40,55,41,56,38,49,44,54,59,49,47,42,52,46,50,48,58,58,29,40,53,49,52,43,54,59,37,46,52,51,52,46,54,58,58,41,50,53,46,50,48,45,41,62,49,42,53,57,47,46,42,31,56,50,35,35,28,54,48,50,56,56,47,30,39,54,55,29,46,51,48,33,55,50,53,38,41,37,37,40,38,41,54,39,41,55,48,48,55,54,55,43,48,54,54,48,45,49,44,48,61,62,55,53,55,36,51,55,46,54,46,59,47,54,52,34,54,47,45,32,55,55,45,59,51,52,57,54,60,49,51,55,42,51,59,53,48,36,48,47,53,65,32,61,50,57,51,47,60,55,53,62,51,51,55,53,58,57,65,60,41,34,53,74,57,56,61,68,59,63,38,62,46,42,45,59,52,60,60,56,38,40,51,62,72,63,63,64,43,64,61,52,51,69,59,48,69,36,53,43,56,58,55,67,46,53,38,53,62,47,56,56,56,64,61,68,57,63,60,66,63,59,61,73,47,65,70,50,60,50,43,38,54,61,42,53,55,61,51,70,61,38,57,38,62,58,52,61,50,51,65,52,47,35,57,62,59,53,62,54,56,56,54,66,63,44,60,55,66,66,65,60,60,60,56,59,62,63,57,62,63,46,63,60,58,64,63,74,52,69,51,60,56,55,54,77,63,55,52,64,60,60,58,59,61,40,61,41,57,63,59,51,59,42,55,63,62,56,53,68,53,60,62,59,51,61,57,56,58,69,67,58,65,63,55,57,65,54,72,75,49,51,60,64,58,61,67,62,65,63,69,51,62,55,75,40,67,58,60,63,35,62,43,63,68,65,48,63,64,61,50,59,55,45,65,61,49,72,50,64,55,63,59,56,62,74,54,57,62,76,54,70,61,48,48,61,66,68,55,62,71,74,53,58,75,56,58,64,54,54,59,55,57,61,41,71,38,55,56,69,64,72,69,56,62,67,57,69,51,48,69,69,64,57,53,37,67,74,63,58,61,64,58,60,57,55,55,56,57,61,61,74,68,51,62,53,62,46,54,62,55,58,62,70,67,57,64,74,65,56,59,60,63,59,53,44,61,57,71,46,53,64,40,67,48,43,47,54,48,46,51,58,71,57,66,37,59,50,48,61,59,42,48,40,62,44,46,59,58,49,44,66,65,42,52,65,63,45,41,61,60,59,62,57,51,44,60,63,57,51,58,44,47,61,57,70,76,67,45,45,39,42,56,58,35,58,41,57,42,62,59,41,50,59,61,54,54,52,47,66,58,64,50,44,67,49,57,63,48,51,60,59,45,55,41,60,54,42,49,46,56,66,56,49,54,57,65,54,54,62,52,52,60,63,66,42,64,54,46,67,56,34,57,64,59,50,51,54,53,52,40,58,41,41,50,54,64,51,46,55,45,56,66,38,62,55,58,43,64,50,53,45,65,69,69,67,68,34,62,51,46,67,50,42,56,41,42,53,43,56,52,62,70,54,70,54,35,48,55,58,54,69,77,68,58,60,51,55,52,60,58,64,37,59,51,43,58,29,41,63,51,54,44,54,65,57,63,35,41,62,43,58,52,61,39,45,52,62,62,53,43,47,52,68,39,53,62,51,60,65,65,60,60,54,44,44,51,59,71,61,55,64,43,58,60,58,49,48,52,44,56,57,67,53,52,43,52,59,64,66,39,57,58,57,47,55,35,61,58,58,58,56,56,67,55,44,63,63,41,59,57,45,68,57,57,38],\"xaxis\":\"x\",\"yaxis\":\"y\",\"type\":\"histogram\"}],                        {\"template\":{\"data\":{\"bar\":[{\"error_x\":{\"color\":\"#2a3f5f\"},\"error_y\":{\"color\":\"#2a3f5f\"},\"marker\":{\"line\":{\"color\":\"#E5ECF6\",\"width\":0.5},\"pattern\":{\"fillmode\":\"overlay\",\"size\":10,\"solidity\":0.2}},\"type\":\"bar\"}],\"barpolar\":[{\"marker\":{\"line\":{\"color\":\"#E5ECF6\",\"width\":0.5},\"pattern\":{\"fillmode\":\"overlay\",\"size\":10,\"solidity\":0.2}},\"type\":\"barpolar\"}],\"carpet\":[{\"aaxis\":{\"endlinecolor\":\"#2a3f5f\",\"gridcolor\":\"white\",\"linecolor\":\"white\",\"minorgridcolor\":\"white\",\"startlinecolor\":\"#2a3f5f\"},\"baxis\":{\"endlinecolor\":\"#2a3f5f\",\"gridcolor\":\"white\",\"linecolor\":\"white\",\"minorgridcolor\":\"white\",\"startlinecolor\":\"#2a3f5f\"},\"type\":\"carpet\"}],\"choropleth\":[{\"colorbar\":{\"outlinewidth\":0,\"ticks\":\"\"},\"type\":\"choropleth\"}],\"contour\":[{\"colorbar\":{\"outlinewidth\":0,\"ticks\":\"\"},\"colorscale\":[[0.0,\"#0d0887\"],[0.1111111111111111,\"#46039f\"],[0.2222222222222222,\"#7201a8\"],[0.3333333333333333,\"#9c179e\"],[0.4444444444444444,\"#bd3786\"],[0.5555555555555556,\"#d8576b\"],[0.6666666666666666,\"#ed7953\"],[0.7777777777777778,\"#fb9f3a\"],[0.8888888888888888,\"#fdca26\"],[1.0,\"#f0f921\"]],\"type\":\"contour\"}],\"contourcarpet\":[{\"colorbar\":{\"outlinewidth\":0,\"ticks\":\"\"},\"type\":\"contourcarpet\"}],\"heatmap\":[{\"colorbar\":{\"outlinewidth\":0,\"ticks\":\"\"},\"colorscale\":[[0.0,\"#0d0887\"],[0.1111111111111111,\"#46039f\"],[0.2222222222222222,\"#7201a8\"],[0.3333333333333333,\"#9c179e\"],[0.4444444444444444,\"#bd3786\"],[0.5555555555555556,\"#d8576b\"],[0.6666666666666666,\"#ed7953\"],[0.7777777777777778,\"#fb9f3a\"],[0.8888888888888888,\"#fdca26\"],[1.0,\"#f0f921\"]],\"type\":\"heatmap\"}],\"heatmapgl\":[{\"colorbar\":{\"outlinewidth\":0,\"ticks\":\"\"},\"colorscale\":[[0.0,\"#0d0887\"],[0.1111111111111111,\"#46039f\"],[0.2222222222222222,\"#7201a8\"],[0.3333333333333333,\"#9c179e\"],[0.4444444444444444,\"#bd3786\"],[0.5555555555555556,\"#d8576b\"],[0.6666666666666666,\"#ed7953\"],[0.7777777777777778,\"#fb9f3a\"],[0.8888888888888888,\"#fdca26\"],[1.0,\"#f0f921\"]],\"type\":\"heatmapgl\"}],\"histogram\":[{\"marker\":{\"pattern\":{\"fillmode\":\"overlay\",\"size\":10,\"solidity\":0.2}},\"type\":\"histogram\"}],\"histogram2d\":[{\"colorbar\":{\"outlinewidth\":0,\"ticks\":\"\"},\"colorscale\":[[0.0,\"#0d0887\"],[0.1111111111111111,\"#46039f\"],[0.2222222222222222,\"#7201a8\"],[0.3333333333333333,\"#9c179e\"],[0.4444444444444444,\"#bd3786\"],[0.5555555555555556,\"#d8576b\"],[0.6666666666666666,\"#ed7953\"],[0.7777777777777778,\"#fb9f3a\"],[0.8888888888888888,\"#fdca26\"],[1.0,\"#f0f921\"]],\"type\":\"histogram2d\"}],\"histogram2dcontour\":[{\"colorbar\":{\"outlinewidth\":0,\"ticks\":\"\"},\"colorscale\":[[0.0,\"#0d0887\"],[0.1111111111111111,\"#46039f\"],[0.2222222222222222,\"#7201a8\"],[0.3333333333333333,\"#9c179e\"],[0.4444444444444444,\"#bd3786\"],[0.5555555555555556,\"#d8576b\"],[0.6666666666666666,\"#ed7953\"],[0.7777777777777778,\"#fb9f3a\"],[0.8888888888888888,\"#fdca26\"],[1.0,\"#f0f921\"]],\"type\":\"histogram2dcontour\"}],\"mesh3d\":[{\"colorbar\":{\"outlinewidth\":0,\"ticks\":\"\"},\"type\":\"mesh3d\"}],\"parcoords\":[{\"line\":{\"colorbar\":{\"outlinewidth\":0,\"ticks\":\"\"}},\"type\":\"parcoords\"}],\"pie\":[{\"automargin\":true,\"type\":\"pie\"}],\"scatter\":[{\"marker\":{\"colorbar\":{\"outlinewidth\":0,\"ticks\":\"\"}},\"type\":\"scatter\"}],\"scatter3d\":[{\"line\":{\"colorbar\":{\"outlinewidth\":0,\"ticks\":\"\"}},\"marker\":{\"colorbar\":{\"outlinewidth\":0,\"ticks\":\"\"}},\"type\":\"scatter3d\"}],\"scattercarpet\":[{\"marker\":{\"colorbar\":{\"outlinewidth\":0,\"ticks\":\"\"}},\"type\":\"scattercarpet\"}],\"scattergeo\":[{\"marker\":{\"colorbar\":{\"outlinewidth\":0,\"ticks\":\"\"}},\"type\":\"scattergeo\"}],\"scattergl\":[{\"marker\":{\"colorbar\":{\"outlinewidth\":0,\"ticks\":\"\"}},\"type\":\"scattergl\"}],\"scattermapbox\":[{\"marker\":{\"colorbar\":{\"outlinewidth\":0,\"ticks\":\"\"}},\"type\":\"scattermapbox\"}],\"scatterpolar\":[{\"marker\":{\"colorbar\":{\"outlinewidth\":0,\"ticks\":\"\"}},\"type\":\"scatterpolar\"}],\"scatterpolargl\":[{\"marker\":{\"colorbar\":{\"outlinewidth\":0,\"ticks\":\"\"}},\"type\":\"scatterpolargl\"}],\"scatterternary\":[{\"marker\":{\"colorbar\":{\"outlinewidth\":0,\"ticks\":\"\"}},\"type\":\"scatterternary\"}],\"surface\":[{\"colorbar\":{\"outlinewidth\":0,\"ticks\":\"\"},\"colorscale\":[[0.0,\"#0d0887\"],[0.1111111111111111,\"#46039f\"],[0.2222222222222222,\"#7201a8\"],[0.3333333333333333,\"#9c179e\"],[0.4444444444444444,\"#bd3786\"],[0.5555555555555556,\"#d8576b\"],[0.6666666666666666,\"#ed7953\"],[0.7777777777777778,\"#fb9f3a\"],[0.8888888888888888,\"#fdca26\"],[1.0,\"#f0f921\"]],\"type\":\"surface\"}],\"table\":[{\"cells\":{\"fill\":{\"color\":\"#EBF0F8\"},\"line\":{\"color\":\"white\"}},\"header\":{\"fill\":{\"color\":\"#C8D4E3\"},\"line\":{\"color\":\"white\"}},\"type\":\"table\"}]},\"layout\":{\"annotationdefaults\":{\"arrowcolor\":\"#2a3f5f\",\"arrowhead\":0,\"arrowwidth\":1},\"autotypenumbers\":\"strict\",\"coloraxis\":{\"colorbar\":{\"outlinewidth\":0,\"ticks\":\"\"}},\"colorscale\":{\"diverging\":[[0,\"#8e0152\"],[0.1,\"#c51b7d\"],[0.2,\"#de77ae\"],[0.3,\"#f1b6da\"],[0.4,\"#fde0ef\"],[0.5,\"#f7f7f7\"],[0.6,\"#e6f5d0\"],[0.7,\"#b8e186\"],[0.8,\"#7fbc41\"],[0.9,\"#4d9221\"],[1,\"#276419\"]],\"sequential\":[[0.0,\"#0d0887\"],[0.1111111111111111,\"#46039f\"],[0.2222222222222222,\"#7201a8\"],[0.3333333333333333,\"#9c179e\"],[0.4444444444444444,\"#bd3786\"],[0.5555555555555556,\"#d8576b\"],[0.6666666666666666,\"#ed7953\"],[0.7777777777777778,\"#fb9f3a\"],[0.8888888888888888,\"#fdca26\"],[1.0,\"#f0f921\"]],\"sequentialminus\":[[0.0,\"#0d0887\"],[0.1111111111111111,\"#46039f\"],[0.2222222222222222,\"#7201a8\"],[0.3333333333333333,\"#9c179e\"],[0.4444444444444444,\"#bd3786\"],[0.5555555555555556,\"#d8576b\"],[0.6666666666666666,\"#ed7953\"],[0.7777777777777778,\"#fb9f3a\"],[0.8888888888888888,\"#fdca26\"],[1.0,\"#f0f921\"]]},\"colorway\":[\"#636efa\",\"#EF553B\",\"#00cc96\",\"#ab63fa\",\"#FFA15A\",\"#19d3f3\",\"#FF6692\",\"#B6E880\",\"#FF97FF\",\"#FECB52\"],\"font\":{\"color\":\"#2a3f5f\"},\"geo\":{\"bgcolor\":\"white\",\"lakecolor\":\"white\",\"landcolor\":\"#E5ECF6\",\"showlakes\":true,\"showland\":true,\"subunitcolor\":\"white\"},\"hoverlabel\":{\"align\":\"left\"},\"hovermode\":\"closest\",\"mapbox\":{\"style\":\"light\"},\"paper_bgcolor\":\"white\",\"plot_bgcolor\":\"#E5ECF6\",\"polar\":{\"angularaxis\":{\"gridcolor\":\"white\",\"linecolor\":\"white\",\"ticks\":\"\"},\"bgcolor\":\"#E5ECF6\",\"radialaxis\":{\"gridcolor\":\"white\",\"linecolor\":\"white\",\"ticks\":\"\"}},\"scene\":{\"xaxis\":{\"backgroundcolor\":\"#E5ECF6\",\"gridcolor\":\"white\",\"gridwidth\":2,\"linecolor\":\"white\",\"showbackground\":true,\"ticks\":\"\",\"zerolinecolor\":\"white\"},\"yaxis\":{\"backgroundcolor\":\"#E5ECF6\",\"gridcolor\":\"white\",\"gridwidth\":2,\"linecolor\":\"white\",\"showbackground\":true,\"ticks\":\"\",\"zerolinecolor\":\"white\"},\"zaxis\":{\"backgroundcolor\":\"#E5ECF6\",\"gridcolor\":\"white\",\"gridwidth\":2,\"linecolor\":\"white\",\"showbackground\":true,\"ticks\":\"\",\"zerolinecolor\":\"white\"}},\"shapedefaults\":{\"line\":{\"color\":\"#2a3f5f\"}},\"ternary\":{\"aaxis\":{\"gridcolor\":\"white\",\"linecolor\":\"white\",\"ticks\":\"\"},\"baxis\":{\"gridcolor\":\"white\",\"linecolor\":\"white\",\"ticks\":\"\"},\"bgcolor\":\"#E5ECF6\",\"caxis\":{\"gridcolor\":\"white\",\"linecolor\":\"white\",\"ticks\":\"\"}},\"title\":{\"x\":0.05},\"xaxis\":{\"automargin\":true,\"gridcolor\":\"white\",\"linecolor\":\"white\",\"ticks\":\"\",\"title\":{\"standoff\":15},\"zerolinecolor\":\"white\",\"zerolinewidth\":2},\"yaxis\":{\"automargin\":true,\"gridcolor\":\"white\",\"linecolor\":\"white\",\"ticks\":\"\",\"title\":{\"standoff\":15},\"zerolinecolor\":\"white\",\"zerolinewidth\":2}}},\"xaxis\":{\"anchor\":\"y\",\"domain\":[0.0,1.0],\"title\":{\"text\":\"value\"}},\"yaxis\":{\"anchor\":\"x\",\"domain\":[0.0,1.0],\"title\":{\"text\":\"count\"}},\"legend\":{\"title\":{\"text\":\"variable\"},\"tracegroupgap\":0},\"margin\":{\"t\":60},\"barmode\":\"relative\"},                        {\"responsive\": true}                    ).then(function(){\n",
       "                            \n",
       "var gd = document.getElementById('11a13618-12b7-4247-bbfb-7ddc7760e567');\n",
       "var x = new MutationObserver(function (mutations, observer) {{\n",
       "        var display = window.getComputedStyle(gd).display;\n",
       "        if (!display || display === 'none') {{\n",
       "            console.log([gd, 'removed!']);\n",
       "            Plotly.purge(gd);\n",
       "            observer.disconnect();\n",
       "        }}\n",
       "}});\n",
       "\n",
       "// Listen for the removal of the full notebook cells\n",
       "var notebookContainer = gd.closest('#notebook-container');\n",
       "if (notebookContainer) {{\n",
       "    x.observe(notebookContainer, {childList: true});\n",
       "}}\n",
       "\n",
       "// Listen for the clearing of the current output cell\n",
       "var outputEl = gd.closest('.output');\n",
       "if (outputEl) {{\n",
       "    x.observe(outputEl, {childList: true});\n",
       "}}\n",
       "\n",
       "                        })                };                });            </script>        </div>"
      ]
     },
     "metadata": {},
     "output_type": "display_data"
    }
   ],
   "source": [
    "fig = px.histogram(data.Age)\n",
    "fig.show()"
   ]
  },
  {
   "cell_type": "code",
   "execution_count": 229,
   "metadata": {},
   "outputs": [
    {
     "data": {
      "text/plain": [
       "count    918.000000\n",
       "mean      53.510893\n",
       "std        9.432617\n",
       "min       28.000000\n",
       "25%       47.000000\n",
       "50%       54.000000\n",
       "75%       60.000000\n",
       "max       77.000000\n",
       "Name: Age, dtype: float64"
      ]
     },
     "execution_count": 229,
     "metadata": {},
     "output_type": "execute_result"
    }
   ],
   "source": [
    "data.Age.describe()"
   ]
  },
  {
   "cell_type": "markdown",
   "metadata": {},
   "source": [
    "***The mean age of teh dataset is above 50 years and same can be interpreted from the histogram and it might be the main reason why we have more number of heart disease cases than not. In this case this case there is an selection bias as the data is more concentrating on Age groups above 40"
   ]
  },
  {
   "cell_type": "markdown",
   "metadata": {},
   "source": [
    "### RestingBP\n"
   ]
  },
  {
   "cell_type": "code",
   "execution_count": 230,
   "metadata": {},
   "outputs": [
    {
     "data": {
      "application/vnd.plotly.v1+json": {
       "config": {
        "plotlyServerURL": "https://plot.ly"
       },
       "data": [
        {
         "alignmentgroup": "True",
         "bingroup": "x",
         "hovertemplate": "HeartDisease=0<br>RestingBP=%{x}<br>count=%{y}<extra></extra>",
         "legendgroup": "0",
         "marker": {
          "color": "#636efa",
          "pattern": {
           "shape": ""
          }
         },
         "name": "0",
         "offsetgroup": "0",
         "orientation": "v",
         "showlegend": true,
         "type": "histogram",
         "x": [
          140,
          130,
          150,
          120,
          130,
          110,
          120,
          130,
          120,
          115,
          120,
          120,
          100,
          120,
          124,
          130,
          130,
          124,
          120,
          113,
          125,
          130,
          150,
          125,
          110,
          120,
          150,
          150,
          150,
          140,
          130,
          120,
          140,
          112,
          140,
          130,
          130,
          160,
          150,
          100,
          150,
          140,
          110,
          120,
          132,
          110,
          150,
          130,
          120,
          150,
          140,
          140,
          110,
          120,
          160,
          140,
          140,
          110,
          130,
          120,
          110,
          142,
          160,
          120,
          125,
          130,
          140,
          120,
          150,
          140,
          190,
          130,
          140,
          140,
          130,
          120,
          125,
          110,
          130,
          120,
          130,
          108,
          120,
          120,
          145,
          130,
          120,
          120,
          140,
          110,
          120,
          120,
          120,
          130,
          100,
          130,
          120,
          120,
          140,
          160,
          160,
          120,
          140,
          140,
          135,
          140,
          120,
          140,
          140,
          140,
          140,
          130,
          130,
          130,
          110,
          160,
          130,
          120,
          180,
          170,
          130,
          135,
          125,
          160,
          120,
          150,
          130,
          110,
          120,
          160,
          100,
          130,
          150,
          120,
          130,
          130,
          130,
          170,
          120,
          140,
          140,
          120,
          120,
          120,
          120,
          120,
          130,
          130,
          130,
          120,
          112,
          140,
          120,
          145,
          120,
          120,
          125,
          140,
          120,
          130,
          150,
          150,
          122,
          140,
          120,
          160,
          98,
          130,
          120,
          105,
          120,
          180,
          180,
          180,
          130,
          120,
          130,
          110,
          140,
          110,
          140,
          120,
          133,
          120,
          110,
          140,
          130,
          140,
          130,
          155,
          80,
          110,
          100,
          160,
          120,
          130,
          110,
          120,
          180,
          126,
          120,
          126,
          152,
          138,
          120,
          154,
          104,
          128,
          134,
          132,
          124,
          131,
          132,
          110,
          140,
          132,
          132,
          106,
          136,
          123,
          130,
          130,
          150,
          130,
          139,
          110,
          140,
          132,
          139,
          120,
          155,
          160,
          133,
          132,
          140,
          150,
          142,
          118,
          136,
          100,
          133,
          130,
          134,
          114,
          135,
          140,
          115,
          128,
          120,
          120,
          135,
          142,
          140,
          128,
          112,
          110,
          140,
          130,
          115,
          112,
          132,
          130,
          138,
          120,
          110,
          160,
          120,
          130,
          122,
          124,
          130,
          101,
          140,
          128,
          140,
          140,
          130,
          105,
          120,
          150,
          120,
          150,
          145,
          140,
          118,
          120,
          156,
          140,
          106,
          104,
          94,
          120,
          120,
          130,
          110,
          148,
          128,
          178,
          126,
          140,
          120,
          140,
          120,
          108,
          130,
          100,
          112,
          110,
          135,
          120,
          134,
          150,
          160,
          125,
          160,
          136,
          134,
          140,
          150,
          142,
          152,
          118,
          132,
          138,
          125,
          112,
          112,
          120,
          108,
          130,
          130,
          105,
          128,
          120,
          130,
          110,
          180,
          110,
          130,
          138,
          160,
          120,
          118,
          129,
          120,
          102,
          130,
          130,
          108,
          140,
          140,
          108,
          124,
          135,
          100,
          110,
          140,
          118,
          152,
          102,
          105,
          130,
          125,
          122,
          130,
          130,
          135,
          94,
          120,
          120,
          150,
          138,
          135,
          150,
          118,
          115,
          130,
          138,
          138,
          120,
          140,
          130,
          140,
          155,
          130,
          110,
          150,
          160,
          150,
          150,
          120,
          130,
          172,
          120,
          140,
          140,
          128,
          138,
          170,
          146,
          138,
          130,
          130,
          122,
          125,
          130,
          120,
          132,
          120,
          138
         ],
         "xaxis": "x",
         "yaxis": "y"
        },
        {
         "alignmentgroup": "True",
         "bingroup": "x",
         "hovertemplate": "HeartDisease=1<br>RestingBP=%{x}<br>count=%{y}<extra></extra>",
         "legendgroup": "1",
         "marker": {
          "color": "#EF553B",
          "pattern": {
           "shape": ""
          }
         },
         "name": "1",
         "offsetgroup": "1",
         "orientation": "v",
         "showlegend": true,
         "type": "histogram",
         "x": [
          160,
          138,
          140,
          136,
          140,
          110,
          100,
          120,
          150,
          145,
          125,
          130,
          140,
          130,
          120,
          110,
          130,
          120,
          120,
          130,
          112,
          120,
          160,
          140,
          120,
          140,
          118,
          130,
          150,
          150,
          140,
          170,
          120,
          160,
          130,
          130,
          150,
          120,
          118,
          150,
          100,
          120,
          130,
          140,
          135,
          180,
          110,
          170,
          150,
          115,
          140,
          150,
          160,
          140,
          160,
          120,
          130,
          155,
          110,
          130,
          140,
          128,
          140,
          140,
          140,
          140,
          140,
          130,
          140,
          160,
          120,
          180,
          120,
          110,
          125,
          106,
          140,
          150,
          110,
          130,
          160,
          145,
          92,
          120,
          140,
          160,
          160,
          200,
          160,
          160,
          120,
          122,
          130,
          130,
          135,
          120,
          145,
          120,
          130,
          140,
          130,
          130,
          140,
          135,
          170,
          150,
          115,
          95,
          105,
          145,
          110,
          110,
          110,
          160,
          125,
          120,
          95,
          120,
          115,
          115,
          95,
          125,
          125,
          115,
          145,
          105,
          140,
          130,
          145,
          125,
          100,
          105,
          115,
          100,
          105,
          125,
          95,
          130,
          115,
          115,
          95,
          130,
          120,
          150,
          140,
          95,
          100,
          110,
          110,
          130,
          120,
          135,
          120,
          115,
          137,
          110,
          120,
          140,
          120,
          130,
          120,
          145,
          115,
          120,
          115,
          105,
          160,
          160,
          155,
          120,
          200,
          150,
          135,
          140,
          150,
          135,
          150,
          185,
          135,
          125,
          160,
          155,
          160,
          140,
          120,
          160,
          115,
          115,
          110,
          120,
          150,
          145,
          130,
          140,
          160,
          140,
          115,
          130,
          150,
          160,
          135,
          140,
          170,
          165,
          200,
          160,
          130,
          145,
          135,
          110,
          120,
          140,
          115,
          110,
          160,
          150,
          180,
          125,
          125,
          130,
          155,
          140,
          132,
          142,
          150,
          120,
          160,
          140,
          110,
          133,
          128,
          170,
          110,
          116,
          120,
          130,
          128,
          130,
          128,
          130,
          120,
          136,
          130,
          124,
          160,
          0,
          122,
          144,
          140,
          136,
          120,
          125,
          134,
          139,
          136,
          122,
          131,
          120,
          152,
          126,
          138,
          154,
          141,
          178,
          110,
          130,
          170,
          126,
          140,
          142,
          120,
          134,
          139,
          140,
          136,
          120,
          170,
          130,
          137,
          142,
          142,
          146,
          160,
          135,
          136,
          130,
          140,
          158,
          136,
          136,
          120,
          110,
          160,
          112,
          122,
          150,
          150,
          102,
          96,
          120,
          144,
          124,
          144,
          131,
          143,
          133,
          143,
          116,
          110,
          125,
          130,
          133,
          150,
          130,
          138,
          104,
          138,
          170,
          132,
          142,
          112,
          172,
          144,
          145,
          150,
          137,
          137,
          134,
          135,
          144,
          141,
          130,
          110,
          158,
          128,
          140,
          150,
          160,
          142,
          137,
          139,
          146,
          156,
          145,
          131,
          140,
          122,
          141,
          180,
          124,
          140,
          140,
          190,
          130,
          160,
          130,
          122,
          120,
          130,
          140,
          120,
          155,
          160,
          144,
          158,
          134,
          127,
          122,
          120,
          130,
          124,
          130,
          110,
          140,
          150,
          134,
          140,
          140,
          120,
          112,
          128,
          170,
          144,
          130,
          140,
          160,
          152,
          126,
          118,
          110,
          160,
          150,
          136,
          138,
          174,
          120,
          130,
          150,
          136,
          108,
          120,
          142,
          146,
          120,
          150,
          150,
          130,
          124,
          110,
          125,
          110,
          100,
          120,
          165,
          130,
          124,
          150,
          140,
          180,
          158,
          120,
          200,
          130,
          120,
          122,
          152,
          120,
          117,
          108,
          112,
          120,
          125,
          145,
          140,
          192,
          123,
          112,
          110,
          132,
          140,
          178,
          120,
          150,
          128,
          138,
          140,
          100,
          138,
          140,
          150,
          125,
          134,
          110,
          132,
          160,
          145,
          126,
          125,
          125,
          125,
          140,
          160,
          125,
          170,
          128,
          110,
          135,
          130,
          130,
          132,
          145,
          118,
          128,
          160,
          120,
          180,
          140,
          130,
          110,
          140,
          145,
          120,
          112,
          132,
          140,
          130,
          120,
          110,
          160,
          132,
          128,
          134,
          154,
          110,
          128,
          148,
          114,
          170,
          152,
          120,
          140,
          124,
          164,
          140,
          110,
          144,
          130,
          130
         ],
         "xaxis": "x",
         "yaxis": "y"
        }
       ],
       "layout": {
        "barmode": "relative",
        "legend": {
         "title": {
          "text": "HeartDisease"
         },
         "tracegroupgap": 0
        },
        "margin": {
         "t": 60
        },
        "template": {
         "data": {
          "bar": [
           {
            "error_x": {
             "color": "#2a3f5f"
            },
            "error_y": {
             "color": "#2a3f5f"
            },
            "marker": {
             "line": {
              "color": "#E5ECF6",
              "width": 0.5
             },
             "pattern": {
              "fillmode": "overlay",
              "size": 10,
              "solidity": 0.2
             }
            },
            "type": "bar"
           }
          ],
          "barpolar": [
           {
            "marker": {
             "line": {
              "color": "#E5ECF6",
              "width": 0.5
             },
             "pattern": {
              "fillmode": "overlay",
              "size": 10,
              "solidity": 0.2
             }
            },
            "type": "barpolar"
           }
          ],
          "carpet": [
           {
            "aaxis": {
             "endlinecolor": "#2a3f5f",
             "gridcolor": "white",
             "linecolor": "white",
             "minorgridcolor": "white",
             "startlinecolor": "#2a3f5f"
            },
            "baxis": {
             "endlinecolor": "#2a3f5f",
             "gridcolor": "white",
             "linecolor": "white",
             "minorgridcolor": "white",
             "startlinecolor": "#2a3f5f"
            },
            "type": "carpet"
           }
          ],
          "choropleth": [
           {
            "colorbar": {
             "outlinewidth": 0,
             "ticks": ""
            },
            "type": "choropleth"
           }
          ],
          "contour": [
           {
            "colorbar": {
             "outlinewidth": 0,
             "ticks": ""
            },
            "colorscale": [
             [
              0,
              "#0d0887"
             ],
             [
              0.1111111111111111,
              "#46039f"
             ],
             [
              0.2222222222222222,
              "#7201a8"
             ],
             [
              0.3333333333333333,
              "#9c179e"
             ],
             [
              0.4444444444444444,
              "#bd3786"
             ],
             [
              0.5555555555555556,
              "#d8576b"
             ],
             [
              0.6666666666666666,
              "#ed7953"
             ],
             [
              0.7777777777777778,
              "#fb9f3a"
             ],
             [
              0.8888888888888888,
              "#fdca26"
             ],
             [
              1,
              "#f0f921"
             ]
            ],
            "type": "contour"
           }
          ],
          "contourcarpet": [
           {
            "colorbar": {
             "outlinewidth": 0,
             "ticks": ""
            },
            "type": "contourcarpet"
           }
          ],
          "heatmap": [
           {
            "colorbar": {
             "outlinewidth": 0,
             "ticks": ""
            },
            "colorscale": [
             [
              0,
              "#0d0887"
             ],
             [
              0.1111111111111111,
              "#46039f"
             ],
             [
              0.2222222222222222,
              "#7201a8"
             ],
             [
              0.3333333333333333,
              "#9c179e"
             ],
             [
              0.4444444444444444,
              "#bd3786"
             ],
             [
              0.5555555555555556,
              "#d8576b"
             ],
             [
              0.6666666666666666,
              "#ed7953"
             ],
             [
              0.7777777777777778,
              "#fb9f3a"
             ],
             [
              0.8888888888888888,
              "#fdca26"
             ],
             [
              1,
              "#f0f921"
             ]
            ],
            "type": "heatmap"
           }
          ],
          "heatmapgl": [
           {
            "colorbar": {
             "outlinewidth": 0,
             "ticks": ""
            },
            "colorscale": [
             [
              0,
              "#0d0887"
             ],
             [
              0.1111111111111111,
              "#46039f"
             ],
             [
              0.2222222222222222,
              "#7201a8"
             ],
             [
              0.3333333333333333,
              "#9c179e"
             ],
             [
              0.4444444444444444,
              "#bd3786"
             ],
             [
              0.5555555555555556,
              "#d8576b"
             ],
             [
              0.6666666666666666,
              "#ed7953"
             ],
             [
              0.7777777777777778,
              "#fb9f3a"
             ],
             [
              0.8888888888888888,
              "#fdca26"
             ],
             [
              1,
              "#f0f921"
             ]
            ],
            "type": "heatmapgl"
           }
          ],
          "histogram": [
           {
            "marker": {
             "pattern": {
              "fillmode": "overlay",
              "size": 10,
              "solidity": 0.2
             }
            },
            "type": "histogram"
           }
          ],
          "histogram2d": [
           {
            "colorbar": {
             "outlinewidth": 0,
             "ticks": ""
            },
            "colorscale": [
             [
              0,
              "#0d0887"
             ],
             [
              0.1111111111111111,
              "#46039f"
             ],
             [
              0.2222222222222222,
              "#7201a8"
             ],
             [
              0.3333333333333333,
              "#9c179e"
             ],
             [
              0.4444444444444444,
              "#bd3786"
             ],
             [
              0.5555555555555556,
              "#d8576b"
             ],
             [
              0.6666666666666666,
              "#ed7953"
             ],
             [
              0.7777777777777778,
              "#fb9f3a"
             ],
             [
              0.8888888888888888,
              "#fdca26"
             ],
             [
              1,
              "#f0f921"
             ]
            ],
            "type": "histogram2d"
           }
          ],
          "histogram2dcontour": [
           {
            "colorbar": {
             "outlinewidth": 0,
             "ticks": ""
            },
            "colorscale": [
             [
              0,
              "#0d0887"
             ],
             [
              0.1111111111111111,
              "#46039f"
             ],
             [
              0.2222222222222222,
              "#7201a8"
             ],
             [
              0.3333333333333333,
              "#9c179e"
             ],
             [
              0.4444444444444444,
              "#bd3786"
             ],
             [
              0.5555555555555556,
              "#d8576b"
             ],
             [
              0.6666666666666666,
              "#ed7953"
             ],
             [
              0.7777777777777778,
              "#fb9f3a"
             ],
             [
              0.8888888888888888,
              "#fdca26"
             ],
             [
              1,
              "#f0f921"
             ]
            ],
            "type": "histogram2dcontour"
           }
          ],
          "mesh3d": [
           {
            "colorbar": {
             "outlinewidth": 0,
             "ticks": ""
            },
            "type": "mesh3d"
           }
          ],
          "parcoords": [
           {
            "line": {
             "colorbar": {
              "outlinewidth": 0,
              "ticks": ""
             }
            },
            "type": "parcoords"
           }
          ],
          "pie": [
           {
            "automargin": true,
            "type": "pie"
           }
          ],
          "scatter": [
           {
            "marker": {
             "colorbar": {
              "outlinewidth": 0,
              "ticks": ""
             }
            },
            "type": "scatter"
           }
          ],
          "scatter3d": [
           {
            "line": {
             "colorbar": {
              "outlinewidth": 0,
              "ticks": ""
             }
            },
            "marker": {
             "colorbar": {
              "outlinewidth": 0,
              "ticks": ""
             }
            },
            "type": "scatter3d"
           }
          ],
          "scattercarpet": [
           {
            "marker": {
             "colorbar": {
              "outlinewidth": 0,
              "ticks": ""
             }
            },
            "type": "scattercarpet"
           }
          ],
          "scattergeo": [
           {
            "marker": {
             "colorbar": {
              "outlinewidth": 0,
              "ticks": ""
             }
            },
            "type": "scattergeo"
           }
          ],
          "scattergl": [
           {
            "marker": {
             "colorbar": {
              "outlinewidth": 0,
              "ticks": ""
             }
            },
            "type": "scattergl"
           }
          ],
          "scattermapbox": [
           {
            "marker": {
             "colorbar": {
              "outlinewidth": 0,
              "ticks": ""
             }
            },
            "type": "scattermapbox"
           }
          ],
          "scatterpolar": [
           {
            "marker": {
             "colorbar": {
              "outlinewidth": 0,
              "ticks": ""
             }
            },
            "type": "scatterpolar"
           }
          ],
          "scatterpolargl": [
           {
            "marker": {
             "colorbar": {
              "outlinewidth": 0,
              "ticks": ""
             }
            },
            "type": "scatterpolargl"
           }
          ],
          "scatterternary": [
           {
            "marker": {
             "colorbar": {
              "outlinewidth": 0,
              "ticks": ""
             }
            },
            "type": "scatterternary"
           }
          ],
          "surface": [
           {
            "colorbar": {
             "outlinewidth": 0,
             "ticks": ""
            },
            "colorscale": [
             [
              0,
              "#0d0887"
             ],
             [
              0.1111111111111111,
              "#46039f"
             ],
             [
              0.2222222222222222,
              "#7201a8"
             ],
             [
              0.3333333333333333,
              "#9c179e"
             ],
             [
              0.4444444444444444,
              "#bd3786"
             ],
             [
              0.5555555555555556,
              "#d8576b"
             ],
             [
              0.6666666666666666,
              "#ed7953"
             ],
             [
              0.7777777777777778,
              "#fb9f3a"
             ],
             [
              0.8888888888888888,
              "#fdca26"
             ],
             [
              1,
              "#f0f921"
             ]
            ],
            "type": "surface"
           }
          ],
          "table": [
           {
            "cells": {
             "fill": {
              "color": "#EBF0F8"
             },
             "line": {
              "color": "white"
             }
            },
            "header": {
             "fill": {
              "color": "#C8D4E3"
             },
             "line": {
              "color": "white"
             }
            },
            "type": "table"
           }
          ]
         },
         "layout": {
          "annotationdefaults": {
           "arrowcolor": "#2a3f5f",
           "arrowhead": 0,
           "arrowwidth": 1
          },
          "autotypenumbers": "strict",
          "coloraxis": {
           "colorbar": {
            "outlinewidth": 0,
            "ticks": ""
           }
          },
          "colorscale": {
           "diverging": [
            [
             0,
             "#8e0152"
            ],
            [
             0.1,
             "#c51b7d"
            ],
            [
             0.2,
             "#de77ae"
            ],
            [
             0.3,
             "#f1b6da"
            ],
            [
             0.4,
             "#fde0ef"
            ],
            [
             0.5,
             "#f7f7f7"
            ],
            [
             0.6,
             "#e6f5d0"
            ],
            [
             0.7,
             "#b8e186"
            ],
            [
             0.8,
             "#7fbc41"
            ],
            [
             0.9,
             "#4d9221"
            ],
            [
             1,
             "#276419"
            ]
           ],
           "sequential": [
            [
             0,
             "#0d0887"
            ],
            [
             0.1111111111111111,
             "#46039f"
            ],
            [
             0.2222222222222222,
             "#7201a8"
            ],
            [
             0.3333333333333333,
             "#9c179e"
            ],
            [
             0.4444444444444444,
             "#bd3786"
            ],
            [
             0.5555555555555556,
             "#d8576b"
            ],
            [
             0.6666666666666666,
             "#ed7953"
            ],
            [
             0.7777777777777778,
             "#fb9f3a"
            ],
            [
             0.8888888888888888,
             "#fdca26"
            ],
            [
             1,
             "#f0f921"
            ]
           ],
           "sequentialminus": [
            [
             0,
             "#0d0887"
            ],
            [
             0.1111111111111111,
             "#46039f"
            ],
            [
             0.2222222222222222,
             "#7201a8"
            ],
            [
             0.3333333333333333,
             "#9c179e"
            ],
            [
             0.4444444444444444,
             "#bd3786"
            ],
            [
             0.5555555555555556,
             "#d8576b"
            ],
            [
             0.6666666666666666,
             "#ed7953"
            ],
            [
             0.7777777777777778,
             "#fb9f3a"
            ],
            [
             0.8888888888888888,
             "#fdca26"
            ],
            [
             1,
             "#f0f921"
            ]
           ]
          },
          "colorway": [
           "#636efa",
           "#EF553B",
           "#00cc96",
           "#ab63fa",
           "#FFA15A",
           "#19d3f3",
           "#FF6692",
           "#B6E880",
           "#FF97FF",
           "#FECB52"
          ],
          "font": {
           "color": "#2a3f5f"
          },
          "geo": {
           "bgcolor": "white",
           "lakecolor": "white",
           "landcolor": "#E5ECF6",
           "showlakes": true,
           "showland": true,
           "subunitcolor": "white"
          },
          "hoverlabel": {
           "align": "left"
          },
          "hovermode": "closest",
          "mapbox": {
           "style": "light"
          },
          "paper_bgcolor": "white",
          "plot_bgcolor": "#E5ECF6",
          "polar": {
           "angularaxis": {
            "gridcolor": "white",
            "linecolor": "white",
            "ticks": ""
           },
           "bgcolor": "#E5ECF6",
           "radialaxis": {
            "gridcolor": "white",
            "linecolor": "white",
            "ticks": ""
           }
          },
          "scene": {
           "xaxis": {
            "backgroundcolor": "#E5ECF6",
            "gridcolor": "white",
            "gridwidth": 2,
            "linecolor": "white",
            "showbackground": true,
            "ticks": "",
            "zerolinecolor": "white"
           },
           "yaxis": {
            "backgroundcolor": "#E5ECF6",
            "gridcolor": "white",
            "gridwidth": 2,
            "linecolor": "white",
            "showbackground": true,
            "ticks": "",
            "zerolinecolor": "white"
           },
           "zaxis": {
            "backgroundcolor": "#E5ECF6",
            "gridcolor": "white",
            "gridwidth": 2,
            "linecolor": "white",
            "showbackground": true,
            "ticks": "",
            "zerolinecolor": "white"
           }
          },
          "shapedefaults": {
           "line": {
            "color": "#2a3f5f"
           }
          },
          "ternary": {
           "aaxis": {
            "gridcolor": "white",
            "linecolor": "white",
            "ticks": ""
           },
           "baxis": {
            "gridcolor": "white",
            "linecolor": "white",
            "ticks": ""
           },
           "bgcolor": "#E5ECF6",
           "caxis": {
            "gridcolor": "white",
            "linecolor": "white",
            "ticks": ""
           }
          },
          "title": {
           "x": 0.05
          },
          "xaxis": {
           "automargin": true,
           "gridcolor": "white",
           "linecolor": "white",
           "ticks": "",
           "title": {
            "standoff": 15
           },
           "zerolinecolor": "white",
           "zerolinewidth": 2
          },
          "yaxis": {
           "automargin": true,
           "gridcolor": "white",
           "linecolor": "white",
           "ticks": "",
           "title": {
            "standoff": 15
           },
           "zerolinecolor": "white",
           "zerolinewidth": 2
          }
         }
        },
        "xaxis": {
         "anchor": "y",
         "domain": [
          0,
          1
         ],
         "title": {
          "text": "RestingBP"
         }
        },
        "yaxis": {
         "anchor": "x",
         "domain": [
          0,
          1
         ],
         "title": {
          "text": "count"
         }
        }
       }
      },
      "text/html": [
       "<div>                            <div id=\"bad54f09-b1a6-4fdc-88d5-cda47712be94\" class=\"plotly-graph-div\" style=\"height:525px; width:100%;\"></div>            <script type=\"text/javascript\">                require([\"plotly\"], function(Plotly) {                    window.PLOTLYENV=window.PLOTLYENV || {};                                    if (document.getElementById(\"bad54f09-b1a6-4fdc-88d5-cda47712be94\")) {                    Plotly.newPlot(                        \"bad54f09-b1a6-4fdc-88d5-cda47712be94\",                        [{\"alignmentgroup\":\"True\",\"bingroup\":\"x\",\"hovertemplate\":\"HeartDisease=0<br>RestingBP=%{x}<br>count=%{y}<extra></extra>\",\"legendgroup\":\"0\",\"marker\":{\"color\":\"#636efa\",\"pattern\":{\"shape\":\"\"}},\"name\":\"0\",\"offsetgroup\":\"0\",\"orientation\":\"v\",\"showlegend\":true,\"x\":[140,130,150,120,130,110,120,130,120,115,120,120,100,120,124,130,130,124,120,113,125,130,150,125,110,120,150,150,150,140,130,120,140,112,140,130,130,160,150,100,150,140,110,120,132,110,150,130,120,150,140,140,110,120,160,140,140,110,130,120,110,142,160,120,125,130,140,120,150,140,190,130,140,140,130,120,125,110,130,120,130,108,120,120,145,130,120,120,140,110,120,120,120,130,100,130,120,120,140,160,160,120,140,140,135,140,120,140,140,140,140,130,130,130,110,160,130,120,180,170,130,135,125,160,120,150,130,110,120,160,100,130,150,120,130,130,130,170,120,140,140,120,120,120,120,120,130,130,130,120,112,140,120,145,120,120,125,140,120,130,150,150,122,140,120,160,98,130,120,105,120,180,180,180,130,120,130,110,140,110,140,120,133,120,110,140,130,140,130,155,80,110,100,160,120,130,110,120,180,126,120,126,152,138,120,154,104,128,134,132,124,131,132,110,140,132,132,106,136,123,130,130,150,130,139,110,140,132,139,120,155,160,133,132,140,150,142,118,136,100,133,130,134,114,135,140,115,128,120,120,135,142,140,128,112,110,140,130,115,112,132,130,138,120,110,160,120,130,122,124,130,101,140,128,140,140,130,105,120,150,120,150,145,140,118,120,156,140,106,104,94,120,120,130,110,148,128,178,126,140,120,140,120,108,130,100,112,110,135,120,134,150,160,125,160,136,134,140,150,142,152,118,132,138,125,112,112,120,108,130,130,105,128,120,130,110,180,110,130,138,160,120,118,129,120,102,130,130,108,140,140,108,124,135,100,110,140,118,152,102,105,130,125,122,130,130,135,94,120,120,150,138,135,150,118,115,130,138,138,120,140,130,140,155,130,110,150,160,150,150,120,130,172,120,140,140,128,138,170,146,138,130,130,122,125,130,120,132,120,138],\"xaxis\":\"x\",\"yaxis\":\"y\",\"type\":\"histogram\"},{\"alignmentgroup\":\"True\",\"bingroup\":\"x\",\"hovertemplate\":\"HeartDisease=1<br>RestingBP=%{x}<br>count=%{y}<extra></extra>\",\"legendgroup\":\"1\",\"marker\":{\"color\":\"#EF553B\",\"pattern\":{\"shape\":\"\"}},\"name\":\"1\",\"offsetgroup\":\"1\",\"orientation\":\"v\",\"showlegend\":true,\"x\":[160,138,140,136,140,110,100,120,150,145,125,130,140,130,120,110,130,120,120,130,112,120,160,140,120,140,118,130,150,150,140,170,120,160,130,130,150,120,118,150,100,120,130,140,135,180,110,170,150,115,140,150,160,140,160,120,130,155,110,130,140,128,140,140,140,140,140,130,140,160,120,180,120,110,125,106,140,150,110,130,160,145,92,120,140,160,160,200,160,160,120,122,130,130,135,120,145,120,130,140,130,130,140,135,170,150,115,95,105,145,110,110,110,160,125,120,95,120,115,115,95,125,125,115,145,105,140,130,145,125,100,105,115,100,105,125,95,130,115,115,95,130,120,150,140,95,100,110,110,130,120,135,120,115,137,110,120,140,120,130,120,145,115,120,115,105,160,160,155,120,200,150,135,140,150,135,150,185,135,125,160,155,160,140,120,160,115,115,110,120,150,145,130,140,160,140,115,130,150,160,135,140,170,165,200,160,130,145,135,110,120,140,115,110,160,150,180,125,125,130,155,140,132,142,150,120,160,140,110,133,128,170,110,116,120,130,128,130,128,130,120,136,130,124,160,0,122,144,140,136,120,125,134,139,136,122,131,120,152,126,138,154,141,178,110,130,170,126,140,142,120,134,139,140,136,120,170,130,137,142,142,146,160,135,136,130,140,158,136,136,120,110,160,112,122,150,150,102,96,120,144,124,144,131,143,133,143,116,110,125,130,133,150,130,138,104,138,170,132,142,112,172,144,145,150,137,137,134,135,144,141,130,110,158,128,140,150,160,142,137,139,146,156,145,131,140,122,141,180,124,140,140,190,130,160,130,122,120,130,140,120,155,160,144,158,134,127,122,120,130,124,130,110,140,150,134,140,140,120,112,128,170,144,130,140,160,152,126,118,110,160,150,136,138,174,120,130,150,136,108,120,142,146,120,150,150,130,124,110,125,110,100,120,165,130,124,150,140,180,158,120,200,130,120,122,152,120,117,108,112,120,125,145,140,192,123,112,110,132,140,178,120,150,128,138,140,100,138,140,150,125,134,110,132,160,145,126,125,125,125,140,160,125,170,128,110,135,130,130,132,145,118,128,160,120,180,140,130,110,140,145,120,112,132,140,130,120,110,160,132,128,134,154,110,128,148,114,170,152,120,140,124,164,140,110,144,130,130],\"xaxis\":\"x\",\"yaxis\":\"y\",\"type\":\"histogram\"}],                        {\"template\":{\"data\":{\"bar\":[{\"error_x\":{\"color\":\"#2a3f5f\"},\"error_y\":{\"color\":\"#2a3f5f\"},\"marker\":{\"line\":{\"color\":\"#E5ECF6\",\"width\":0.5},\"pattern\":{\"fillmode\":\"overlay\",\"size\":10,\"solidity\":0.2}},\"type\":\"bar\"}],\"barpolar\":[{\"marker\":{\"line\":{\"color\":\"#E5ECF6\",\"width\":0.5},\"pattern\":{\"fillmode\":\"overlay\",\"size\":10,\"solidity\":0.2}},\"type\":\"barpolar\"}],\"carpet\":[{\"aaxis\":{\"endlinecolor\":\"#2a3f5f\",\"gridcolor\":\"white\",\"linecolor\":\"white\",\"minorgridcolor\":\"white\",\"startlinecolor\":\"#2a3f5f\"},\"baxis\":{\"endlinecolor\":\"#2a3f5f\",\"gridcolor\":\"white\",\"linecolor\":\"white\",\"minorgridcolor\":\"white\",\"startlinecolor\":\"#2a3f5f\"},\"type\":\"carpet\"}],\"choropleth\":[{\"colorbar\":{\"outlinewidth\":0,\"ticks\":\"\"},\"type\":\"choropleth\"}],\"contour\":[{\"colorbar\":{\"outlinewidth\":0,\"ticks\":\"\"},\"colorscale\":[[0.0,\"#0d0887\"],[0.1111111111111111,\"#46039f\"],[0.2222222222222222,\"#7201a8\"],[0.3333333333333333,\"#9c179e\"],[0.4444444444444444,\"#bd3786\"],[0.5555555555555556,\"#d8576b\"],[0.6666666666666666,\"#ed7953\"],[0.7777777777777778,\"#fb9f3a\"],[0.8888888888888888,\"#fdca26\"],[1.0,\"#f0f921\"]],\"type\":\"contour\"}],\"contourcarpet\":[{\"colorbar\":{\"outlinewidth\":0,\"ticks\":\"\"},\"type\":\"contourcarpet\"}],\"heatmap\":[{\"colorbar\":{\"outlinewidth\":0,\"ticks\":\"\"},\"colorscale\":[[0.0,\"#0d0887\"],[0.1111111111111111,\"#46039f\"],[0.2222222222222222,\"#7201a8\"],[0.3333333333333333,\"#9c179e\"],[0.4444444444444444,\"#bd3786\"],[0.5555555555555556,\"#d8576b\"],[0.6666666666666666,\"#ed7953\"],[0.7777777777777778,\"#fb9f3a\"],[0.8888888888888888,\"#fdca26\"],[1.0,\"#f0f921\"]],\"type\":\"heatmap\"}],\"heatmapgl\":[{\"colorbar\":{\"outlinewidth\":0,\"ticks\":\"\"},\"colorscale\":[[0.0,\"#0d0887\"],[0.1111111111111111,\"#46039f\"],[0.2222222222222222,\"#7201a8\"],[0.3333333333333333,\"#9c179e\"],[0.4444444444444444,\"#bd3786\"],[0.5555555555555556,\"#d8576b\"],[0.6666666666666666,\"#ed7953\"],[0.7777777777777778,\"#fb9f3a\"],[0.8888888888888888,\"#fdca26\"],[1.0,\"#f0f921\"]],\"type\":\"heatmapgl\"}],\"histogram\":[{\"marker\":{\"pattern\":{\"fillmode\":\"overlay\",\"size\":10,\"solidity\":0.2}},\"type\":\"histogram\"}],\"histogram2d\":[{\"colorbar\":{\"outlinewidth\":0,\"ticks\":\"\"},\"colorscale\":[[0.0,\"#0d0887\"],[0.1111111111111111,\"#46039f\"],[0.2222222222222222,\"#7201a8\"],[0.3333333333333333,\"#9c179e\"],[0.4444444444444444,\"#bd3786\"],[0.5555555555555556,\"#d8576b\"],[0.6666666666666666,\"#ed7953\"],[0.7777777777777778,\"#fb9f3a\"],[0.8888888888888888,\"#fdca26\"],[1.0,\"#f0f921\"]],\"type\":\"histogram2d\"}],\"histogram2dcontour\":[{\"colorbar\":{\"outlinewidth\":0,\"ticks\":\"\"},\"colorscale\":[[0.0,\"#0d0887\"],[0.1111111111111111,\"#46039f\"],[0.2222222222222222,\"#7201a8\"],[0.3333333333333333,\"#9c179e\"],[0.4444444444444444,\"#bd3786\"],[0.5555555555555556,\"#d8576b\"],[0.6666666666666666,\"#ed7953\"],[0.7777777777777778,\"#fb9f3a\"],[0.8888888888888888,\"#fdca26\"],[1.0,\"#f0f921\"]],\"type\":\"histogram2dcontour\"}],\"mesh3d\":[{\"colorbar\":{\"outlinewidth\":0,\"ticks\":\"\"},\"type\":\"mesh3d\"}],\"parcoords\":[{\"line\":{\"colorbar\":{\"outlinewidth\":0,\"ticks\":\"\"}},\"type\":\"parcoords\"}],\"pie\":[{\"automargin\":true,\"type\":\"pie\"}],\"scatter\":[{\"marker\":{\"colorbar\":{\"outlinewidth\":0,\"ticks\":\"\"}},\"type\":\"scatter\"}],\"scatter3d\":[{\"line\":{\"colorbar\":{\"outlinewidth\":0,\"ticks\":\"\"}},\"marker\":{\"colorbar\":{\"outlinewidth\":0,\"ticks\":\"\"}},\"type\":\"scatter3d\"}],\"scattercarpet\":[{\"marker\":{\"colorbar\":{\"outlinewidth\":0,\"ticks\":\"\"}},\"type\":\"scattercarpet\"}],\"scattergeo\":[{\"marker\":{\"colorbar\":{\"outlinewidth\":0,\"ticks\":\"\"}},\"type\":\"scattergeo\"}],\"scattergl\":[{\"marker\":{\"colorbar\":{\"outlinewidth\":0,\"ticks\":\"\"}},\"type\":\"scattergl\"}],\"scattermapbox\":[{\"marker\":{\"colorbar\":{\"outlinewidth\":0,\"ticks\":\"\"}},\"type\":\"scattermapbox\"}],\"scatterpolar\":[{\"marker\":{\"colorbar\":{\"outlinewidth\":0,\"ticks\":\"\"}},\"type\":\"scatterpolar\"}],\"scatterpolargl\":[{\"marker\":{\"colorbar\":{\"outlinewidth\":0,\"ticks\":\"\"}},\"type\":\"scatterpolargl\"}],\"scatterternary\":[{\"marker\":{\"colorbar\":{\"outlinewidth\":0,\"ticks\":\"\"}},\"type\":\"scatterternary\"}],\"surface\":[{\"colorbar\":{\"outlinewidth\":0,\"ticks\":\"\"},\"colorscale\":[[0.0,\"#0d0887\"],[0.1111111111111111,\"#46039f\"],[0.2222222222222222,\"#7201a8\"],[0.3333333333333333,\"#9c179e\"],[0.4444444444444444,\"#bd3786\"],[0.5555555555555556,\"#d8576b\"],[0.6666666666666666,\"#ed7953\"],[0.7777777777777778,\"#fb9f3a\"],[0.8888888888888888,\"#fdca26\"],[1.0,\"#f0f921\"]],\"type\":\"surface\"}],\"table\":[{\"cells\":{\"fill\":{\"color\":\"#EBF0F8\"},\"line\":{\"color\":\"white\"}},\"header\":{\"fill\":{\"color\":\"#C8D4E3\"},\"line\":{\"color\":\"white\"}},\"type\":\"table\"}]},\"layout\":{\"annotationdefaults\":{\"arrowcolor\":\"#2a3f5f\",\"arrowhead\":0,\"arrowwidth\":1},\"autotypenumbers\":\"strict\",\"coloraxis\":{\"colorbar\":{\"outlinewidth\":0,\"ticks\":\"\"}},\"colorscale\":{\"diverging\":[[0,\"#8e0152\"],[0.1,\"#c51b7d\"],[0.2,\"#de77ae\"],[0.3,\"#f1b6da\"],[0.4,\"#fde0ef\"],[0.5,\"#f7f7f7\"],[0.6,\"#e6f5d0\"],[0.7,\"#b8e186\"],[0.8,\"#7fbc41\"],[0.9,\"#4d9221\"],[1,\"#276419\"]],\"sequential\":[[0.0,\"#0d0887\"],[0.1111111111111111,\"#46039f\"],[0.2222222222222222,\"#7201a8\"],[0.3333333333333333,\"#9c179e\"],[0.4444444444444444,\"#bd3786\"],[0.5555555555555556,\"#d8576b\"],[0.6666666666666666,\"#ed7953\"],[0.7777777777777778,\"#fb9f3a\"],[0.8888888888888888,\"#fdca26\"],[1.0,\"#f0f921\"]],\"sequentialminus\":[[0.0,\"#0d0887\"],[0.1111111111111111,\"#46039f\"],[0.2222222222222222,\"#7201a8\"],[0.3333333333333333,\"#9c179e\"],[0.4444444444444444,\"#bd3786\"],[0.5555555555555556,\"#d8576b\"],[0.6666666666666666,\"#ed7953\"],[0.7777777777777778,\"#fb9f3a\"],[0.8888888888888888,\"#fdca26\"],[1.0,\"#f0f921\"]]},\"colorway\":[\"#636efa\",\"#EF553B\",\"#00cc96\",\"#ab63fa\",\"#FFA15A\",\"#19d3f3\",\"#FF6692\",\"#B6E880\",\"#FF97FF\",\"#FECB52\"],\"font\":{\"color\":\"#2a3f5f\"},\"geo\":{\"bgcolor\":\"white\",\"lakecolor\":\"white\",\"landcolor\":\"#E5ECF6\",\"showlakes\":true,\"showland\":true,\"subunitcolor\":\"white\"},\"hoverlabel\":{\"align\":\"left\"},\"hovermode\":\"closest\",\"mapbox\":{\"style\":\"light\"},\"paper_bgcolor\":\"white\",\"plot_bgcolor\":\"#E5ECF6\",\"polar\":{\"angularaxis\":{\"gridcolor\":\"white\",\"linecolor\":\"white\",\"ticks\":\"\"},\"bgcolor\":\"#E5ECF6\",\"radialaxis\":{\"gridcolor\":\"white\",\"linecolor\":\"white\",\"ticks\":\"\"}},\"scene\":{\"xaxis\":{\"backgroundcolor\":\"#E5ECF6\",\"gridcolor\":\"white\",\"gridwidth\":2,\"linecolor\":\"white\",\"showbackground\":true,\"ticks\":\"\",\"zerolinecolor\":\"white\"},\"yaxis\":{\"backgroundcolor\":\"#E5ECF6\",\"gridcolor\":\"white\",\"gridwidth\":2,\"linecolor\":\"white\",\"showbackground\":true,\"ticks\":\"\",\"zerolinecolor\":\"white\"},\"zaxis\":{\"backgroundcolor\":\"#E5ECF6\",\"gridcolor\":\"white\",\"gridwidth\":2,\"linecolor\":\"white\",\"showbackground\":true,\"ticks\":\"\",\"zerolinecolor\":\"white\"}},\"shapedefaults\":{\"line\":{\"color\":\"#2a3f5f\"}},\"ternary\":{\"aaxis\":{\"gridcolor\":\"white\",\"linecolor\":\"white\",\"ticks\":\"\"},\"baxis\":{\"gridcolor\":\"white\",\"linecolor\":\"white\",\"ticks\":\"\"},\"bgcolor\":\"#E5ECF6\",\"caxis\":{\"gridcolor\":\"white\",\"linecolor\":\"white\",\"ticks\":\"\"}},\"title\":{\"x\":0.05},\"xaxis\":{\"automargin\":true,\"gridcolor\":\"white\",\"linecolor\":\"white\",\"ticks\":\"\",\"title\":{\"standoff\":15},\"zerolinecolor\":\"white\",\"zerolinewidth\":2},\"yaxis\":{\"automargin\":true,\"gridcolor\":\"white\",\"linecolor\":\"white\",\"ticks\":\"\",\"title\":{\"standoff\":15},\"zerolinecolor\":\"white\",\"zerolinewidth\":2}}},\"xaxis\":{\"anchor\":\"y\",\"domain\":[0.0,1.0],\"title\":{\"text\":\"RestingBP\"}},\"yaxis\":{\"anchor\":\"x\",\"domain\":[0.0,1.0],\"title\":{\"text\":\"count\"}},\"legend\":{\"title\":{\"text\":\"HeartDisease\"},\"tracegroupgap\":0},\"margin\":{\"t\":60},\"barmode\":\"relative\"},                        {\"responsive\": true}                    ).then(function(){\n",
       "                            \n",
       "var gd = document.getElementById('bad54f09-b1a6-4fdc-88d5-cda47712be94');\n",
       "var x = new MutationObserver(function (mutations, observer) {{\n",
       "        var display = window.getComputedStyle(gd).display;\n",
       "        if (!display || display === 'none') {{\n",
       "            console.log([gd, 'removed!']);\n",
       "            Plotly.purge(gd);\n",
       "            observer.disconnect();\n",
       "        }}\n",
       "}});\n",
       "\n",
       "// Listen for the removal of the full notebook cells\n",
       "var notebookContainer = gd.closest('#notebook-container');\n",
       "if (notebookContainer) {{\n",
       "    x.observe(notebookContainer, {childList: true});\n",
       "}}\n",
       "\n",
       "// Listen for the clearing of the current output cell\n",
       "var outputEl = gd.closest('.output');\n",
       "if (outputEl) {{\n",
       "    x.observe(outputEl, {childList: true});\n",
       "}}\n",
       "\n",
       "                        })                };                });            </script>        </div>"
      ]
     },
     "metadata": {},
     "output_type": "display_data"
    }
   ],
   "source": [
    "fig = px.histogram(data, x=\"RestingBP\", color=\"HeartDisease\")\n",
    "fig.show()"
   ]
  },
  {
   "cell_type": "markdown",
   "metadata": {},
   "source": [
    "**above plotted the resting BP which is stacked with heart disease "
   ]
  },
  {
   "cell_type": "markdown",
   "metadata": {},
   "source": [
    "### 2.3 Extracting the Categorical Columns and the Numerical columns "
   ]
  },
  {
   "cell_type": "code",
   "execution_count": 231,
   "metadata": {
    "colab": {
     "base_uri": "https://localhost:8080/"
    },
    "id": "0H2fqtgszsUi",
    "outputId": "ed3fb4e7-4b14-4dd9-ec21-dad9ab4d7b1f"
   },
   "outputs": [
    {
     "name": "stdout",
     "output_type": "stream",
     "text": [
      "all_columns:\n",
      " ['Age', 'Sex', 'ChestPainType', 'RestingBP', 'Cholesterol', 'FastingBS', 'RestingECG', 'MaxHR', 'ExerciseAngina', 'Oldpeak', 'ST_Slope', 'HeartDisease']\n",
      "Categorical columns:\n",
      " ['Sex', 'ChestPainType', 'RestingECG', 'ExerciseAngina', 'ST_Slope']\n",
      "Numerical columns:\n",
      " ['Age', 'RestingBP', 'Cholesterol', 'FastingBS', 'MaxHR', 'Oldpeak', 'HeartDisease']\n"
     ]
    }
   ],
   "source": [
    "all_columns = list(data.columns)\n",
    "print('all_columns:\\n {}'.format(all_columns))\n",
    "\n",
    "categorical_columns = list(data.select_dtypes(include=['object']).columns)\n",
    "print('Categorical columns:\\n {}'.format(categorical_columns))\n",
    "\n",
    "numerical_columns = list(data.select_dtypes(include=['int64', 'float64']).columns)\n",
    "print('Numerical columns:\\n {}'.format(numerical_columns))"
   ]
  },
  {
   "cell_type": "markdown",
   "metadata": {
    "id": "hShxq9WFz6Un"
   },
   "source": [
    "### 2.4 Label Encoding for categorical columns \n",
    "\n",
    "# add why using label encoding - > more columns - dinosour"
   ]
  },
  {
   "cell_type": "code",
   "execution_count": 232,
   "metadata": {
    "colab": {
     "base_uri": "https://localhost:8080/",
     "height": 206
    },
    "id": "_iQyC9--zsSq",
    "outputId": "fbdae9c2-cfed-40aa-a2da-6b69801134e3"
   },
   "outputs": [
    {
     "data": {
      "text/html": [
       "<div>\n",
       "<style scoped>\n",
       "    .dataframe tbody tr th:only-of-type {\n",
       "        vertical-align: middle;\n",
       "    }\n",
       "\n",
       "    .dataframe tbody tr th {\n",
       "        vertical-align: top;\n",
       "    }\n",
       "\n",
       "    .dataframe thead th {\n",
       "        text-align: right;\n",
       "    }\n",
       "</style>\n",
       "<table border=\"1\" class=\"dataframe\">\n",
       "  <thead>\n",
       "    <tr style=\"text-align: right;\">\n",
       "      <th></th>\n",
       "      <th>Sex</th>\n",
       "      <th>ChestPainType</th>\n",
       "      <th>RestingECG</th>\n",
       "      <th>ExerciseAngina</th>\n",
       "      <th>ST_Slope</th>\n",
       "    </tr>\n",
       "  </thead>\n",
       "  <tbody>\n",
       "    <tr>\n",
       "      <th>0</th>\n",
       "      <td>1</td>\n",
       "      <td>1</td>\n",
       "      <td>1</td>\n",
       "      <td>0</td>\n",
       "      <td>2</td>\n",
       "    </tr>\n",
       "    <tr>\n",
       "      <th>1</th>\n",
       "      <td>0</td>\n",
       "      <td>2</td>\n",
       "      <td>1</td>\n",
       "      <td>0</td>\n",
       "      <td>1</td>\n",
       "    </tr>\n",
       "    <tr>\n",
       "      <th>2</th>\n",
       "      <td>1</td>\n",
       "      <td>1</td>\n",
       "      <td>2</td>\n",
       "      <td>0</td>\n",
       "      <td>2</td>\n",
       "    </tr>\n",
       "    <tr>\n",
       "      <th>3</th>\n",
       "      <td>0</td>\n",
       "      <td>0</td>\n",
       "      <td>1</td>\n",
       "      <td>1</td>\n",
       "      <td>1</td>\n",
       "    </tr>\n",
       "    <tr>\n",
       "      <th>4</th>\n",
       "      <td>1</td>\n",
       "      <td>2</td>\n",
       "      <td>1</td>\n",
       "      <td>0</td>\n",
       "      <td>2</td>\n",
       "    </tr>\n",
       "  </tbody>\n",
       "</table>\n",
       "</div>"
      ],
      "text/plain": [
       "   Sex  ChestPainType  RestingECG  ExerciseAngina  ST_Slope\n",
       "0    1              1           1               0         2\n",
       "1    0              2           1               0         1\n",
       "2    1              1           2               0         2\n",
       "3    0              0           1               1         1\n",
       "4    1              2           1               0         2"
      ]
     },
     "execution_count": 232,
     "metadata": {},
     "output_type": "execute_result"
    }
   ],
   "source": [
    "label_encoder = LabelEncoder()\n",
    "encoded_data = data\n",
    "for i in categorical_columns:\n",
    "    encoded_data[i] = label_encoder.fit_transform(data[i])\n",
    "encoded_data[categorical_columns].head()"
   ]
  },
  {
   "cell_type": "markdown",
   "metadata": {},
   "source": [
    "### 2.5 Scaling the data.\n",
    "Applying the minmax scaler to maintain all the columns in the same magnitude "
   ]
  },
  {
   "cell_type": "code",
   "execution_count": 233,
   "metadata": {
    "id": "kahcSt4LzsQX"
   },
   "outputs": [],
   "source": [
    "min_max_scaler = MinMaxScaler()\n",
    "\n",
    "scale_encoded_data = encoded_data[numerical_columns]\n",
    "\n",
    "scale_encoded_data = min_max_scaler.fit_transform(scale_encoded_data)\n"
   ]
  },
  {
   "cell_type": "code",
   "execution_count": 234,
   "metadata": {
    "id": "eI13oLj-zsOi"
   },
   "outputs": [],
   "source": [
    "scale_encoded_data = pd.DataFrame(scale_encoded_data, columns=numerical_columns)"
   ]
  },
  {
   "cell_type": "code",
   "execution_count": 235,
   "metadata": {
    "id": "Qbvk2sa5zsMd"
   },
   "outputs": [],
   "source": [
    "for i in scale_encoded_data.columns:\n",
    "    encoded_data[i] = scale_encoded_data[i]"
   ]
  },
  {
   "cell_type": "markdown",
   "metadata": {
    "id": "T4wVF7xo0G9T"
   },
   "source": [
    "## 3. Prepare data for training"
   ]
  },
  {
   "cell_type": "code",
   "execution_count": 236,
   "metadata": {
    "id": "mvi_-q6-zsKF"
   },
   "outputs": [],
   "source": [
    "X = encoded_data.drop(['HeartDisease'], axis=1)\n",
    "y = encoded_data['HeartDisease']"
   ]
  },
  {
   "cell_type": "code",
   "execution_count": 237,
   "metadata": {},
   "outputs": [],
   "source": [
    "# Train and test split\n",
    "from sklearn.model_selection import train_test_split\n",
    "X_train, X_test, y_train, y_test = train_test_split(X, y, test_size=0.25, random_state=62, stratify=y) # using stratify split\n"
   ]
  },
  {
   "cell_type": "code",
   "execution_count": 238,
   "metadata": {},
   "outputs": [
    {
     "name": "stdout",
     "output_type": "stream",
     "text": [
      "Target Training Data Shape: (688,)\n",
      "Target Test Data Shape: (230,)\n",
      "Variables Training Data Shape: (688, 11)\n",
      "Variable Test Data Shape: (230, 11)\n"
     ]
    }
   ],
   "source": [
    "print(\"Target Training Data Shape:\" , y_train.shape)\n",
    "print(\"Target Test Data Shape:\" , y_test.shape)\n",
    "print(\"Variables Training Data Shape:\" , X_train.shape)\n",
    "print(\"Variable Test Data Shape:\" , X_test.shape)"
   ]
  },
  {
   "cell_type": "markdown",
   "metadata": {
    "id": "Scgc31dl3k5H"
   },
   "source": [
    "## 4. Training data"
   ]
  },
  {
   "cell_type": "markdown",
   "metadata": {},
   "source": [
    "#### 4.1  Creation of Key Functions"
   ]
  },
  {
   "cell_type": "code",
   "execution_count": 239,
   "metadata": {
    "id": "0Z1rjQOzzsFc"
   },
   "outputs": [],
   "source": [
    "# make f2 a valid validation\n",
    "def f2_scorer(y_true, y_pred):\n",
    "    y_true, y_pred, = np.array(y_true), np.array(y_pred)\n",
    "    return fbeta_score(y_true, y_pred, beta = 2, pos_label = 0, average = 'binary')\n",
    "\n",
    "f2 = make_scorer(f2_scorer, greater_is_better=True)\n",
    "\n",
    "# here for question b: make f05 a valid validation\n",
    "def f05_scorer(y_true, y_pred):\n",
    "    y_true, y_pred, = np.array(y_true), np.array(y_pred)\n",
    "    return fbeta_score(y_true, y_pred, beta = 0.5, pos_label = 0, average = 'binary')\n",
    "\n",
    "f05 = make_scorer(f05_scorer, greater_is_better = True)"
   ]
  },
  {
   "cell_type": "code",
   "execution_count": 240,
   "metadata": {},
   "outputs": [],
   "source": [
    "# SVM with polynomial kernel\n",
    "# for score = f2 and f0.5\n",
    "# hyperparameters gamma, C and degree, degree is the main one\n",
    "# https://scikit-learn.org/stable/modules/generated/sklearn.svm.SVC.html\n",
    "#\n",
    "def plot_poly_curve(gammas = 'auto', Cs = 1, degrees = 3, scoring = f2): # by default\n",
    "    \n",
    "    num_splits = 5 # use of k-fold is good\n",
    "    kfold = KFold(n_splits = 5) # ,random_state = 0) \n",
    "    \n",
    "    if type(degrees) == np.ndarray:\n",
    "        svm_poly = svm.SVC(kernel = 'poly', gamma = gammas, C = Cs) # here C is fixed\n",
    "        num_values = len(degrees)\n",
    "        train_scores, valid_scores = validation_curve(svm_poly, X_train, y_train, param_name = \"degree\", param_range =degrees, cv=kfold, \n",
    "                                                  scoring = scoring)\n",
    "        xlabel = 'Degree'\n",
    "        xtick = np.arange(degrees.min(), degrees.max(), 1)\n",
    "        Xs = degrees\n",
    "        ylim = [0, 1]\n",
    "    elif type(Cs) == np.ndarray:\n",
    "        svm_poly = svm.SVC(kernel = 'poly', gamma = gammas, degree = degrees)\n",
    "        num_values = len(Cs)\n",
    "        train_scores, valid_scores = validation_curve(svm_poly, X_train, y_train, \n",
    "                                                  param_name =\"C\", param_range =Cs, cv=kfold, \n",
    "                                                  scoring = scoring)\n",
    "        xlabel = 'C'\n",
    "        xtick = np.arange(Cs.min(), Cs.max(), 10)\n",
    "        Xs = Cs\n",
    "        ylim = [0.7, 1]\n",
    "    elif type(gammas) == np.ndarray:\n",
    "        svm_poly = svm.SVC(kernel = 'poly', degree = degrees, C = Cs)\n",
    "        num_values = len(gammas)\n",
    "        train_scores, valid_scores = validation_curve(svm_poly, X_train, y_train, \n",
    "                                                  param_name =\"gamma\", param_range =gammas, cv=kfold, \n",
    "                                                  scoring = scoring)\n",
    "        xlabel = 'Gamma'\n",
    "        xtick = np.arange(gammas.min(), gammas.max(), 0.5)\n",
    "        Xs = gammas\n",
    "        ylim = [0, 1]\n",
    "    else:\n",
    "        raise TypeError\n",
    "\n",
    "    train_scores_poly = pd.DataFrame(data = train_scores, \n",
    "                                        index = np.arange(0, num_values), \n",
    "                                        columns = np.arange(0, num_splits)) \n",
    "    valid_scores_poly = pd.DataFrame(data = valid_scores, \n",
    "                                        index = np.arange(0, num_values), \n",
    "                                        columns = np.arange(0, num_splits)) \n",
    "\n",
    "    plt.plot(Xs, train_scores_poly.mean(axis=1), label = 'Training')\n",
    "    plt.plot(Xs, valid_scores_poly.mean(axis=1), label = 'Test')\n",
    "    plt.xlabel(xlabel)\n",
    "    if scoring == f2:\n",
    "        plt.ylabel('f2')\n",
    "    elif scoring == f05:\n",
    "        plt.ylabel('f0.5')\n",
    "    else:\n",
    "        plt.ylabel('scoring')\n",
    "    plt.ylim(ylim)\n",
    "    plt.xticks(xtick)\n",
    "    plt.title('SVM with polynomial kernel')\n",
    "    plt.legend()\n"
   ]
  },
  {
   "cell_type": "code",
   "execution_count": 241,
   "metadata": {},
   "outputs": [],
   "source": [
    "# The two functions can actually be integrated.\n",
    "def plot_rbf_curve(gammas = 'auto', Cs = 1, scoring = f2): # by default\n",
    "    \n",
    "    num_splits = 5 # use of k-fold is good\n",
    "    kfold = KFold(n_splits = 5) # ,random_state = 0) \n",
    "    \n",
    "    if type(Cs) == np.ndarray:\n",
    "        svm_poly = svm.SVC(kernel = 'rbf', gamma = gammas)\n",
    "        num_values = len(Cs)\n",
    "        train_scores, valid_scores = validation_curve(svm_poly, X_train, y_train, \n",
    "                                                 param_name = \"C\", param_range =Cs, cv=kfold, \n",
    "                                                  scoring = scoring)\n",
    "        xlabel = 'C'\n",
    "        xtick = np.arange(Cs.min(), Cs.max(), 10)\n",
    "        Xs = Cs\n",
    "        ylim = [0.7, 1]\n",
    "    elif type(gammas) == np.ndarray:\n",
    "        svm_poly = svm.SVC(kernel = 'rbf', C = Cs)\n",
    "        num_values = len(gammas)\n",
    "        train_scores, valid_scores = validation_curve(svm_poly, X_train, y_train, \n",
    "                                                  param_name =\"gamma\",  param_range =gammas, cv=kfold, \n",
    "                                                  scoring = scoring)\n",
    "        xlabel = 'Gamma'\n",
    "        xtick = np.arange(gammas.min(), gammas.max(), 0.5)\n",
    "        Xs = gammas\n",
    "        ylim = [0, 1]\n",
    "    else:\n",
    "        raise TypeError\n",
    "\n",
    "    train_scores_poly = pd.DataFrame(data = train_scores, \n",
    "                                        index = np.arange(0, num_values), \n",
    "                                        columns = np.arange(0, num_splits)) \n",
    "    valid_scores_poly = pd.DataFrame(data = valid_scores, \n",
    "                                        index = np.arange(0, num_values), \n",
    "                                        columns = np.arange(0, num_splits)) \n",
    "\n",
    "    plt.plot(Xs, train_scores_poly.mean(axis=1), label = 'Training')\n",
    "    plt.plot(Xs, valid_scores_poly.mean(axis=1), label = 'Test')\n",
    "    plt.xlabel(xlabel)\n",
    "    if scoring == f2:\n",
    "        plt.ylabel('f2')\n",
    "    elif scoring == f05:\n",
    "        plt.ylabel('f0.5')\n",
    "    else:\n",
    "        plt.ylabel('scoring')\n",
    "    plt.ylim(ylim)\n",
    "    plt.xticks(xtick)\n",
    "    plt.title('SVM with Gaussian kernel')\n",
    "    plt.legend()"
   ]
  },
  {
   "cell_type": "markdown",
   "metadata": {},
   "source": [
    "# 3.1 Testing Framework"
   ]
  },
  {
   "cell_type": "code",
   "execution_count": 242,
   "metadata": {},
   "outputs": [],
   "source": [
    "### KERNELS AND INDICATORS CURVES\n",
    "\n",
    "###### POLYNOMIAL CURVES\n",
    "degrees = np.arange(2, 21, 1) # choose/scan more systematically \n",
    "\n",
    "Cs1 = np.append(np.array([0.5]), \n",
    "               np.append(np.append(np.arange(1, 10, 1), \n",
    "                                  \n",
    "                                   np.arange(10, 20, 2)), \n",
    "                         np.arange(20, 101, 5)))\n",
    "#gammas = np.arange(0.008, 0.051, 0.002)\n",
    "gammas1 = np.exp(np.arange(-5, 1, 0.2))\n",
    "\n",
    "\n",
    "##### RBF (GAUSSIAN) CURVES\n",
    "Cs2 = np.append(np.array([0.5]), \n",
    "               np.append(np.append(np.arange(1, 10, 1), \n",
    "                                  \n",
    "                                   np.arange(10, 20, 2)), \n",
    "                         np.arange(20, 101, 5)))\n",
    "#gammas = np.arange(0.008, 0.051, 0.002)\n",
    "gammas2 = np.exp(np.arange(-5, 1, 0.2))"
   ]
  },
  {
   "cell_type": "code",
   "execution_count": 243,
   "metadata": {
    "scrolled": false
   },
   "outputs": [
    {
     "data": {
      "text/plain": [
       "<AxesSubplot:>"
      ]
     },
     "execution_count": 243,
     "metadata": {},
     "output_type": "execute_result"
    },
    {
     "data": {
      "text/plain": [
       "<AxesSubplot:>"
      ]
     },
     "execution_count": 243,
     "metadata": {},
     "output_type": "execute_result"
    },
    {
     "data": {
      "text/plain": [
       "<AxesSubplot:>"
      ]
     },
     "execution_count": 243,
     "metadata": {},
     "output_type": "execute_result"
    },
    {
     "data": {
      "text/plain": [
       "<AxesSubplot:>"
      ]
     },
     "execution_count": 243,
     "metadata": {},
     "output_type": "execute_result"
    },
    {
     "data": {
      "text/plain": [
       "<AxesSubplot:>"
      ]
     },
     "execution_count": 243,
     "metadata": {},
     "output_type": "execute_result"
    },
    {
     "data": {
      "text/plain": [
       "<AxesSubplot:>"
      ]
     },
     "execution_count": 243,
     "metadata": {},
     "output_type": "execute_result"
    },
    {
     "data": {
      "text/plain": [
       "<AxesSubplot:>"
      ]
     },
     "execution_count": 243,
     "metadata": {},
     "output_type": "execute_result"
    },
    {
     "data": {
      "text/plain": [
       "<AxesSubplot:>"
      ]
     },
     "execution_count": 243,
     "metadata": {},
     "output_type": "execute_result"
    },
    {
     "data": {
      "text/plain": [
       "<AxesSubplot:>"
      ]
     },
     "execution_count": 243,
     "metadata": {},
     "output_type": "execute_result"
    },
    {
     "data": {
      "text/plain": [
       "<AxesSubplot:>"
      ]
     },
     "execution_count": 243,
     "metadata": {},
     "output_type": "execute_result"
    },
    {
     "data": {
      "image/png": "[encoded data removed]",
      "text/plain": [
       "<Figure size 1080x2520 with 10 Axes>"
      ]
     },
     "metadata": {
      "needs_background": "light"
     },
     "output_type": "display_data"
    }
   ],
   "source": [
    "#PLOTTING KERNELS AND PARAMETERS CURVE\n",
    "fig, axes = plt.subplots(nrows=5, ncols=2, figsize=(15, 35))\n",
    "\n",
    "### PAIR 1 #######################################\n",
    "plt.subplot(6, 2, 1)\n",
    "plot_poly_curve(degrees = degrees)\n",
    "plt.subplot(6, 2, 2)\n",
    "# plot_rbf_curve(degrees = degrees2)\n",
    "plot_poly_curve(degrees = degrees, scoring = f05)\n",
    "### PAIR 2 #######################################\n",
    "# plt.subplot(6, 2, 3)\n",
    "\n",
    "# plt.subplot(6, 2, 4)\n",
    "# plot_rbf_curve(degrees = degrees2, scoring = f05)\n",
    "\n",
    "### PAIR 3 #######################################\n",
    "plt.subplot(6, 2, 3)\n",
    "plot_poly_curve(Cs = Cs1)\n",
    "plt.subplot(6, 2, 4)\n",
    "plot_rbf_curve(Cs = Cs2)\n",
    "\n",
    "### PAIR 4 #######################################\n",
    "plt.subplot(6, 2, 5)\n",
    "plot_poly_curve(Cs = Cs1, scoring = f05)\n",
    "plt.subplot(6, 2, 6)\n",
    "plot_rbf_curve(Cs = Cs2, scoring = f05)\n",
    "\n",
    "### PAIR 5 #######################################\n",
    "plt.subplot(6, 2, 7)\n",
    "plot_poly_curve(gammas = gammas1)\n",
    "plt.subplot(6, 2, 8)\n",
    "plot_rbf_curve(gammas = gammas2)\n",
    "\n",
    "### PAIR 6 #######################################\n",
    "plt.subplot(6, 2, 9)\n",
    "plot_poly_curve(gammas = gammas1, scoring = f05)\n",
    "plt.subplot(6, 2, 10)\n",
    "plot_rbf_curve(gammas = gammas2, scoring = f05)\n",
    "\n",
    "\n",
    "plt.show()\n"
   ]
  },
  {
   "cell_type": "markdown",
   "metadata": {},
   "source": [
    "# To be done Observations from the above graphs  \n",
    "\n",
    "- Why we are optimising F2 n F0.5\n",
    "- inferences we are making from the plots\n",
    "- Split the degree plots from rest \n",
    "\n",
    "Edu & rest for support\n",
    "\n",
    "\n",
    "#### based on above graphs wht paramters we are choosing below \n",
    "\n",
    "we need to extract the optimium paramters and provide them in the bwlo hypersearch \n",
    "\n",
    "c -  higher than 10 n less than 20"
   ]
  },
  {
   "cell_type": "code",
   "execution_count": 304,
   "metadata": {
    "id": "CtE7MG-nzsBQ"
   },
   "outputs": [
    {
     "data": {
      "text/plain": [
       "GridSearchCV(cv=5, estimator=SVC(),\n",
       "             param_grid={'C': [0.01, 0.1, 1, 5, 10, 20, 50],\n",
       "                         'degree': [2, 3, 5], 'gamma': [0.091, 0.1, 0.5, 1],\n",
       "                         'kernel': ['poly', 'rbf']},\n",
       "             refit='f2',\n",
       "             scoring={'Accuracy': 'accuracy', 'Precision': 'precision',\n",
       "                      'f0.5': make_scorer(f05_scorer), 'f1': 'f1',\n",
       "                      'f2': make_scorer(f2_scorer), 'recall': 'recall'})"
      ]
     },
     "execution_count": 304,
     "metadata": {},
     "output_type": "execute_result"
    },
    {
     "name": "stdout",
     "output_type": "stream",
     "text": [
      "time spent:  127.76787805557251\n"
     ]
    }
   ],
   "source": [
    "start = time.time()\n",
    "\n",
    "param_grid = {'kernel' : ['poly', 'rbf'],\n",
    "              'C' : [ 0.01, 0.1, 1, 5,10, 20, 50],\n",
    "              'gamma' : [round(1/X_train.shape[1], 3),  0.1,0.5,1],\n",
    "              'degree' : [2, 3,5]}              \n",
    "\n",
    "scoring = {'Accuracy' : 'accuracy',\n",
    "           'Precision' : 'precision', \n",
    "           'recall' : 'recall',\n",
    "           'f1' : 'f1', \n",
    "           'f2' : f2,\n",
    "           'f0.5' : f05}\n",
    "\n",
    "svm_ = svm.SVC() #random_state = 0)\n",
    "CV_svm = GridSearchCV(estimator = svm_, param_grid = param_grid, cv = 5, \n",
    "                      scoring = scoring, refit = 'f2')\n",
    "CV_svm.fit(X_train, y_train)\n",
    "\n",
    "\n",
    "time_spend = time.time() - start\n",
    "print('time spent: ', time_spend)"
   ]
  },
  {
   "cell_type": "code",
   "execution_count": 307,
   "metadata": {},
   "outputs": [
    {
     "data": {
      "text/plain": [
       "{'C': 10, 'degree': 2, 'gamma': 0.5, 'kernel': 'rbf'}"
      ]
     },
     "execution_count": 307,
     "metadata": {},
     "output_type": "execute_result"
    }
   ],
   "source": [
    "CV_svm.best_params_"
   ]
  },
  {
   "cell_type": "code",
   "execution_count": 305,
   "metadata": {
    "id": "mIABwtX2Zjc0"
   },
   "outputs": [],
   "source": [
    "# a DataFrame to keep track of the results\n",
    "params_2 = CV_svm.cv_results_['params']\n",
    "result2 = {k : [dic[k] for dic in params_2] for k in params_2[0]}\n",
    "\n",
    "for i in ['Accuracy', 'Precision', 'recall', 'f1', 'f2', 'f0.5']:\n",
    "    result2['mean_test_' + i] = CV_svm.cv_results_['mean_test_' + i]\n",
    "    result2['std_test_' + i] = CV_svm.cv_results_['std_test_' + i]\n",
    "\n",
    "results = pd.DataFrame(result2)\n",
    "\n",
    "results.loc[results.kernel == 'rbf', 'degree'] = np.nan\n",
    "\n",
    "# Sort all results:\n",
    "results_all_sorted2 = results.sort_values('mean_test_f2', ascending = False)\n",
    "results_all_sorted2.index = range(len(results_all_sorted2))\n",
    "results_all_sorted05 = results.sort_values('mean_test_f0.5', ascending = False)\n",
    "results_all_sorted05.index = range(len(results_all_sorted05))\n",
    "\n"
   ]
  },
  {
   "cell_type": "code",
   "execution_count": 292,
   "metadata": {
    "id": "4HJW1fFCC1qq"
   },
   "outputs": [
    {
     "data": {
      "text/html": [
       "<div>\n",
       "<style scoped>\n",
       "    .dataframe tbody tr th:only-of-type {\n",
       "        vertical-align: middle;\n",
       "    }\n",
       "\n",
       "    .dataframe tbody tr th {\n",
       "        vertical-align: top;\n",
       "    }\n",
       "\n",
       "    .dataframe thead th {\n",
       "        text-align: right;\n",
       "    }\n",
       "</style>\n",
       "<table border=\"1\" class=\"dataframe\">\n",
       "  <thead>\n",
       "    <tr style=\"text-align: right;\">\n",
       "      <th></th>\n",
       "      <th>C</th>\n",
       "      <th>degree</th>\n",
       "      <th>gamma</th>\n",
       "      <th>kernel</th>\n",
       "      <th>mean_test_Accuracy</th>\n",
       "      <th>std_test_Accuracy</th>\n",
       "      <th>mean_test_Precision</th>\n",
       "      <th>std_test_Precision</th>\n",
       "      <th>mean_test_recall</th>\n",
       "      <th>std_test_recall</th>\n",
       "      <th>mean_test_f1</th>\n",
       "      <th>std_test_f1</th>\n",
       "      <th>mean_test_f2</th>\n",
       "      <th>std_test_f2</th>\n",
       "      <th>mean_test_f0.5</th>\n",
       "      <th>std_test_f0.5</th>\n",
       "    </tr>\n",
       "  </thead>\n",
       "  <tbody>\n",
       "    <tr>\n",
       "      <th>127</th>\n",
       "      <td>10.0</td>\n",
       "      <td>NaN</td>\n",
       "      <td>0.500000</td>\n",
       "      <td>rbf</td>\n",
       "      <td>0.864826</td>\n",
       "      <td>0.021781</td>\n",
       "      <td>0.875222</td>\n",
       "      <td>0.008961</td>\n",
       "      <td>0.882092</td>\n",
       "      <td>0.046219</td>\n",
       "      <td>0.877944</td>\n",
       "      <td>0.022535</td>\n",
       "      <td>0.845266</td>\n",
       "      <td>0.010816</td>\n",
       "      <td>0.852065</td>\n",
       "      <td>0.036448</td>\n",
       "    </tr>\n",
       "    <tr>\n",
       "      <th>97</th>\n",
       "      <td>5.0</td>\n",
       "      <td>NaN</td>\n",
       "      <td>0.500000</td>\n",
       "      <td>rbf</td>\n",
       "      <td>0.869163</td>\n",
       "      <td>0.016066</td>\n",
       "      <td>0.874304</td>\n",
       "      <td>0.011726</td>\n",
       "      <td>0.892481</td>\n",
       "      <td>0.032239</td>\n",
       "      <td>0.882922</td>\n",
       "      <td>0.015548</td>\n",
       "      <td>0.844709</td>\n",
       "      <td>0.014402</td>\n",
       "      <td>0.859063</td>\n",
       "      <td>0.027139</td>\n",
       "    </tr>\n",
       "    <tr>\n",
       "      <th>98</th>\n",
       "      <td>5.0</td>\n",
       "      <td>2.0</td>\n",
       "      <td>1.000000</td>\n",
       "      <td>poly</td>\n",
       "      <td>0.864837</td>\n",
       "      <td>0.034452</td>\n",
       "      <td>0.872969</td>\n",
       "      <td>0.025301</td>\n",
       "      <td>0.884689</td>\n",
       "      <td>0.044401</td>\n",
       "      <td>0.878488</td>\n",
       "      <td>0.032129</td>\n",
       "      <td>0.843053</td>\n",
       "      <td>0.032799</td>\n",
       "      <td>0.852551</td>\n",
       "      <td>0.044739</td>\n",
       "    </tr>\n",
       "    <tr>\n",
       "      <th>156</th>\n",
       "      <td>20.0</td>\n",
       "      <td>2.0</td>\n",
       "      <td>0.500000</td>\n",
       "      <td>poly</td>\n",
       "      <td>0.864837</td>\n",
       "      <td>0.034452</td>\n",
       "      <td>0.872969</td>\n",
       "      <td>0.025301</td>\n",
       "      <td>0.884689</td>\n",
       "      <td>0.044401</td>\n",
       "      <td>0.878488</td>\n",
       "      <td>0.032129</td>\n",
       "      <td>0.843053</td>\n",
       "      <td>0.032799</td>\n",
       "      <td>0.852551</td>\n",
       "      <td>0.044739</td>\n",
       "    </tr>\n",
       "    <tr>\n",
       "      <th>48</th>\n",
       "      <td>0.1</td>\n",
       "      <td>3.0</td>\n",
       "      <td>1.000000</td>\n",
       "      <td>poly</td>\n",
       "      <td>0.874971</td>\n",
       "      <td>0.026631</td>\n",
       "      <td>0.870183</td>\n",
       "      <td>0.023482</td>\n",
       "      <td>0.910902</td>\n",
       "      <td>0.039743</td>\n",
       "      <td>0.889569</td>\n",
       "      <td>0.024327</td>\n",
       "      <td>0.840201</td>\n",
       "      <td>0.030931</td>\n",
       "      <td>0.872463</td>\n",
       "      <td>0.037549</td>\n",
       "    </tr>\n",
       "    <tr>\n",
       "      <th>...</th>\n",
       "      <td>...</td>\n",
       "      <td>...</td>\n",
       "      <td>...</td>\n",
       "      <td>...</td>\n",
       "      <td>...</td>\n",
       "      <td>...</td>\n",
       "      <td>...</td>\n",
       "      <td>...</td>\n",
       "      <td>...</td>\n",
       "      <td>...</td>\n",
       "      <td>...</td>\n",
       "      <td>...</td>\n",
       "      <td>...</td>\n",
       "      <td>...</td>\n",
       "      <td>...</td>\n",
       "      <td>...</td>\n",
       "    </tr>\n",
       "    <tr>\n",
       "      <th>44</th>\n",
       "      <td>0.1</td>\n",
       "      <td>3.0</td>\n",
       "      <td>0.100000</td>\n",
       "      <td>poly</td>\n",
       "      <td>0.831397</td>\n",
       "      <td>0.030221</td>\n",
       "      <td>0.796768</td>\n",
       "      <td>0.024603</td>\n",
       "      <td>0.934484</td>\n",
       "      <td>0.029648</td>\n",
       "      <td>0.860005</td>\n",
       "      <td>0.024373</td>\n",
       "      <td>0.734937</td>\n",
       "      <td>0.040237</td>\n",
       "      <td>0.849616</td>\n",
       "      <td>0.042590</td>\n",
       "    </tr>\n",
       "    <tr>\n",
       "      <th>40</th>\n",
       "      <td>0.1</td>\n",
       "      <td>3.0</td>\n",
       "      <td>0.090909</td>\n",
       "      <td>poly</td>\n",
       "      <td>0.822649</td>\n",
       "      <td>0.027138</td>\n",
       "      <td>0.783524</td>\n",
       "      <td>0.020461</td>\n",
       "      <td>0.939713</td>\n",
       "      <td>0.024097</td>\n",
       "      <td>0.854506</td>\n",
       "      <td>0.021442</td>\n",
       "      <td>0.712534</td>\n",
       "      <td>0.035664</td>\n",
       "      <td>0.844468</td>\n",
       "      <td>0.038941</td>\n",
       "    </tr>\n",
       "    <tr>\n",
       "      <th>192</th>\n",
       "      <td>50.0</td>\n",
       "      <td>3.0</td>\n",
       "      <td>0.010000</td>\n",
       "      <td>poly</td>\n",
       "      <td>0.803787</td>\n",
       "      <td>0.039160</td>\n",
       "      <td>0.759057</td>\n",
       "      <td>0.031422</td>\n",
       "      <td>0.947608</td>\n",
       "      <td>0.027260</td>\n",
       "      <td>0.842824</td>\n",
       "      <td>0.029341</td>\n",
       "      <td>0.666061</td>\n",
       "      <td>0.058913</td>\n",
       "      <td>0.829512</td>\n",
       "      <td>0.055855</td>\n",
       "    </tr>\n",
       "    <tr>\n",
       "      <th>54</th>\n",
       "      <td>0.1</td>\n",
       "      <td>5.0</td>\n",
       "      <td>0.100000</td>\n",
       "      <td>poly</td>\n",
       "      <td>0.802348</td>\n",
       "      <td>0.034050</td>\n",
       "      <td>0.750994</td>\n",
       "      <td>0.026727</td>\n",
       "      <td>0.963363</td>\n",
       "      <td>0.022257</td>\n",
       "      <td>0.843971</td>\n",
       "      <td>0.025074</td>\n",
       "      <td>0.647702</td>\n",
       "      <td>0.052326</td>\n",
       "      <td>0.837171</td>\n",
       "      <td>0.049686</td>\n",
       "    </tr>\n",
       "    <tr>\n",
       "      <th>50</th>\n",
       "      <td>0.1</td>\n",
       "      <td>5.0</td>\n",
       "      <td>0.090909</td>\n",
       "      <td>poly</td>\n",
       "      <td>0.782037</td>\n",
       "      <td>0.034052</td>\n",
       "      <td>0.728671</td>\n",
       "      <td>0.029525</td>\n",
       "      <td>0.968592</td>\n",
       "      <td>0.017521</td>\n",
       "      <td>0.831489</td>\n",
       "      <td>0.024086</td>\n",
       "      <td>0.599140</td>\n",
       "      <td>0.059668</td>\n",
       "      <td>0.817494</td>\n",
       "      <td>0.046955</td>\n",
       "    </tr>\n",
       "  </tbody>\n",
       "</table>\n",
       "<p>112 rows × 16 columns</p>\n",
       "</div>"
      ],
      "text/plain": [
       "        C  degree     gamma kernel  mean_test_Accuracy  std_test_Accuracy  \\\n",
       "127  10.0     NaN  0.500000    rbf            0.864826           0.021781   \n",
       "97    5.0     NaN  0.500000    rbf            0.869163           0.016066   \n",
       "98    5.0     2.0  1.000000   poly            0.864837           0.034452   \n",
       "156  20.0     2.0  0.500000   poly            0.864837           0.034452   \n",
       "48    0.1     3.0  1.000000   poly            0.874971           0.026631   \n",
       "..    ...     ...       ...    ...                 ...                ...   \n",
       "44    0.1     3.0  0.100000   poly            0.831397           0.030221   \n",
       "40    0.1     3.0  0.090909   poly            0.822649           0.027138   \n",
       "192  50.0     3.0  0.010000   poly            0.803787           0.039160   \n",
       "54    0.1     5.0  0.100000   poly            0.802348           0.034050   \n",
       "50    0.1     5.0  0.090909   poly            0.782037           0.034052   \n",
       "\n",
       "     mean_test_Precision  std_test_Precision  mean_test_recall  \\\n",
       "127             0.875222            0.008961          0.882092   \n",
       "97              0.874304            0.011726          0.892481   \n",
       "98              0.872969            0.025301          0.884689   \n",
       "156             0.872969            0.025301          0.884689   \n",
       "48              0.870183            0.023482          0.910902   \n",
       "..                   ...                 ...               ...   \n",
       "44              0.796768            0.024603          0.934484   \n",
       "40              0.783524            0.020461          0.939713   \n",
       "192             0.759057            0.031422          0.947608   \n",
       "54              0.750994            0.026727          0.963363   \n",
       "50              0.728671            0.029525          0.968592   \n",
       "\n",
       "     std_test_recall  mean_test_f1  std_test_f1  mean_test_f2  std_test_f2  \\\n",
       "127         0.046219      0.877944     0.022535      0.845266     0.010816   \n",
       "97          0.032239      0.882922     0.015548      0.844709     0.014402   \n",
       "98          0.044401      0.878488     0.032129      0.843053     0.032799   \n",
       "156         0.044401      0.878488     0.032129      0.843053     0.032799   \n",
       "48          0.039743      0.889569     0.024327      0.840201     0.030931   \n",
       "..               ...           ...          ...           ...          ...   \n",
       "44          0.029648      0.860005     0.024373      0.734937     0.040237   \n",
       "40          0.024097      0.854506     0.021442      0.712534     0.035664   \n",
       "192         0.027260      0.842824     0.029341      0.666061     0.058913   \n",
       "54          0.022257      0.843971     0.025074      0.647702     0.052326   \n",
       "50          0.017521      0.831489     0.024086      0.599140     0.059668   \n",
       "\n",
       "     mean_test_f0.5  std_test_f0.5  \n",
       "127        0.852065       0.036448  \n",
       "97         0.859063       0.027139  \n",
       "98         0.852551       0.044739  \n",
       "156        0.852551       0.044739  \n",
       "48         0.872463       0.037549  \n",
       "..              ...            ...  \n",
       "44         0.849616       0.042590  \n",
       "40         0.844468       0.038941  \n",
       "192        0.829512       0.055855  \n",
       "54         0.837171       0.049686  \n",
       "50         0.817494       0.046955  \n",
       "\n",
       "[112 rows x 16 columns]"
      ]
     },
     "execution_count": 292,
     "metadata": {},
     "output_type": "execute_result"
    }
   ],
   "source": [
    "# Filtering the results where the Accuracy , Prediction, F0.5, F2 and recall are above 0.5\n",
    "results[(results['mean_test_Accuracy']>0.5) & (results['mean_test_Precision']>0.5) & \n",
    "            (results['mean_test_recall']>0.5) & (results['mean_test_f0.5']>0.5) &\n",
    "            (results['mean_test_f2']>0.5) ].sort_values(['mean_test_f2','mean_test_f0.5'], ascending = False)"
   ]
  },
  {
   "cell_type": "code",
   "execution_count": 334,
   "metadata": {},
   "outputs": [],
   "source": [
    "results.drop_duplicates(inplace=True) # dropping the duplicates from the file "
   ]
  },
  {
   "cell_type": "code",
   "execution_count": 258,
   "metadata": {},
   "outputs": [
    {
     "data": {
      "text/html": [
       "<div>\n",
       "<style scoped>\n",
       "    .dataframe tbody tr th:only-of-type {\n",
       "        vertical-align: middle;\n",
       "    }\n",
       "\n",
       "    .dataframe tbody tr th {\n",
       "        vertical-align: top;\n",
       "    }\n",
       "\n",
       "    .dataframe thead th {\n",
       "        text-align: right;\n",
       "    }\n",
       "</style>\n",
       "<table border=\"1\" class=\"dataframe\">\n",
       "  <thead>\n",
       "    <tr style=\"text-align: right;\">\n",
       "      <th></th>\n",
       "      <th>C</th>\n",
       "      <th>degree</th>\n",
       "      <th>gamma</th>\n",
       "      <th>kernel</th>\n",
       "      <th>mean_test_Accuracy</th>\n",
       "      <th>std_test_Accuracy</th>\n",
       "      <th>mean_test_Precision</th>\n",
       "      <th>std_test_Precision</th>\n",
       "      <th>mean_test_recall</th>\n",
       "      <th>std_test_recall</th>\n",
       "      <th>mean_test_f1</th>\n",
       "      <th>std_test_f1</th>\n",
       "      <th>mean_test_f2</th>\n",
       "      <th>std_test_f2</th>\n",
       "      <th>mean_test_f0.5</th>\n",
       "      <th>std_test_f0.5</th>\n",
       "    </tr>\n",
       "  </thead>\n",
       "  <tbody>\n",
       "    <tr>\n",
       "      <th>127</th>\n",
       "      <td>10.0</td>\n",
       "      <td>NaN</td>\n",
       "      <td>0.50</td>\n",
       "      <td>rbf</td>\n",
       "      <td>0.864826</td>\n",
       "      <td>0.021781</td>\n",
       "      <td>0.875222</td>\n",
       "      <td>0.008961</td>\n",
       "      <td>0.882092</td>\n",
       "      <td>0.046219</td>\n",
       "      <td>0.877944</td>\n",
       "      <td>0.022535</td>\n",
       "      <td>0.845266</td>\n",
       "      <td>0.010816</td>\n",
       "      <td>0.852065</td>\n",
       "      <td>0.036448</td>\n",
       "    </tr>\n",
       "    <tr>\n",
       "      <th>97</th>\n",
       "      <td>5.0</td>\n",
       "      <td>NaN</td>\n",
       "      <td>0.50</td>\n",
       "      <td>rbf</td>\n",
       "      <td>0.869163</td>\n",
       "      <td>0.016066</td>\n",
       "      <td>0.874304</td>\n",
       "      <td>0.011726</td>\n",
       "      <td>0.892481</td>\n",
       "      <td>0.032239</td>\n",
       "      <td>0.882922</td>\n",
       "      <td>0.015548</td>\n",
       "      <td>0.844709</td>\n",
       "      <td>0.014402</td>\n",
       "      <td>0.859063</td>\n",
       "      <td>0.027139</td>\n",
       "    </tr>\n",
       "    <tr>\n",
       "      <th>98</th>\n",
       "      <td>5.0</td>\n",
       "      <td>2.0</td>\n",
       "      <td>1.00</td>\n",
       "      <td>poly</td>\n",
       "      <td>0.864837</td>\n",
       "      <td>0.034452</td>\n",
       "      <td>0.872969</td>\n",
       "      <td>0.025301</td>\n",
       "      <td>0.884689</td>\n",
       "      <td>0.044401</td>\n",
       "      <td>0.878488</td>\n",
       "      <td>0.032129</td>\n",
       "      <td>0.843053</td>\n",
       "      <td>0.032799</td>\n",
       "      <td>0.852551</td>\n",
       "      <td>0.044739</td>\n",
       "    </tr>\n",
       "    <tr>\n",
       "      <th>156</th>\n",
       "      <td>20.0</td>\n",
       "      <td>2.0</td>\n",
       "      <td>0.50</td>\n",
       "      <td>poly</td>\n",
       "      <td>0.864837</td>\n",
       "      <td>0.034452</td>\n",
       "      <td>0.872969</td>\n",
       "      <td>0.025301</td>\n",
       "      <td>0.884689</td>\n",
       "      <td>0.044401</td>\n",
       "      <td>0.878488</td>\n",
       "      <td>0.032129</td>\n",
       "      <td>0.843053</td>\n",
       "      <td>0.032799</td>\n",
       "      <td>0.852551</td>\n",
       "      <td>0.044739</td>\n",
       "    </tr>\n",
       "    <tr>\n",
       "      <th>48</th>\n",
       "      <td>0.1</td>\n",
       "      <td>3.0</td>\n",
       "      <td>1.00</td>\n",
       "      <td>poly</td>\n",
       "      <td>0.874971</td>\n",
       "      <td>0.026631</td>\n",
       "      <td>0.870183</td>\n",
       "      <td>0.023482</td>\n",
       "      <td>0.910902</td>\n",
       "      <td>0.039743</td>\n",
       "      <td>0.889569</td>\n",
       "      <td>0.024327</td>\n",
       "      <td>0.840201</td>\n",
       "      <td>0.030931</td>\n",
       "      <td>0.872463</td>\n",
       "      <td>0.037549</td>\n",
       "    </tr>\n",
       "    <tr>\n",
       "      <th>...</th>\n",
       "      <td>...</td>\n",
       "      <td>...</td>\n",
       "      <td>...</td>\n",
       "      <td>...</td>\n",
       "      <td>...</td>\n",
       "      <td>...</td>\n",
       "      <td>...</td>\n",
       "      <td>...</td>\n",
       "      <td>...</td>\n",
       "      <td>...</td>\n",
       "      <td>...</td>\n",
       "      <td>...</td>\n",
       "      <td>...</td>\n",
       "      <td>...</td>\n",
       "      <td>...</td>\n",
       "      <td>...</td>\n",
       "    </tr>\n",
       "    <tr>\n",
       "      <th>82</th>\n",
       "      <td>1.0</td>\n",
       "      <td>5.0</td>\n",
       "      <td>0.01</td>\n",
       "      <td>poly</td>\n",
       "      <td>0.553782</td>\n",
       "      <td>0.002760</td>\n",
       "      <td>0.553782</td>\n",
       "      <td>0.002760</td>\n",
       "      <td>1.000000</td>\n",
       "      <td>0.000000</td>\n",
       "      <td>0.712814</td>\n",
       "      <td>0.002286</td>\n",
       "      <td>0.000000</td>\n",
       "      <td>0.000000</td>\n",
       "      <td>0.000000</td>\n",
       "      <td>0.000000</td>\n",
       "    </tr>\n",
       "    <tr>\n",
       "      <th>112</th>\n",
       "      <td>5.0</td>\n",
       "      <td>5.0</td>\n",
       "      <td>0.01</td>\n",
       "      <td>poly</td>\n",
       "      <td>0.553782</td>\n",
       "      <td>0.002760</td>\n",
       "      <td>0.553782</td>\n",
       "      <td>0.002760</td>\n",
       "      <td>1.000000</td>\n",
       "      <td>0.000000</td>\n",
       "      <td>0.712814</td>\n",
       "      <td>0.002286</td>\n",
       "      <td>0.000000</td>\n",
       "      <td>0.000000</td>\n",
       "      <td>0.000000</td>\n",
       "      <td>0.000000</td>\n",
       "    </tr>\n",
       "    <tr>\n",
       "      <th>142</th>\n",
       "      <td>10.0</td>\n",
       "      <td>5.0</td>\n",
       "      <td>0.01</td>\n",
       "      <td>poly</td>\n",
       "      <td>0.553782</td>\n",
       "      <td>0.002760</td>\n",
       "      <td>0.553782</td>\n",
       "      <td>0.002760</td>\n",
       "      <td>1.000000</td>\n",
       "      <td>0.000000</td>\n",
       "      <td>0.712814</td>\n",
       "      <td>0.002286</td>\n",
       "      <td>0.000000</td>\n",
       "      <td>0.000000</td>\n",
       "      <td>0.000000</td>\n",
       "      <td>0.000000</td>\n",
       "    </tr>\n",
       "    <tr>\n",
       "      <th>172</th>\n",
       "      <td>20.0</td>\n",
       "      <td>5.0</td>\n",
       "      <td>0.01</td>\n",
       "      <td>poly</td>\n",
       "      <td>0.553782</td>\n",
       "      <td>0.002760</td>\n",
       "      <td>0.553782</td>\n",
       "      <td>0.002760</td>\n",
       "      <td>1.000000</td>\n",
       "      <td>0.000000</td>\n",
       "      <td>0.712814</td>\n",
       "      <td>0.002286</td>\n",
       "      <td>0.000000</td>\n",
       "      <td>0.000000</td>\n",
       "      <td>0.000000</td>\n",
       "      <td>0.000000</td>\n",
       "    </tr>\n",
       "    <tr>\n",
       "      <th>202</th>\n",
       "      <td>50.0</td>\n",
       "      <td>5.0</td>\n",
       "      <td>0.01</td>\n",
       "      <td>poly</td>\n",
       "      <td>0.553782</td>\n",
       "      <td>0.002760</td>\n",
       "      <td>0.553782</td>\n",
       "      <td>0.002760</td>\n",
       "      <td>1.000000</td>\n",
       "      <td>0.000000</td>\n",
       "      <td>0.712814</td>\n",
       "      <td>0.002286</td>\n",
       "      <td>0.000000</td>\n",
       "      <td>0.000000</td>\n",
       "      <td>0.000000</td>\n",
       "      <td>0.000000</td>\n",
       "    </tr>\n",
       "  </tbody>\n",
       "</table>\n",
       "<p>140 rows × 16 columns</p>\n",
       "</div>"
      ],
      "text/plain": [
       "        C  degree  gamma kernel  mean_test_Accuracy  std_test_Accuracy  \\\n",
       "127  10.0     NaN   0.50    rbf            0.864826           0.021781   \n",
       "97    5.0     NaN   0.50    rbf            0.869163           0.016066   \n",
       "98    5.0     2.0   1.00   poly            0.864837           0.034452   \n",
       "156  20.0     2.0   0.50   poly            0.864837           0.034452   \n",
       "48    0.1     3.0   1.00   poly            0.874971           0.026631   \n",
       "..    ...     ...    ...    ...                 ...                ...   \n",
       "82    1.0     5.0   0.01   poly            0.553782           0.002760   \n",
       "112   5.0     5.0   0.01   poly            0.553782           0.002760   \n",
       "142  10.0     5.0   0.01   poly            0.553782           0.002760   \n",
       "172  20.0     5.0   0.01   poly            0.553782           0.002760   \n",
       "202  50.0     5.0   0.01   poly            0.553782           0.002760   \n",
       "\n",
       "     mean_test_Precision  std_test_Precision  mean_test_recall  \\\n",
       "127             0.875222            0.008961          0.882092   \n",
       "97              0.874304            0.011726          0.892481   \n",
       "98              0.872969            0.025301          0.884689   \n",
       "156             0.872969            0.025301          0.884689   \n",
       "48              0.870183            0.023482          0.910902   \n",
       "..                   ...                 ...               ...   \n",
       "82              0.553782            0.002760          1.000000   \n",
       "112             0.553782            0.002760          1.000000   \n",
       "142             0.553782            0.002760          1.000000   \n",
       "172             0.553782            0.002760          1.000000   \n",
       "202             0.553782            0.002760          1.000000   \n",
       "\n",
       "     std_test_recall  mean_test_f1  std_test_f1  mean_test_f2  std_test_f2  \\\n",
       "127         0.046219      0.877944     0.022535      0.845266     0.010816   \n",
       "97          0.032239      0.882922     0.015548      0.844709     0.014402   \n",
       "98          0.044401      0.878488     0.032129      0.843053     0.032799   \n",
       "156         0.044401      0.878488     0.032129      0.843053     0.032799   \n",
       "48          0.039743      0.889569     0.024327      0.840201     0.030931   \n",
       "..               ...           ...          ...           ...          ...   \n",
       "82          0.000000      0.712814     0.002286      0.000000     0.000000   \n",
       "112         0.000000      0.712814     0.002286      0.000000     0.000000   \n",
       "142         0.000000      0.712814     0.002286      0.000000     0.000000   \n",
       "172         0.000000      0.712814     0.002286      0.000000     0.000000   \n",
       "202         0.000000      0.712814     0.002286      0.000000     0.000000   \n",
       "\n",
       "     mean_test_f0.5  std_test_f0.5  \n",
       "127        0.852065       0.036448  \n",
       "97         0.859063       0.027139  \n",
       "98         0.852551       0.044739  \n",
       "156        0.852551       0.044739  \n",
       "48         0.872463       0.037549  \n",
       "..              ...            ...  \n",
       "82         0.000000       0.000000  \n",
       "112        0.000000       0.000000  \n",
       "142        0.000000       0.000000  \n",
       "172        0.000000       0.000000  \n",
       "202        0.000000       0.000000  \n",
       "\n",
       "[140 rows x 16 columns]"
      ]
     },
     "execution_count": 258,
     "metadata": {},
     "output_type": "execute_result"
    }
   ],
   "source": [
    "results.sort_values(['mean_test_Precision','mean_test_f1'], ascending = False)"
   ]
  },
  {
   "cell_type": "markdown",
   "metadata": {},
   "source": [
    "## Results analysis on RBF \n",
    "\n",
    "In the below analysis we are taking the combination of the parameters and validating the metrics majorily the F0.5 and f2 "
   ]
  },
  {
   "cell_type": "code",
   "execution_count": 335,
   "metadata": {},
   "outputs": [],
   "source": [
    "def metrical_analysis_rbf(dataframe, parameter):\n",
    "    \n",
    "    print(\" \\n\\n\\nThe parameter used for the analysis - {}\".format(parameter))\n",
    "    results_rbf = dataframe[dataframe['kernel'] =='rbf'][['C',  'gamma', parameter]]\n",
    "    return pd.pivot_table(results_rbf, index='gamma', columns='C', values=parameter,aggfunc = \"mean\").style.highlight_max(color = 'lightgreen', axis = 0)"
   ]
  },
  {
   "cell_type": "code",
   "execution_count": 336,
   "metadata": {},
   "outputs": [
    {
     "name": "stdout",
     "output_type": "stream",
     "text": [
      " \n",
      "\n",
      "\n",
      "The parameter used for the analysis - mean_test_recall\n"
     ]
    },
    {
     "data": {
      "text/html": [
       "<style  type=\"text/css\" >\n",
       "#T_3188a_row0_col0,#T_3188a_row0_col3,#T_3188a_row0_col4,#T_3188a_row0_col6,#T_3188a_row1_col0,#T_3188a_row1_col3,#T_3188a_row1_col4,#T_3188a_row1_col5,#T_3188a_row2_col2,#T_3188a_row3_col0,#T_3188a_row3_col1{\n",
       "            background-color:  lightgreen;\n",
       "        }</style><table id=\"T_3188a_\" ><thead>    <tr>        <th class=\"index_name level0\" >C</th>        <th class=\"col_heading level0 col0\" >0.01</th>        <th class=\"col_heading level0 col1\" >0.1</th>        <th class=\"col_heading level0 col2\" >1.0</th>        <th class=\"col_heading level0 col3\" >5.0</th>        <th class=\"col_heading level0 col4\" >10.0</th>        <th class=\"col_heading level0 col5\" >20.0</th>        <th class=\"col_heading level0 col6\" >50.0</th>    </tr>    <tr>        <th class=\"index_name level0\" >gamma</th>        <th class=\"blank\" ></th>        <th class=\"blank\" ></th>        <th class=\"blank\" ></th>        <th class=\"blank\" ></th>        <th class=\"blank\" ></th>        <th class=\"blank\" ></th>        <th class=\"blank\" ></th>    </tr></thead><tbody>\n",
       "                <tr>\n",
       "                        <th id=\"T_3188a_level0_row0\" class=\"row_heading level0 row0\" >0.091</th>\n",
       "                        <td id=\"T_3188a_row0_col0\" class=\"data row0 col0\" >1.000000</td>\n",
       "                        <td id=\"T_3188a_row0_col1\" class=\"data row0 col1\" >0.866268</td>\n",
       "                        <td id=\"T_3188a_row0_col2\" class=\"data row0 col2\" >0.892618</td>\n",
       "                        <td id=\"T_3188a_row0_col3\" class=\"data row0 col3\" >0.897779</td>\n",
       "                        <td id=\"T_3188a_row0_col4\" class=\"data row0 col4\" >0.903042</td>\n",
       "                        <td id=\"T_3188a_row0_col5\" class=\"data row0 col5\" >0.908271</td>\n",
       "                        <td id=\"T_3188a_row0_col6\" class=\"data row0 col6\" >0.905673</td>\n",
       "            </tr>\n",
       "            <tr>\n",
       "                        <th id=\"T_3188a_level0_row1\" class=\"row_heading level0 row1\" >0.1</th>\n",
       "                        <td id=\"T_3188a_row1_col0\" class=\"data row1 col0\" >1.000000</td>\n",
       "                        <td id=\"T_3188a_row1_col1\" class=\"data row1 col1\" >0.866268</td>\n",
       "                        <td id=\"T_3188a_row1_col2\" class=\"data row1 col2\" >0.895215</td>\n",
       "                        <td id=\"T_3188a_row1_col3\" class=\"data row1 col3\" >0.897779</td>\n",
       "                        <td id=\"T_3188a_row1_col4\" class=\"data row1 col4\" >0.903042</td>\n",
       "                        <td id=\"T_3188a_row1_col5\" class=\"data row1 col5\" >0.910902</td>\n",
       "                        <td id=\"T_3188a_row1_col6\" class=\"data row1 col6\" >0.903042</td>\n",
       "            </tr>\n",
       "            <tr>\n",
       "                        <th id=\"T_3188a_level0_row2\" class=\"row_heading level0 row2\" >0.5</th>\n",
       "                        <td id=\"T_3188a_row2_col0\" class=\"data row2 col0\" >0.997403</td>\n",
       "                        <td id=\"T_3188a_row2_col1\" class=\"data row2 col1\" >0.902973</td>\n",
       "                        <td id=\"T_3188a_row2_col2\" class=\"data row2 col2\" >0.910834</td>\n",
       "                        <td id=\"T_3188a_row2_col3\" class=\"data row2 col3\" >0.892481</td>\n",
       "                        <td id=\"T_3188a_row2_col4\" class=\"data row2 col4\" >0.882092</td>\n",
       "                        <td id=\"T_3188a_row2_col5\" class=\"data row2 col5\" >0.887252</td>\n",
       "                        <td id=\"T_3188a_row2_col6\" class=\"data row2 col6\" >0.871531</td>\n",
       "            </tr>\n",
       "            <tr>\n",
       "                        <th id=\"T_3188a_level0_row3\" class=\"row_heading level0 row3\" >1.0</th>\n",
       "                        <td id=\"T_3188a_row3_col0\" class=\"data row3 col0\" >1.000000</td>\n",
       "                        <td id=\"T_3188a_row3_col1\" class=\"data row3 col1\" >0.934416</td>\n",
       "                        <td id=\"T_3188a_row3_col2\" class=\"data row3 col2\" >0.900342</td>\n",
       "                        <td id=\"T_3188a_row3_col3\" class=\"data row3 col3\" >0.889884</td>\n",
       "                        <td id=\"T_3188a_row3_col4\" class=\"data row3 col4\" >0.889884</td>\n",
       "                        <td id=\"T_3188a_row3_col5\" class=\"data row3 col5\" >0.871599</td>\n",
       "                        <td id=\"T_3188a_row3_col6\" class=\"data row3 col6\" >0.868968</td>\n",
       "            </tr>\n",
       "    </tbody></table>"
      ],
      "text/plain": [
       "<pandas.io.formats.style.Styler at 0x162e4050070>"
      ]
     },
     "execution_count": 336,
     "metadata": {},
     "output_type": "execute_result"
    },
    {
     "name": "stdout",
     "output_type": "stream",
     "text": [
      " \n",
      "\n",
      "\n",
      "The parameter used for the analysis - mean_test_f2\n"
     ]
    },
    {
     "data": {
      "text/html": [
       "<style  type=\"text/css\" >\n",
       "#T_98fbc_row0_col1,#T_98fbc_row0_col6,#T_98fbc_row1_col5,#T_98fbc_row2_col0,#T_98fbc_row2_col3,#T_98fbc_row2_col4,#T_98fbc_row3_col2{\n",
       "            background-color:  lightgreen;\n",
       "        }</style><table id=\"T_98fbc_\" ><thead>    <tr>        <th class=\"index_name level0\" >C</th>        <th class=\"col_heading level0 col0\" >0.01</th>        <th class=\"col_heading level0 col1\" >0.1</th>        <th class=\"col_heading level0 col2\" >1.0</th>        <th class=\"col_heading level0 col3\" >5.0</th>        <th class=\"col_heading level0 col4\" >10.0</th>        <th class=\"col_heading level0 col5\" >20.0</th>        <th class=\"col_heading level0 col6\" >50.0</th>    </tr>    <tr>        <th class=\"index_name level0\" >gamma</th>        <th class=\"blank\" ></th>        <th class=\"blank\" ></th>        <th class=\"blank\" ></th>        <th class=\"blank\" ></th>        <th class=\"blank\" ></th>        <th class=\"blank\" ></th>        <th class=\"blank\" ></th>    </tr></thead><tbody>\n",
       "                <tr>\n",
       "                        <th id=\"T_98fbc_level0_row0\" class=\"row_heading level0 row0\" >0.091</th>\n",
       "                        <td id=\"T_98fbc_row0_col0\" class=\"data row0 col0\" >0.000000</td>\n",
       "                        <td id=\"T_98fbc_row0_col1\" class=\"data row0 col1\" >0.822763</td>\n",
       "                        <td id=\"T_98fbc_row0_col2\" class=\"data row0 col2\" >0.822856</td>\n",
       "                        <td id=\"T_98fbc_row0_col3\" class=\"data row0 col3\" >0.834883</td>\n",
       "                        <td id=\"T_98fbc_row0_col4\" class=\"data row0 col4\" >0.822164</td>\n",
       "                        <td id=\"T_98fbc_row0_col5\" class=\"data row0 col5\" >0.825992</td>\n",
       "                        <td id=\"T_98fbc_row0_col6\" class=\"data row0 col6\" >0.831067</td>\n",
       "            </tr>\n",
       "            <tr>\n",
       "                        <th id=\"T_98fbc_level0_row1\" class=\"row_heading level0 row1\" >0.1</th>\n",
       "                        <td id=\"T_98fbc_row1_col0\" class=\"data row1 col0\" >0.000000</td>\n",
       "                        <td id=\"T_98fbc_row1_col1\" class=\"data row1 col1\" >0.820080</td>\n",
       "                        <td id=\"T_98fbc_row1_col2\" class=\"data row1 col2\" >0.823352</td>\n",
       "                        <td id=\"T_98fbc_row1_col3\" class=\"data row1 col3\" >0.832020</td>\n",
       "                        <td id=\"T_98fbc_row1_col4\" class=\"data row1 col4\" >0.822200</td>\n",
       "                        <td id=\"T_98fbc_row1_col5\" class=\"data row1 col5\" >0.826546</td>\n",
       "                        <td id=\"T_98fbc_row1_col6\" class=\"data row1 col6\" >0.830521</td>\n",
       "            </tr>\n",
       "            <tr>\n",
       "                        <th id=\"T_98fbc_level0_row2\" class=\"row_heading level0 row2\" >0.5</th>\n",
       "                        <td id=\"T_98fbc_row2_col0\" class=\"data row2 col0\" >0.131769</td>\n",
       "                        <td id=\"T_98fbc_row2_col1\" class=\"data row2 col1\" >0.805603</td>\n",
       "                        <td id=\"T_98fbc_row2_col2\" class=\"data row2 col2\" >0.820979</td>\n",
       "                        <td id=\"T_98fbc_row2_col3\" class=\"data row2 col3\" >0.844709</td>\n",
       "                        <td id=\"T_98fbc_row2_col4\" class=\"data row2 col4\" >0.845266</td>\n",
       "                        <td id=\"T_98fbc_row2_col5\" class=\"data row2 col5\" >0.818922</td>\n",
       "                        <td id=\"T_98fbc_row2_col6\" class=\"data row2 col6\" >0.821210</td>\n",
       "            </tr>\n",
       "            <tr>\n",
       "                        <th id=\"T_98fbc_level0_row3\" class=\"row_heading level0 row3\" >1.0</th>\n",
       "                        <td id=\"T_98fbc_row3_col0\" class=\"data row3 col0\" >0.000000</td>\n",
       "                        <td id=\"T_98fbc_row3_col1\" class=\"data row3 col1\" >0.769300</td>\n",
       "                        <td id=\"T_98fbc_row3_col2\" class=\"data row3 col2\" >0.832722</td>\n",
       "                        <td id=\"T_98fbc_row3_col3\" class=\"data row3 col3\" >0.833234</td>\n",
       "                        <td id=\"T_98fbc_row3_col4\" class=\"data row3 col4\" >0.819545</td>\n",
       "                        <td id=\"T_98fbc_row3_col5\" class=\"data row3 col5\" >0.818654</td>\n",
       "                        <td id=\"T_98fbc_row3_col6\" class=\"data row3 col6\" >0.796128</td>\n",
       "            </tr>\n",
       "    </tbody></table>"
      ],
      "text/plain": [
       "<pandas.io.formats.style.Styler at 0x162e718ffa0>"
      ]
     },
     "execution_count": 336,
     "metadata": {},
     "output_type": "execute_result"
    },
    {
     "name": "stdout",
     "output_type": "stream",
     "text": [
      " \n",
      "\n",
      "\n",
      "The parameter used for the analysis - mean_test_f0.5\n"
     ]
    },
    {
     "data": {
      "text/html": [
       "<style  type=\"text/css\" >\n",
       "#T_fa559_row0_col3,#T_fa559_row0_col4,#T_fa559_row0_col6,#T_fa559_row1_col5,#T_fa559_row2_col0,#T_fa559_row2_col2,#T_fa559_row3_col1{\n",
       "            background-color:  lightgreen;\n",
       "        }</style><table id=\"T_fa559_\" ><thead>    <tr>        <th class=\"index_name level0\" >C</th>        <th class=\"col_heading level0 col0\" >0.01</th>        <th class=\"col_heading level0 col1\" >0.1</th>        <th class=\"col_heading level0 col2\" >1.0</th>        <th class=\"col_heading level0 col3\" >5.0</th>        <th class=\"col_heading level0 col4\" >10.0</th>        <th class=\"col_heading level0 col5\" >20.0</th>        <th class=\"col_heading level0 col6\" >50.0</th>    </tr>    <tr>        <th class=\"index_name level0\" >gamma</th>        <th class=\"blank\" ></th>        <th class=\"blank\" ></th>        <th class=\"blank\" ></th>        <th class=\"blank\" ></th>        <th class=\"blank\" ></th>        <th class=\"blank\" ></th>        <th class=\"blank\" ></th>    </tr></thead><tbody>\n",
       "                <tr>\n",
       "                        <th id=\"T_fa559_level0_row0\" class=\"row_heading level0 row0\" >0.091</th>\n",
       "                        <td id=\"T_fa559_row0_col0\" class=\"data row0 col0\" >0.000000</td>\n",
       "                        <td id=\"T_fa559_row0_col1\" class=\"data row0 col1\" >0.830398</td>\n",
       "                        <td id=\"T_fa559_row0_col2\" class=\"data row0 col2\" >0.851496</td>\n",
       "                        <td id=\"T_fa559_row0_col3\" class=\"data row0 col3\" >0.860326</td>\n",
       "                        <td id=\"T_fa559_row0_col4\" class=\"data row0 col4\" >0.859790</td>\n",
       "                        <td id=\"T_fa559_row0_col5\" class=\"data row0 col5\" >0.865246</td>\n",
       "                        <td id=\"T_fa559_row0_col6\" class=\"data row0 col6\" >0.865070</td>\n",
       "            </tr>\n",
       "            <tr>\n",
       "                        <th id=\"T_fa559_level0_row1\" class=\"row_heading level0 row1\" >0.1</th>\n",
       "                        <td id=\"T_fa559_row1_col0\" class=\"data row1 col0\" >0.000000</td>\n",
       "                        <td id=\"T_fa559_row1_col1\" class=\"data row1 col1\" >0.829315</td>\n",
       "                        <td id=\"T_fa559_row1_col2\" class=\"data row1 col2\" >0.853500</td>\n",
       "                        <td id=\"T_fa559_row1_col3\" class=\"data row1 col3\" >0.859082</td>\n",
       "                        <td id=\"T_fa559_row1_col4\" class=\"data row1 col4\" >0.859638</td>\n",
       "                        <td id=\"T_fa559_row1_col5\" class=\"data row1 col5\" >0.867397</td>\n",
       "                        <td id=\"T_fa559_row1_col6\" class=\"data row1 col6\" >0.862607</td>\n",
       "            </tr>\n",
       "            <tr>\n",
       "                        <th id=\"T_fa559_level0_row2\" class=\"row_heading level0 row2\" >0.5</th>\n",
       "                        <td id=\"T_fa559_row2_col0\" class=\"data row2 col0\" >0.300214</td>\n",
       "                        <td id=\"T_fa559_row2_col1\" class=\"data row2 col1\" >0.852036</td>\n",
       "                        <td id=\"T_fa559_row2_col2\" class=\"data row2 col2\" >0.864576</td>\n",
       "                        <td id=\"T_fa559_row2_col3\" class=\"data row2 col3\" >0.859063</td>\n",
       "                        <td id=\"T_fa559_row2_col4\" class=\"data row2 col4\" >0.852065</td>\n",
       "                        <td id=\"T_fa559_row2_col5\" class=\"data row2 col5\" >0.844838</td>\n",
       "                        <td id=\"T_fa559_row2_col6\" class=\"data row2 col6\" >0.834150</td>\n",
       "            </tr>\n",
       "            <tr>\n",
       "                        <th id=\"T_fa559_level0_row3\" class=\"row_heading level0 row3\" >1.0</th>\n",
       "                        <td id=\"T_fa559_row3_col0\" class=\"data row3 col0\" >0.000000</td>\n",
       "                        <td id=\"T_fa559_row3_col1\" class=\"data row3 col1\" >0.863675</td>\n",
       "                        <td id=\"T_fa559_row3_col2\" class=\"data row3 col2\" >0.860662</td>\n",
       "                        <td id=\"T_fa559_row3_col3\" class=\"data row3 col3\" >0.852760</td>\n",
       "                        <td id=\"T_fa559_row3_col4\" class=\"data row3 col4\" >0.847372</td>\n",
       "                        <td id=\"T_fa559_row3_col5\" class=\"data row3 col5\" >0.833982</td>\n",
       "                        <td id=\"T_fa559_row3_col6\" class=\"data row3 col6\" >0.822312</td>\n",
       "            </tr>\n",
       "    </tbody></table>"
      ],
      "text/plain": [
       "<pandas.io.formats.style.Styler at 0x162e71c4640>"
      ]
     },
     "execution_count": 336,
     "metadata": {},
     "output_type": "execute_result"
    }
   ],
   "source": [
    "\n",
    "metrical_analysis_rbf(results, 'mean_test_recall')\n",
    "metrical_analysis_rbf(results, \"mean_test_f2\")\n",
    "metrical_analysis_rbf(results, \"mean_test_f0.5\")"
   ]
  },
  {
   "cell_type": "markdown",
   "metadata": {},
   "source": [
    "## Results analysis on Poly\n",
    "In the below analysis we are taking the combination of the parameters and validating the metrics majorily the F0.5 and f2 "
   ]
  },
  {
   "cell_type": "code",
   "execution_count": 337,
   "metadata": {},
   "outputs": [],
   "source": [
    "def metrical_analysis_ploy(dataframe, parameter):\n",
    "    print(\"\\n\\n\\n The parameter used for the analysis - {}\".format(parameter))\n",
    "    results_poly = dataframe[dataframe['kernel'] =='poly'][['C',  'degree','gamma', paramter]]\n",
    "    return pd.pivot_table(results_poly, index=['degree','gamma'], columns='C', values=paramter,aggfunc = \"mean\").style.highlight_max(color = 'lightgreen', axis = 0)"
   ]
  },
  {
   "cell_type": "code",
   "execution_count": 338,
   "metadata": {},
   "outputs": [
    {
     "name": "stdout",
     "output_type": "stream",
     "text": [
      "\n",
      "\n",
      "\n",
      " The parameter used for the analysis - mean_test_recall\n"
     ]
    },
    {
     "data": {
      "text/html": [
       "<style  type=\"text/css\" >\n",
       "#T_287d3_row0_col0,#T_287d3_row4_col5,#T_287d3_row4_col6,#T_287d3_row5_col5,#T_287d3_row8_col1,#T_287d3_row8_col2,#T_287d3_row8_col3,#T_287d3_row8_col4,#T_287d3_row9_col3,#T_287d3_row9_col4{\n",
       "            background-color:  lightgreen;\n",
       "        }</style><table id=\"T_287d3_\" ><thead>    <tr>        <th class=\"blank\" ></th>        <th class=\"index_name level0\" >C</th>        <th class=\"col_heading level0 col0\" >0.01</th>        <th class=\"col_heading level0 col1\" >0.1</th>        <th class=\"col_heading level0 col2\" >1.0</th>        <th class=\"col_heading level0 col3\" >5.0</th>        <th class=\"col_heading level0 col4\" >10.0</th>        <th class=\"col_heading level0 col5\" >20.0</th>        <th class=\"col_heading level0 col6\" >50.0</th>    </tr>    <tr>        <th class=\"index_name level0\" >degree</th>        <th class=\"index_name level1\" >gamma</th>        <th class=\"blank\" ></th>        <th class=\"blank\" ></th>        <th class=\"blank\" ></th>        <th class=\"blank\" ></th>        <th class=\"blank\" ></th>        <th class=\"blank\" ></th>        <th class=\"blank\" ></th>    </tr></thead><tbody>\n",
       "                <tr>\n",
       "                        <th id=\"T_287d3_level0_row0\" class=\"row_heading level0 row0\" rowspan=\"4\">2.0</th>\n",
       "                        <th id=\"T_287d3_level1_row0\" class=\"row_heading level1 row0\" >0.091</th>\n",
       "                        <td id=\"T_287d3_row0_col0\" class=\"data row0 col0\" >0.994771</td>\n",
       "                        <td id=\"T_287d3_row0_col1\" class=\"data row0 col1\" >0.892481</td>\n",
       "                        <td id=\"T_287d3_row0_col2\" class=\"data row0 col2\" >0.889986</td>\n",
       "                        <td id=\"T_287d3_row0_col3\" class=\"data row0 col3\" >0.903042</td>\n",
       "                        <td id=\"T_287d3_row0_col4\" class=\"data row0 col4\" >0.903042</td>\n",
       "                        <td id=\"T_287d3_row0_col5\" class=\"data row0 col5\" >0.900444</td>\n",
       "                        <td id=\"T_287d3_row0_col6\" class=\"data row0 col6\" >0.905707</td>\n",
       "            </tr>\n",
       "            <tr>\n",
       "                                <th id=\"T_287d3_level1_row1\" class=\"row_heading level1 row1\" >0.1</th>\n",
       "                        <td id=\"T_287d3_row1_col0\" class=\"data row1 col0\" >0.981716</td>\n",
       "                        <td id=\"T_287d3_row1_col1\" class=\"data row1 col1\" >0.889918</td>\n",
       "                        <td id=\"T_287d3_row1_col2\" class=\"data row1 col2\" >0.890021</td>\n",
       "                        <td id=\"T_287d3_row1_col3\" class=\"data row1 col3\" >0.903042</td>\n",
       "                        <td id=\"T_287d3_row1_col4\" class=\"data row1 col4\" >0.903042</td>\n",
       "                        <td id=\"T_287d3_row1_col5\" class=\"data row1 col5\" >0.903076</td>\n",
       "                        <td id=\"T_287d3_row1_col6\" class=\"data row1 col6\" >0.905707</td>\n",
       "            </tr>\n",
       "            <tr>\n",
       "                                <th id=\"T_287d3_level1_row2\" class=\"row_heading level1 row2\" >0.5</th>\n",
       "                        <td id=\"T_287d3_row2_col0\" class=\"data row2 col0\" >0.892515</td>\n",
       "                        <td id=\"T_287d3_row2_col1\" class=\"data row2 col1\" >0.897847</td>\n",
       "                        <td id=\"T_287d3_row2_col2\" class=\"data row2 col2\" >0.905673</td>\n",
       "                        <td id=\"T_287d3_row2_col3\" class=\"data row2 col3\" >0.889952</td>\n",
       "                        <td id=\"T_287d3_row2_col4\" class=\"data row2 col4\" >0.879460</td>\n",
       "                        <td id=\"T_287d3_row2_col5\" class=\"data row2 col5\" >0.884689</td>\n",
       "                        <td id=\"T_287d3_row2_col6\" class=\"data row2 col6\" >0.874265</td>\n",
       "            </tr>\n",
       "            <tr>\n",
       "                                <th id=\"T_287d3_level1_row3\" class=\"row_heading level1 row3\" >1.0</th>\n",
       "                        <td id=\"T_287d3_row3_col0\" class=\"data row3 col0\" >0.890021</td>\n",
       "                        <td id=\"T_287d3_row3_col1\" class=\"data row3 col1\" >0.903042</td>\n",
       "                        <td id=\"T_287d3_row3_col2\" class=\"data row3 col2\" >0.895215</td>\n",
       "                        <td id=\"T_287d3_row3_col3\" class=\"data row3 col3\" >0.884689</td>\n",
       "                        <td id=\"T_287d3_row3_col4\" class=\"data row3 col4\" >0.874265</td>\n",
       "                        <td id=\"T_287d3_row3_col5\" class=\"data row3 col5\" >0.869002</td>\n",
       "                        <td id=\"T_287d3_row3_col6\" class=\"data row3 col6\" >0.879494</td>\n",
       "            </tr>\n",
       "            <tr>\n",
       "                        <th id=\"T_287d3_level0_row4\" class=\"row_heading level0 row4\" rowspan=\"4\">3.0</th>\n",
       "                        <th id=\"T_287d3_level1_row4\" class=\"row_heading level1 row4\" >0.091</th>\n",
       "                        <td id=\"T_287d3_row4_col0\" class=\"data row4 col0\" >0.989542</td>\n",
       "                        <td id=\"T_287d3_row4_col1\" class=\"data row4 col1\" >0.939713</td>\n",
       "                        <td id=\"T_287d3_row4_col2\" class=\"data row4 col2\" >0.908305</td>\n",
       "                        <td id=\"T_287d3_row4_col3\" class=\"data row4 col3\" >0.913534</td>\n",
       "                        <td id=\"T_287d3_row4_col4\" class=\"data row4 col4\" >0.918797</td>\n",
       "                        <td id=\"T_287d3_row4_col5\" class=\"data row4 col5\" >0.921394</td>\n",
       "                        <td id=\"T_287d3_row4_col6\" class=\"data row4 col6\" >0.921394</td>\n",
       "            </tr>\n",
       "            <tr>\n",
       "                                <th id=\"T_287d3_level1_row5\" class=\"row_heading level1 row5\" >0.1</th>\n",
       "                        <td id=\"T_287d3_row5_col0\" class=\"data row5 col0\" >0.976487</td>\n",
       "                        <td id=\"T_287d3_row5_col1\" class=\"data row5 col1\" >0.934484</td>\n",
       "                        <td id=\"T_287d3_row5_col2\" class=\"data row5 col2\" >0.908305</td>\n",
       "                        <td id=\"T_287d3_row5_col3\" class=\"data row5 col3\" >0.913534</td>\n",
       "                        <td id=\"T_287d3_row5_col4\" class=\"data row5 col4\" >0.918797</td>\n",
       "                        <td id=\"T_287d3_row5_col5\" class=\"data row5 col5\" >0.921394</td>\n",
       "                        <td id=\"T_287d3_row5_col6\" class=\"data row5 col6\" >0.916097</td>\n",
       "            </tr>\n",
       "            <tr>\n",
       "                                <th id=\"T_287d3_level1_row6\" class=\"row_heading level1 row6\" >0.5</th>\n",
       "                        <td id=\"T_287d3_row6_col0\" class=\"data row6 col0\" >0.905673</td>\n",
       "                        <td id=\"T_287d3_row6_col1\" class=\"data row6 col1\" >0.918797</td>\n",
       "                        <td id=\"T_287d3_row6_col2\" class=\"data row6 col2\" >0.905639</td>\n",
       "                        <td id=\"T_287d3_row6_col3\" class=\"data row6 col3\" >0.871531</td>\n",
       "                        <td id=\"T_287d3_row6_col4\" class=\"data row6 col4\" >0.879392</td>\n",
       "                        <td id=\"T_287d3_row6_col5\" class=\"data row6 col5\" >0.866302</td>\n",
       "                        <td id=\"T_287d3_row6_col6\" class=\"data row6 col6\" >0.840089</td>\n",
       "            </tr>\n",
       "            <tr>\n",
       "                                <th id=\"T_287d3_level1_row7\" class=\"row_heading level1 row7\" >1.0</th>\n",
       "                        <td id=\"T_287d3_row7_col0\" class=\"data row7 col0\" >0.918797</td>\n",
       "                        <td id=\"T_287d3_row7_col1\" class=\"data row7 col1\" >0.910902</td>\n",
       "                        <td id=\"T_287d3_row7_col2\" class=\"data row7 col2\" >0.879426</td>\n",
       "                        <td id=\"T_287d3_row7_col3\" class=\"data row7 col3\" >0.847949</td>\n",
       "                        <td id=\"T_287d3_row7_col4\" class=\"data row7 col4\" >0.834826</td>\n",
       "                        <td id=\"T_287d3_row7_col5\" class=\"data row7 col5\" >0.826999</td>\n",
       "                        <td id=\"T_287d3_row7_col6\" class=\"data row7 col6\" >0.832126</td>\n",
       "            </tr>\n",
       "            <tr>\n",
       "                        <th id=\"T_287d3_level0_row8\" class=\"row_heading level0 row8\" rowspan=\"4\">5.0</th>\n",
       "                        <th id=\"T_287d3_level1_row8\" class=\"row_heading level1 row8\" >0.091</th>\n",
       "                        <td id=\"T_287d3_row8_col0\" class=\"data row8 col0\" >0.989542</td>\n",
       "                        <td id=\"T_287d3_row8_col1\" class=\"data row8 col1\" >0.968592</td>\n",
       "                        <td id=\"T_287d3_row8_col2\" class=\"data row8 col2\" >0.934484</td>\n",
       "                        <td id=\"T_287d3_row8_col3\" class=\"data row8 col3\" >0.921360</td>\n",
       "                        <td id=\"T_287d3_row8_col4\" class=\"data row8 col4\" >0.921360</td>\n",
       "                        <td id=\"T_287d3_row8_col5\" class=\"data row8 col5\" >0.921360</td>\n",
       "                        <td id=\"T_287d3_row8_col6\" class=\"data row8 col6\" >0.908202</td>\n",
       "            </tr>\n",
       "            <tr>\n",
       "                                <th id=\"T_287d3_level1_row9\" class=\"row_heading level1 row9\" >0.1</th>\n",
       "                        <td id=\"T_287d3_row9_col0\" class=\"data row9 col0\" >0.981716</td>\n",
       "                        <td id=\"T_287d3_row9_col1\" class=\"data row9 col1\" >0.963363</td>\n",
       "                        <td id=\"T_287d3_row9_col2\" class=\"data row9 col2\" >0.923958</td>\n",
       "                        <td id=\"T_287d3_row9_col3\" class=\"data row9 col3\" >0.921360</td>\n",
       "                        <td id=\"T_287d3_row9_col4\" class=\"data row9 col4\" >0.921360</td>\n",
       "                        <td id=\"T_287d3_row9_col5\" class=\"data row9 col5\" >0.910868</td>\n",
       "                        <td id=\"T_287d3_row9_col6\" class=\"data row9 col6\" >0.897676</td>\n",
       "            </tr>\n",
       "            <tr>\n",
       "                                <th id=\"T_287d3_level1_row10\" class=\"row_heading level1 row10\" >0.5</th>\n",
       "                        <td id=\"T_287d3_row10_col0\" class=\"data row10 col0\" >0.908202</td>\n",
       "                        <td id=\"T_287d3_row10_col1\" class=\"data row10 col1\" >0.887218</td>\n",
       "                        <td id=\"T_287d3_row10_col2\" class=\"data row10 col2\" >0.863636</td>\n",
       "                        <td id=\"T_287d3_row10_col3\" class=\"data row10 col3\" >0.848018</td>\n",
       "                        <td id=\"T_287d3_row10_col4\" class=\"data row10 col4\" >0.845318</td>\n",
       "                        <td id=\"T_287d3_row10_col5\" class=\"data row10 col5\" >0.834792</td>\n",
       "                        <td id=\"T_287d3_row10_col6\" class=\"data row10 col6\" >0.837355</td>\n",
       "            </tr>\n",
       "            <tr>\n",
       "                                <th id=\"T_287d3_level1_row11\" class=\"row_heading level1 row11\" >1.0</th>\n",
       "                        <td id=\"T_287d3_row11_col0\" class=\"data row11 col0\" >0.882023</td>\n",
       "                        <td id=\"T_287d3_row11_col1\" class=\"data row11 col1\" >0.855844</td>\n",
       "                        <td id=\"T_287d3_row11_col2\" class=\"data row11 col2\" >0.845284</td>\n",
       "                        <td id=\"T_287d3_row11_col3\" class=\"data row11 col3\" >0.808578</td>\n",
       "                        <td id=\"T_287d3_row11_col4\" class=\"data row11 col4\" >0.813773</td>\n",
       "                        <td id=\"T_287d3_row11_col5\" class=\"data row11 col5\" >0.818934</td>\n",
       "                        <td id=\"T_287d3_row11_col6\" class=\"data row11 col6\" >0.818934</td>\n",
       "            </tr>\n",
       "    </tbody></table>"
      ],
      "text/plain": [
       "<pandas.io.formats.style.Styler at 0x162e3f8f550>"
      ]
     },
     "execution_count": 338,
     "metadata": {},
     "output_type": "execute_result"
    },
    {
     "name": "stdout",
     "output_type": "stream",
     "text": [
      "\n",
      "\n",
      "\n",
      " The parameter used for the analysis - mean_test_f2\n"
     ]
    },
    {
     "data": {
      "text/html": [
       "<style  type=\"text/css\" >\n",
       "#T_50c1c_row0_col0,#T_50c1c_row4_col5,#T_50c1c_row4_col6,#T_50c1c_row5_col5,#T_50c1c_row8_col1,#T_50c1c_row8_col2,#T_50c1c_row8_col3,#T_50c1c_row8_col4,#T_50c1c_row9_col3,#T_50c1c_row9_col4{\n",
       "            background-color:  lightgreen;\n",
       "        }</style><table id=\"T_50c1c_\" ><thead>    <tr>        <th class=\"blank\" ></th>        <th class=\"index_name level0\" >C</th>        <th class=\"col_heading level0 col0\" >0.01</th>        <th class=\"col_heading level0 col1\" >0.1</th>        <th class=\"col_heading level0 col2\" >1.0</th>        <th class=\"col_heading level0 col3\" >5.0</th>        <th class=\"col_heading level0 col4\" >10.0</th>        <th class=\"col_heading level0 col5\" >20.0</th>        <th class=\"col_heading level0 col6\" >50.0</th>    </tr>    <tr>        <th class=\"index_name level0\" >degree</th>        <th class=\"index_name level1\" >gamma</th>        <th class=\"blank\" ></th>        <th class=\"blank\" ></th>        <th class=\"blank\" ></th>        <th class=\"blank\" ></th>        <th class=\"blank\" ></th>        <th class=\"blank\" ></th>        <th class=\"blank\" ></th>    </tr></thead><tbody>\n",
       "                <tr>\n",
       "                        <th id=\"T_50c1c_level0_row0\" class=\"row_heading level0 row0\" rowspan=\"4\">2.0</th>\n",
       "                        <th id=\"T_50c1c_level1_row0\" class=\"row_heading level1 row0\" >0.091</th>\n",
       "                        <td id=\"T_50c1c_row0_col0\" class=\"data row0 col0\" >0.994771</td>\n",
       "                        <td id=\"T_50c1c_row0_col1\" class=\"data row0 col1\" >0.892481</td>\n",
       "                        <td id=\"T_50c1c_row0_col2\" class=\"data row0 col2\" >0.889986</td>\n",
       "                        <td id=\"T_50c1c_row0_col3\" class=\"data row0 col3\" >0.903042</td>\n",
       "                        <td id=\"T_50c1c_row0_col4\" class=\"data row0 col4\" >0.903042</td>\n",
       "                        <td id=\"T_50c1c_row0_col5\" class=\"data row0 col5\" >0.900444</td>\n",
       "                        <td id=\"T_50c1c_row0_col6\" class=\"data row0 col6\" >0.905707</td>\n",
       "            </tr>\n",
       "            <tr>\n",
       "                                <th id=\"T_50c1c_level1_row1\" class=\"row_heading level1 row1\" >0.1</th>\n",
       "                        <td id=\"T_50c1c_row1_col0\" class=\"data row1 col0\" >0.981716</td>\n",
       "                        <td id=\"T_50c1c_row1_col1\" class=\"data row1 col1\" >0.889918</td>\n",
       "                        <td id=\"T_50c1c_row1_col2\" class=\"data row1 col2\" >0.890021</td>\n",
       "                        <td id=\"T_50c1c_row1_col3\" class=\"data row1 col3\" >0.903042</td>\n",
       "                        <td id=\"T_50c1c_row1_col4\" class=\"data row1 col4\" >0.903042</td>\n",
       "                        <td id=\"T_50c1c_row1_col5\" class=\"data row1 col5\" >0.903076</td>\n",
       "                        <td id=\"T_50c1c_row1_col6\" class=\"data row1 col6\" >0.905707</td>\n",
       "            </tr>\n",
       "            <tr>\n",
       "                                <th id=\"T_50c1c_level1_row2\" class=\"row_heading level1 row2\" >0.5</th>\n",
       "                        <td id=\"T_50c1c_row2_col0\" class=\"data row2 col0\" >0.892515</td>\n",
       "                        <td id=\"T_50c1c_row2_col1\" class=\"data row2 col1\" >0.897847</td>\n",
       "                        <td id=\"T_50c1c_row2_col2\" class=\"data row2 col2\" >0.905673</td>\n",
       "                        <td id=\"T_50c1c_row2_col3\" class=\"data row2 col3\" >0.889952</td>\n",
       "                        <td id=\"T_50c1c_row2_col4\" class=\"data row2 col4\" >0.879460</td>\n",
       "                        <td id=\"T_50c1c_row2_col5\" class=\"data row2 col5\" >0.884689</td>\n",
       "                        <td id=\"T_50c1c_row2_col6\" class=\"data row2 col6\" >0.874265</td>\n",
       "            </tr>\n",
       "            <tr>\n",
       "                                <th id=\"T_50c1c_level1_row3\" class=\"row_heading level1 row3\" >1.0</th>\n",
       "                        <td id=\"T_50c1c_row3_col0\" class=\"data row3 col0\" >0.890021</td>\n",
       "                        <td id=\"T_50c1c_row3_col1\" class=\"data row3 col1\" >0.903042</td>\n",
       "                        <td id=\"T_50c1c_row3_col2\" class=\"data row3 col2\" >0.895215</td>\n",
       "                        <td id=\"T_50c1c_row3_col3\" class=\"data row3 col3\" >0.884689</td>\n",
       "                        <td id=\"T_50c1c_row3_col4\" class=\"data row3 col4\" >0.874265</td>\n",
       "                        <td id=\"T_50c1c_row3_col5\" class=\"data row3 col5\" >0.869002</td>\n",
       "                        <td id=\"T_50c1c_row3_col6\" class=\"data row3 col6\" >0.879494</td>\n",
       "            </tr>\n",
       "            <tr>\n",
       "                        <th id=\"T_50c1c_level0_row4\" class=\"row_heading level0 row4\" rowspan=\"4\">3.0</th>\n",
       "                        <th id=\"T_50c1c_level1_row4\" class=\"row_heading level1 row4\" >0.091</th>\n",
       "                        <td id=\"T_50c1c_row4_col0\" class=\"data row4 col0\" >0.989542</td>\n",
       "                        <td id=\"T_50c1c_row4_col1\" class=\"data row4 col1\" >0.939713</td>\n",
       "                        <td id=\"T_50c1c_row4_col2\" class=\"data row4 col2\" >0.908305</td>\n",
       "                        <td id=\"T_50c1c_row4_col3\" class=\"data row4 col3\" >0.913534</td>\n",
       "                        <td id=\"T_50c1c_row4_col4\" class=\"data row4 col4\" >0.918797</td>\n",
       "                        <td id=\"T_50c1c_row4_col5\" class=\"data row4 col5\" >0.921394</td>\n",
       "                        <td id=\"T_50c1c_row4_col6\" class=\"data row4 col6\" >0.921394</td>\n",
       "            </tr>\n",
       "            <tr>\n",
       "                                <th id=\"T_50c1c_level1_row5\" class=\"row_heading level1 row5\" >0.1</th>\n",
       "                        <td id=\"T_50c1c_row5_col0\" class=\"data row5 col0\" >0.976487</td>\n",
       "                        <td id=\"T_50c1c_row5_col1\" class=\"data row5 col1\" >0.934484</td>\n",
       "                        <td id=\"T_50c1c_row5_col2\" class=\"data row5 col2\" >0.908305</td>\n",
       "                        <td id=\"T_50c1c_row5_col3\" class=\"data row5 col3\" >0.913534</td>\n",
       "                        <td id=\"T_50c1c_row5_col4\" class=\"data row5 col4\" >0.918797</td>\n",
       "                        <td id=\"T_50c1c_row5_col5\" class=\"data row5 col5\" >0.921394</td>\n",
       "                        <td id=\"T_50c1c_row5_col6\" class=\"data row5 col6\" >0.916097</td>\n",
       "            </tr>\n",
       "            <tr>\n",
       "                                <th id=\"T_50c1c_level1_row6\" class=\"row_heading level1 row6\" >0.5</th>\n",
       "                        <td id=\"T_50c1c_row6_col0\" class=\"data row6 col0\" >0.905673</td>\n",
       "                        <td id=\"T_50c1c_row6_col1\" class=\"data row6 col1\" >0.918797</td>\n",
       "                        <td id=\"T_50c1c_row6_col2\" class=\"data row6 col2\" >0.905639</td>\n",
       "                        <td id=\"T_50c1c_row6_col3\" class=\"data row6 col3\" >0.871531</td>\n",
       "                        <td id=\"T_50c1c_row6_col4\" class=\"data row6 col4\" >0.879392</td>\n",
       "                        <td id=\"T_50c1c_row6_col5\" class=\"data row6 col5\" >0.866302</td>\n",
       "                        <td id=\"T_50c1c_row6_col6\" class=\"data row6 col6\" >0.840089</td>\n",
       "            </tr>\n",
       "            <tr>\n",
       "                                <th id=\"T_50c1c_level1_row7\" class=\"row_heading level1 row7\" >1.0</th>\n",
       "                        <td id=\"T_50c1c_row7_col0\" class=\"data row7 col0\" >0.918797</td>\n",
       "                        <td id=\"T_50c1c_row7_col1\" class=\"data row7 col1\" >0.910902</td>\n",
       "                        <td id=\"T_50c1c_row7_col2\" class=\"data row7 col2\" >0.879426</td>\n",
       "                        <td id=\"T_50c1c_row7_col3\" class=\"data row7 col3\" >0.847949</td>\n",
       "                        <td id=\"T_50c1c_row7_col4\" class=\"data row7 col4\" >0.834826</td>\n",
       "                        <td id=\"T_50c1c_row7_col5\" class=\"data row7 col5\" >0.826999</td>\n",
       "                        <td id=\"T_50c1c_row7_col6\" class=\"data row7 col6\" >0.832126</td>\n",
       "            </tr>\n",
       "            <tr>\n",
       "                        <th id=\"T_50c1c_level0_row8\" class=\"row_heading level0 row8\" rowspan=\"4\">5.0</th>\n",
       "                        <th id=\"T_50c1c_level1_row8\" class=\"row_heading level1 row8\" >0.091</th>\n",
       "                        <td id=\"T_50c1c_row8_col0\" class=\"data row8 col0\" >0.989542</td>\n",
       "                        <td id=\"T_50c1c_row8_col1\" class=\"data row8 col1\" >0.968592</td>\n",
       "                        <td id=\"T_50c1c_row8_col2\" class=\"data row8 col2\" >0.934484</td>\n",
       "                        <td id=\"T_50c1c_row8_col3\" class=\"data row8 col3\" >0.921360</td>\n",
       "                        <td id=\"T_50c1c_row8_col4\" class=\"data row8 col4\" >0.921360</td>\n",
       "                        <td id=\"T_50c1c_row8_col5\" class=\"data row8 col5\" >0.921360</td>\n",
       "                        <td id=\"T_50c1c_row8_col6\" class=\"data row8 col6\" >0.908202</td>\n",
       "            </tr>\n",
       "            <tr>\n",
       "                                <th id=\"T_50c1c_level1_row9\" class=\"row_heading level1 row9\" >0.1</th>\n",
       "                        <td id=\"T_50c1c_row9_col0\" class=\"data row9 col0\" >0.981716</td>\n",
       "                        <td id=\"T_50c1c_row9_col1\" class=\"data row9 col1\" >0.963363</td>\n",
       "                        <td id=\"T_50c1c_row9_col2\" class=\"data row9 col2\" >0.923958</td>\n",
       "                        <td id=\"T_50c1c_row9_col3\" class=\"data row9 col3\" >0.921360</td>\n",
       "                        <td id=\"T_50c1c_row9_col4\" class=\"data row9 col4\" >0.921360</td>\n",
       "                        <td id=\"T_50c1c_row9_col5\" class=\"data row9 col5\" >0.910868</td>\n",
       "                        <td id=\"T_50c1c_row9_col6\" class=\"data row9 col6\" >0.897676</td>\n",
       "            </tr>\n",
       "            <tr>\n",
       "                                <th id=\"T_50c1c_level1_row10\" class=\"row_heading level1 row10\" >0.5</th>\n",
       "                        <td id=\"T_50c1c_row10_col0\" class=\"data row10 col0\" >0.908202</td>\n",
       "                        <td id=\"T_50c1c_row10_col1\" class=\"data row10 col1\" >0.887218</td>\n",
       "                        <td id=\"T_50c1c_row10_col2\" class=\"data row10 col2\" >0.863636</td>\n",
       "                        <td id=\"T_50c1c_row10_col3\" class=\"data row10 col3\" >0.848018</td>\n",
       "                        <td id=\"T_50c1c_row10_col4\" class=\"data row10 col4\" >0.845318</td>\n",
       "                        <td id=\"T_50c1c_row10_col5\" class=\"data row10 col5\" >0.834792</td>\n",
       "                        <td id=\"T_50c1c_row10_col6\" class=\"data row10 col6\" >0.837355</td>\n",
       "            </tr>\n",
       "            <tr>\n",
       "                                <th id=\"T_50c1c_level1_row11\" class=\"row_heading level1 row11\" >1.0</th>\n",
       "                        <td id=\"T_50c1c_row11_col0\" class=\"data row11 col0\" >0.882023</td>\n",
       "                        <td id=\"T_50c1c_row11_col1\" class=\"data row11 col1\" >0.855844</td>\n",
       "                        <td id=\"T_50c1c_row11_col2\" class=\"data row11 col2\" >0.845284</td>\n",
       "                        <td id=\"T_50c1c_row11_col3\" class=\"data row11 col3\" >0.808578</td>\n",
       "                        <td id=\"T_50c1c_row11_col4\" class=\"data row11 col4\" >0.813773</td>\n",
       "                        <td id=\"T_50c1c_row11_col5\" class=\"data row11 col5\" >0.818934</td>\n",
       "                        <td id=\"T_50c1c_row11_col6\" class=\"data row11 col6\" >0.818934</td>\n",
       "            </tr>\n",
       "    </tbody></table>"
      ],
      "text/plain": [
       "<pandas.io.formats.style.Styler at 0x162e71dff70>"
      ]
     },
     "execution_count": 338,
     "metadata": {},
     "output_type": "execute_result"
    },
    {
     "name": "stdout",
     "output_type": "stream",
     "text": [
      "\n",
      "\n",
      "\n",
      " The parameter used for the analysis - mean_test_f0.5\n"
     ]
    },
    {
     "data": {
      "text/html": [
       "<style  type=\"text/css\" >\n",
       "#T_04a81_row0_col0,#T_04a81_row4_col5,#T_04a81_row4_col6,#T_04a81_row5_col5,#T_04a81_row8_col1,#T_04a81_row8_col2,#T_04a81_row8_col3,#T_04a81_row8_col4,#T_04a81_row9_col3,#T_04a81_row9_col4{\n",
       "            background-color:  lightgreen;\n",
       "        }</style><table id=\"T_04a81_\" ><thead>    <tr>        <th class=\"blank\" ></th>        <th class=\"index_name level0\" >C</th>        <th class=\"col_heading level0 col0\" >0.01</th>        <th class=\"col_heading level0 col1\" >0.1</th>        <th class=\"col_heading level0 col2\" >1.0</th>        <th class=\"col_heading level0 col3\" >5.0</th>        <th class=\"col_heading level0 col4\" >10.0</th>        <th class=\"col_heading level0 col5\" >20.0</th>        <th class=\"col_heading level0 col6\" >50.0</th>    </tr>    <tr>        <th class=\"index_name level0\" >degree</th>        <th class=\"index_name level1\" >gamma</th>        <th class=\"blank\" ></th>        <th class=\"blank\" ></th>        <th class=\"blank\" ></th>        <th class=\"blank\" ></th>        <th class=\"blank\" ></th>        <th class=\"blank\" ></th>        <th class=\"blank\" ></th>    </tr></thead><tbody>\n",
       "                <tr>\n",
       "                        <th id=\"T_04a81_level0_row0\" class=\"row_heading level0 row0\" rowspan=\"4\">2.0</th>\n",
       "                        <th id=\"T_04a81_level1_row0\" class=\"row_heading level1 row0\" >0.091</th>\n",
       "                        <td id=\"T_04a81_row0_col0\" class=\"data row0 col0\" >0.994771</td>\n",
       "                        <td id=\"T_04a81_row0_col1\" class=\"data row0 col1\" >0.892481</td>\n",
       "                        <td id=\"T_04a81_row0_col2\" class=\"data row0 col2\" >0.889986</td>\n",
       "                        <td id=\"T_04a81_row0_col3\" class=\"data row0 col3\" >0.903042</td>\n",
       "                        <td id=\"T_04a81_row0_col4\" class=\"data row0 col4\" >0.903042</td>\n",
       "                        <td id=\"T_04a81_row0_col5\" class=\"data row0 col5\" >0.900444</td>\n",
       "                        <td id=\"T_04a81_row0_col6\" class=\"data row0 col6\" >0.905707</td>\n",
       "            </tr>\n",
       "            <tr>\n",
       "                                <th id=\"T_04a81_level1_row1\" class=\"row_heading level1 row1\" >0.1</th>\n",
       "                        <td id=\"T_04a81_row1_col0\" class=\"data row1 col0\" >0.981716</td>\n",
       "                        <td id=\"T_04a81_row1_col1\" class=\"data row1 col1\" >0.889918</td>\n",
       "                        <td id=\"T_04a81_row1_col2\" class=\"data row1 col2\" >0.890021</td>\n",
       "                        <td id=\"T_04a81_row1_col3\" class=\"data row1 col3\" >0.903042</td>\n",
       "                        <td id=\"T_04a81_row1_col4\" class=\"data row1 col4\" >0.903042</td>\n",
       "                        <td id=\"T_04a81_row1_col5\" class=\"data row1 col5\" >0.903076</td>\n",
       "                        <td id=\"T_04a81_row1_col6\" class=\"data row1 col6\" >0.905707</td>\n",
       "            </tr>\n",
       "            <tr>\n",
       "                                <th id=\"T_04a81_level1_row2\" class=\"row_heading level1 row2\" >0.5</th>\n",
       "                        <td id=\"T_04a81_row2_col0\" class=\"data row2 col0\" >0.892515</td>\n",
       "                        <td id=\"T_04a81_row2_col1\" class=\"data row2 col1\" >0.897847</td>\n",
       "                        <td id=\"T_04a81_row2_col2\" class=\"data row2 col2\" >0.905673</td>\n",
       "                        <td id=\"T_04a81_row2_col3\" class=\"data row2 col3\" >0.889952</td>\n",
       "                        <td id=\"T_04a81_row2_col4\" class=\"data row2 col4\" >0.879460</td>\n",
       "                        <td id=\"T_04a81_row2_col5\" class=\"data row2 col5\" >0.884689</td>\n",
       "                        <td id=\"T_04a81_row2_col6\" class=\"data row2 col6\" >0.874265</td>\n",
       "            </tr>\n",
       "            <tr>\n",
       "                                <th id=\"T_04a81_level1_row3\" class=\"row_heading level1 row3\" >1.0</th>\n",
       "                        <td id=\"T_04a81_row3_col0\" class=\"data row3 col0\" >0.890021</td>\n",
       "                        <td id=\"T_04a81_row3_col1\" class=\"data row3 col1\" >0.903042</td>\n",
       "                        <td id=\"T_04a81_row3_col2\" class=\"data row3 col2\" >0.895215</td>\n",
       "                        <td id=\"T_04a81_row3_col3\" class=\"data row3 col3\" >0.884689</td>\n",
       "                        <td id=\"T_04a81_row3_col4\" class=\"data row3 col4\" >0.874265</td>\n",
       "                        <td id=\"T_04a81_row3_col5\" class=\"data row3 col5\" >0.869002</td>\n",
       "                        <td id=\"T_04a81_row3_col6\" class=\"data row3 col6\" >0.879494</td>\n",
       "            </tr>\n",
       "            <tr>\n",
       "                        <th id=\"T_04a81_level0_row4\" class=\"row_heading level0 row4\" rowspan=\"4\">3.0</th>\n",
       "                        <th id=\"T_04a81_level1_row4\" class=\"row_heading level1 row4\" >0.091</th>\n",
       "                        <td id=\"T_04a81_row4_col0\" class=\"data row4 col0\" >0.989542</td>\n",
       "                        <td id=\"T_04a81_row4_col1\" class=\"data row4 col1\" >0.939713</td>\n",
       "                        <td id=\"T_04a81_row4_col2\" class=\"data row4 col2\" >0.908305</td>\n",
       "                        <td id=\"T_04a81_row4_col3\" class=\"data row4 col3\" >0.913534</td>\n",
       "                        <td id=\"T_04a81_row4_col4\" class=\"data row4 col4\" >0.918797</td>\n",
       "                        <td id=\"T_04a81_row4_col5\" class=\"data row4 col5\" >0.921394</td>\n",
       "                        <td id=\"T_04a81_row4_col6\" class=\"data row4 col6\" >0.921394</td>\n",
       "            </tr>\n",
       "            <tr>\n",
       "                                <th id=\"T_04a81_level1_row5\" class=\"row_heading level1 row5\" >0.1</th>\n",
       "                        <td id=\"T_04a81_row5_col0\" class=\"data row5 col0\" >0.976487</td>\n",
       "                        <td id=\"T_04a81_row5_col1\" class=\"data row5 col1\" >0.934484</td>\n",
       "                        <td id=\"T_04a81_row5_col2\" class=\"data row5 col2\" >0.908305</td>\n",
       "                        <td id=\"T_04a81_row5_col3\" class=\"data row5 col3\" >0.913534</td>\n",
       "                        <td id=\"T_04a81_row5_col4\" class=\"data row5 col4\" >0.918797</td>\n",
       "                        <td id=\"T_04a81_row5_col5\" class=\"data row5 col5\" >0.921394</td>\n",
       "                        <td id=\"T_04a81_row5_col6\" class=\"data row5 col6\" >0.916097</td>\n",
       "            </tr>\n",
       "            <tr>\n",
       "                                <th id=\"T_04a81_level1_row6\" class=\"row_heading level1 row6\" >0.5</th>\n",
       "                        <td id=\"T_04a81_row6_col0\" class=\"data row6 col0\" >0.905673</td>\n",
       "                        <td id=\"T_04a81_row6_col1\" class=\"data row6 col1\" >0.918797</td>\n",
       "                        <td id=\"T_04a81_row6_col2\" class=\"data row6 col2\" >0.905639</td>\n",
       "                        <td id=\"T_04a81_row6_col3\" class=\"data row6 col3\" >0.871531</td>\n",
       "                        <td id=\"T_04a81_row6_col4\" class=\"data row6 col4\" >0.879392</td>\n",
       "                        <td id=\"T_04a81_row6_col5\" class=\"data row6 col5\" >0.866302</td>\n",
       "                        <td id=\"T_04a81_row6_col6\" class=\"data row6 col6\" >0.840089</td>\n",
       "            </tr>\n",
       "            <tr>\n",
       "                                <th id=\"T_04a81_level1_row7\" class=\"row_heading level1 row7\" >1.0</th>\n",
       "                        <td id=\"T_04a81_row7_col0\" class=\"data row7 col0\" >0.918797</td>\n",
       "                        <td id=\"T_04a81_row7_col1\" class=\"data row7 col1\" >0.910902</td>\n",
       "                        <td id=\"T_04a81_row7_col2\" class=\"data row7 col2\" >0.879426</td>\n",
       "                        <td id=\"T_04a81_row7_col3\" class=\"data row7 col3\" >0.847949</td>\n",
       "                        <td id=\"T_04a81_row7_col4\" class=\"data row7 col4\" >0.834826</td>\n",
       "                        <td id=\"T_04a81_row7_col5\" class=\"data row7 col5\" >0.826999</td>\n",
       "                        <td id=\"T_04a81_row7_col6\" class=\"data row7 col6\" >0.832126</td>\n",
       "            </tr>\n",
       "            <tr>\n",
       "                        <th id=\"T_04a81_level0_row8\" class=\"row_heading level0 row8\" rowspan=\"4\">5.0</th>\n",
       "                        <th id=\"T_04a81_level1_row8\" class=\"row_heading level1 row8\" >0.091</th>\n",
       "                        <td id=\"T_04a81_row8_col0\" class=\"data row8 col0\" >0.989542</td>\n",
       "                        <td id=\"T_04a81_row8_col1\" class=\"data row8 col1\" >0.968592</td>\n",
       "                        <td id=\"T_04a81_row8_col2\" class=\"data row8 col2\" >0.934484</td>\n",
       "                        <td id=\"T_04a81_row8_col3\" class=\"data row8 col3\" >0.921360</td>\n",
       "                        <td id=\"T_04a81_row8_col4\" class=\"data row8 col4\" >0.921360</td>\n",
       "                        <td id=\"T_04a81_row8_col5\" class=\"data row8 col5\" >0.921360</td>\n",
       "                        <td id=\"T_04a81_row8_col6\" class=\"data row8 col6\" >0.908202</td>\n",
       "            </tr>\n",
       "            <tr>\n",
       "                                <th id=\"T_04a81_level1_row9\" class=\"row_heading level1 row9\" >0.1</th>\n",
       "                        <td id=\"T_04a81_row9_col0\" class=\"data row9 col0\" >0.981716</td>\n",
       "                        <td id=\"T_04a81_row9_col1\" class=\"data row9 col1\" >0.963363</td>\n",
       "                        <td id=\"T_04a81_row9_col2\" class=\"data row9 col2\" >0.923958</td>\n",
       "                        <td id=\"T_04a81_row9_col3\" class=\"data row9 col3\" >0.921360</td>\n",
       "                        <td id=\"T_04a81_row9_col4\" class=\"data row9 col4\" >0.921360</td>\n",
       "                        <td id=\"T_04a81_row9_col5\" class=\"data row9 col5\" >0.910868</td>\n",
       "                        <td id=\"T_04a81_row9_col6\" class=\"data row9 col6\" >0.897676</td>\n",
       "            </tr>\n",
       "            <tr>\n",
       "                                <th id=\"T_04a81_level1_row10\" class=\"row_heading level1 row10\" >0.5</th>\n",
       "                        <td id=\"T_04a81_row10_col0\" class=\"data row10 col0\" >0.908202</td>\n",
       "                        <td id=\"T_04a81_row10_col1\" class=\"data row10 col1\" >0.887218</td>\n",
       "                        <td id=\"T_04a81_row10_col2\" class=\"data row10 col2\" >0.863636</td>\n",
       "                        <td id=\"T_04a81_row10_col3\" class=\"data row10 col3\" >0.848018</td>\n",
       "                        <td id=\"T_04a81_row10_col4\" class=\"data row10 col4\" >0.845318</td>\n",
       "                        <td id=\"T_04a81_row10_col5\" class=\"data row10 col5\" >0.834792</td>\n",
       "                        <td id=\"T_04a81_row10_col6\" class=\"data row10 col6\" >0.837355</td>\n",
       "            </tr>\n",
       "            <tr>\n",
       "                                <th id=\"T_04a81_level1_row11\" class=\"row_heading level1 row11\" >1.0</th>\n",
       "                        <td id=\"T_04a81_row11_col0\" class=\"data row11 col0\" >0.882023</td>\n",
       "                        <td id=\"T_04a81_row11_col1\" class=\"data row11 col1\" >0.855844</td>\n",
       "                        <td id=\"T_04a81_row11_col2\" class=\"data row11 col2\" >0.845284</td>\n",
       "                        <td id=\"T_04a81_row11_col3\" class=\"data row11 col3\" >0.808578</td>\n",
       "                        <td id=\"T_04a81_row11_col4\" class=\"data row11 col4\" >0.813773</td>\n",
       "                        <td id=\"T_04a81_row11_col5\" class=\"data row11 col5\" >0.818934</td>\n",
       "                        <td id=\"T_04a81_row11_col6\" class=\"data row11 col6\" >0.818934</td>\n",
       "            </tr>\n",
       "    </tbody></table>"
      ],
      "text/plain": [
       "<pandas.io.formats.style.Styler at 0x162e71c4190>"
      ]
     },
     "execution_count": 338,
     "metadata": {},
     "output_type": "execute_result"
    }
   ],
   "source": [
    "metrical_analysis_ploy(results, 'mean_test_recall')\n",
    "metrical_analysis_ploy(results, \"mean_test_f2\")\n",
    "metrical_analysis_ploy(results, \"mean_test_f0.5\")"
   ]
  },
  {
   "cell_type": "code",
   "execution_count": null,
   "metadata": {},
   "outputs": [],
   "source": []
  },
  {
   "cell_type": "code",
   "execution_count": null,
   "metadata": {},
   "outputs": [],
   "source": []
  },
  {
   "cell_type": "markdown",
   "metadata": {},
   "source": [
    "#### Plot the surface for f2 score"
   ]
  },
  {
   "cell_type": "code",
   "execution_count": 206,
   "metadata": {
    "id": "DcHYniwHZjc0"
   },
   "outputs": [
    {
     "data": {
      "text/plain": [
       "<Figure size 1080x1080 with 0 Axes>"
      ]
     },
     "execution_count": 206,
     "metadata": {},
     "output_type": "execute_result"
    },
    {
     "data": {
      "text/plain": [
       "<mpl_toolkits.mplot3d.art3d.Poly3DCollection at 0x162e2b8deb0>"
      ]
     },
     "execution_count": 206,
     "metadata": {},
     "output_type": "execute_result"
    },
    {
     "data": {
      "text/plain": [
       "Text(0.5, 0, 'gamma')"
      ]
     },
     "execution_count": 206,
     "metadata": {},
     "output_type": "execute_result"
    },
    {
     "data": {
      "text/plain": [
       "Text(0.5, 0.5, 'C')"
      ]
     },
     "execution_count": 206,
     "metadata": {},
     "output_type": "execute_result"
    },
    {
     "data": {
      "text/plain": [
       "Text(0.5, 0, 'f2 score')"
      ]
     },
     "execution_count": 206,
     "metadata": {},
     "output_type": "execute_result"
    },
    {
     "data": {
      "image/png": "[encoded data removed]",
      "text/plain": [
       "<Figure size 1080x1080 with 1 Axes>"
      ]
     },
     "metadata": {
      "needs_background": "light"
     },
     "output_type": "display_data"
    }
   ],
   "source": [
    "results_rbf = results[results['kernel'] =='rbf'][['C',  'gamma', 'mean_test_f2']]\n",
    "plt.figure(figsize = (15, 15))\n",
    "ax = plt.axes(projection='3d')\n",
    "ax.plot_trisurf(results_rbf.gamma, results_rbf.C, results_rbf.mean_test_f2, \n",
    "                cmap = cm.coolwarm, alpha = 0.75)\n",
    "ax.set_xlabel('gamma')\n",
    "ax.set_ylabel('C')\n",
    "ax.set_zlabel('f2 score')\n",
    "ax.view_init(azim=30)    # rotation\n",
    "plt.show()"
   ]
  },
  {
   "cell_type": "markdown",
   "metadata": {},
   "source": [
    "## Building the model with Best parameters "
   ]
  },
  {
   "cell_type": "markdown",
   "metadata": {},
   "source": [
    "- As per the Detailed analysis we have understoof that the below parameters are best for the model buyilding. We have take the best parameters from tehSVM grid search and the manual analysis"
   ]
  },
  {
   "cell_type": "code",
   "execution_count": 308,
   "metadata": {},
   "outputs": [
    {
     "data": {
      "text/plain": [
       "SVC(C=10, degree=2, gamma=0.5)"
      ]
     },
     "execution_count": 308,
     "metadata": {},
     "output_type": "execute_result"
    }
   ],
   "source": [
    "svm_bestf2 = svm.SVC(C = 10, \n",
    "                     gamma = 0.5,\n",
    "                     kernel = 'rbf',degree = 2)\n",
    "                     #random_state = 0)\n",
    "svm_bestf2.fit(X_train, y_train)\n",
    "\n",
    "y_train_pred = svm_bestf2.predict(X_train)\n",
    "y_test_pred = svm_bestf2.predict(X_test)\n"
   ]
  },
  {
   "cell_type": "markdown",
   "metadata": {},
   "source": [
    "#### Confusion matrix"
   ]
  },
  {
   "cell_type": "code",
   "execution_count": 309,
   "metadata": {},
   "outputs": [
    {
     "data": {
      "text/plain": [
       "<AxesSubplot:>"
      ]
     },
     "execution_count": 309,
     "metadata": {},
     "output_type": "execute_result"
    },
    {
     "data": {
      "image/png": "[encoded data removed]",
      "text/plain": [
       "<Figure size 432x288 with 2 Axes>"
      ]
     },
     "metadata": {
      "needs_background": "light"
     },
     "output_type": "display_data"
    }
   ],
   "source": [
    "\n",
    "conf_mat_train = confusion_matrix(y_train, y_train_pred)\n",
    "cmap = sns.cubehelix_palette(50, hue=0.05, rot=0, light=0.9, dark=0, as_cmap=True)\n",
    "sns.heatmap(conf_mat_train,cmap = cmap,xticklabels=['Prediction No','Prediction Yes'],yticklabels=['Actual No','Actual Yes'], annot=True,\n",
    "            fmt='d')\n",
    "\n",
    "\n"
   ]
  },
  {
   "cell_type": "code",
   "execution_count": 311,
   "metadata": {},
   "outputs": [
    {
     "data": {
      "text/plain": [
       "array([[281,  26],\n",
       "       [ 21, 360]], dtype=int64)"
      ]
     },
     "execution_count": 311,
     "metadata": {},
     "output_type": "execute_result"
    }
   ],
   "source": [
    "conf_mat_train"
   ]
  },
  {
   "cell_type": "code",
   "execution_count": 310,
   "metadata": {},
   "outputs": [
    {
     "data": {
      "text/plain": [
       "<AxesSubplot:>"
      ]
     },
     "execution_count": 310,
     "metadata": {},
     "output_type": "execute_result"
    },
    {
     "data": {
      "image/png": "[encoded data removed]",
      "text/plain": [
       "<Figure size 432x288 with 2 Axes>"
      ]
     },
     "metadata": {
      "needs_background": "light"
     },
     "output_type": "display_data"
    }
   ],
   "source": [
    "\n",
    "\n",
    "conf_mat_test = confusion_matrix(y_test, y_test_pred)\n",
    "cmap = sns.cubehelix_palette(50, hue=0.05, rot=0, light=0.9, dark=0, as_cmap=True)\n",
    "sns.heatmap(conf_mat_test,cmap = cmap,xticklabels=['Prediction No','Prediction Yes'],yticklabels=['Actual No','Actual Yes'], annot=True,\n",
    "            fmt='d')\n"
   ]
  },
  {
   "cell_type": "code",
   "execution_count": 312,
   "metadata": {},
   "outputs": [
    {
     "name": "stdout",
     "output_type": "stream",
     "text": [
      "f2 score of training sample:  0.9183006535947713\n",
      "f2 score of test sample:  0.8073929961089493\n"
     ]
    }
   ],
   "source": [
    "## F2 Scores \n",
    "f2_train = f2_scorer(y_train, y_train_pred)\n",
    "f2_test = f2_scorer(y_test, y_test_pred)\n",
    "\n",
    "\n",
    "print('f2 score of training sample: ', f2_train)\n",
    "print('f2 score of test sample: ', f2_test)"
   ]
  },
  {
   "cell_type": "code",
   "execution_count": 313,
   "metadata": {},
   "outputs": [],
   "source": [
    "from sklearn.metrics import accuracy_score, precision_score, recall_score, f1_score\n",
    "def generate_model_report(y_actual, y_predicted):\n",
    "    print(\"Accuracy = \" , accuracy_score(y_actual, y_predicted))\n",
    "    print(\"Precision = \" ,precision_score(y_actual, y_predicted))\n",
    "    print(\"Recall = \" ,recall_score(y_actual, y_predicted))\n",
    "    print(\"F1 Score = \" ,f1_score(y_actual, y_predicted))\n",
    "    "
   ]
  },
  {
   "cell_type": "code",
   "execution_count": 314,
   "metadata": {},
   "outputs": [
    {
     "name": "stdout",
     "output_type": "stream",
     "text": [
      "Accuracy =  0.9316860465116279\n",
      "Precision =  0.9326424870466321\n",
      "Recall =  0.9448818897637795\n",
      "F1 Score =  0.9387222946544981\n"
     ]
    }
   ],
   "source": [
    "#Train Metrics\n",
    "generate_model_report(y_train, y_train_pred)"
   ]
  },
  {
   "cell_type": "code",
   "execution_count": 315,
   "metadata": {},
   "outputs": [
    {
     "name": "stdout",
     "output_type": "stream",
     "text": [
      "Accuracy =  0.8304347826086956\n",
      "Precision =  0.84375\n",
      "Recall =  0.8503937007874016\n",
      "F1 Score =  0.8470588235294119\n"
     ]
    }
   ],
   "source": [
    "#Test Metrics\n",
    "generate_model_report(y_test, y_test_pred)"
   ]
  },
  {
   "cell_type": "code",
   "execution_count": 260,
   "metadata": {
    "id": "Q3HubweI-cY7"
   },
   "outputs": [],
   "source": [
    "results.to_csv('Results_heart.csv', index=None)"
   ]
  },
  {
   "cell_type": "markdown",
   "metadata": {
    "id": "RL4Eu29Q9rHW"
   },
   "source": [
    "### End of the Notebook"
   ]
  },
  {
   "cell_type": "code",
   "execution_count": null,
   "metadata": {
    "id": "ivHkOUlY9rD-"
   },
   "outputs": [],
   "source": []
  },
  {
   "cell_type": "code",
   "execution_count": null,
   "metadata": {
    "id": "WEMquMky9q9Y"
   },
   "outputs": [],
   "source": []
  }
 ],
 "metadata": {
  "accelerator": "GPU",
  "colab": {
   "collapsed_sections": [
    "qwEQtQNNBd5h",
    "fKyiGezbBmD2"
   ],
   "name": "ML2_Assignment_2_heart.ipynb",
   "provenance": []
  },
  "kernelspec": {
   "display_name": "Python 3 (ipykernel)",
   "language": "python",
   "name": "python3"
  },
  "language_info": {
   "codemirror_mode": {
    "name": "ipython",
    "version": 3
   },
   "file_extension": ".py",
   "mimetype": "text/x-python",
   "name": "python",
   "nbconvert_exporter": "python",
   "pygments_lexer": "ipython3",
   "version": "3.8.8"
  }
 },
 "nbformat": 4,
 "nbformat_minor": 1
}
